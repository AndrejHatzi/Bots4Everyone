{
 "cells": [
  {
   "cell_type": "code",
   "execution_count": 1,
   "metadata": {},
   "outputs": [],
   "source": [
    "# -*- coding: utf-8 -*-\n",
    "from selenium import webdriver\n",
    "from selenium.webdriver.common.keys import Keys\n",
    "from time import sleep\n",
    "import re\n",
    "import os\n",
    "import time"
   ]
  },
  {
   "cell_type": "code",
   "execution_count": 2,
   "metadata": {},
   "outputs": [],
   "source": [
    "driver = webdriver.Firefox();\n",
    "driver.get(\"http://www.zerozero.pt/player_results.php?id=159904&competicao_id=3&epoca_id=147\");\n",
    "try:\n",
    "    driver.find_element_by_xpath(\"/html/body/div[1]/div/div/div[2]/button\").click();\n",
    "except:\n",
    "    pass\n",
    "driver.refresh();"
   ]
  },
  {
   "cell_type": "code",
   "execution_count": 8,
   "metadata": {},
   "outputs": [],
   "source": [
    "driver.get('http://www.zerozero.pt/jogo.php?id=5442697')"
   ]
  },
  {
   "cell_type": "code",
   "execution_count": 73,
   "metadata": {},
   "outputs": [],
   "source": [
    "def table_results():\n",
    "    fora = driver.find_element_by_xpath('//div[@class=\"away\"]//div[@class=\"team\"]').text\n",
    "    casa = driver.find_element_by_xpath('//div[@class=\"home\"]//div[@class=\"team\"]').text\n",
    "    equipa_fora_golos = driver.find_elements_by_xpath('//div[@class=\"away\"]//div[@class=\"scorers\"]//span[@class=\"time\"]')\n",
    "    equipa_casa_golos = driver.find_elements_by_xpath('//div[@class=\"home\"]//div[@class=\"scorers\"]//span[@class=\"time\"]')\n",
    "    golls_fora : list = []\n",
    "    golls_casa : list = []\n",
    "    for g in equipa_fora_golos:\n",
    "        gl : list = g.text.replace(' (g.p.)', '').replace(' (p.b.)', '').split(' ')\n",
    "        e : int\n",
    "        for e in range(len(gl)):\n",
    "            golls_fora.append(eval(gl[e]))\n",
    "        \n",
    "    for g in equipa_casa_golos:\n",
    "        gl : list = g.text.replace(' (g.p.)', '').replace(' (p.b.)', '').split(' ')\n",
    "        e : int\n",
    "        for e in range(len(gl)):\n",
    "            golls_casa.append(eval(gl[e]))\n",
    "                \n",
    "    \n",
    "    return casa, golls_casa, fora, golls_fora"
   ]
  },
  {
   "cell_type": "code",
   "execution_count": 63,
   "metadata": {},
   "outputs": [],
   "source": [
    "def goal_comparison(files, casa, goloj_casa, fora, goloj_fora):\n",
    "    gm : int = 0\n",
    "    gs : int = 0\n",
    "    if files[0] == casa:\n",
    "        print('casa')\n",
    "        for g in range(len(goloj_casa)):\n",
    "            if (goloj_casa[g] >= minutos_jogados[0]) and (goloj_casa[g] <= minutos_jogados[1]):\n",
    "                gm += 1\n",
    "        for g in range(len(goloj_fora)):\n",
    "            if (goloj_fora[g] >= minutos_jogados[0]) and (goloj_fora[g] <= minutos_jogados[1]):\n",
    "                gs += 1\n",
    "\n",
    "    elif files[0] == fora:\n",
    "        print('fora')\n",
    "        for g in range(len(goloj_casa)):\n",
    "            if (goloj_casa[g] >= minutos_jogados[0]) and (goloj_casa[g] <= minutos_jogados[1]):\n",
    "                gs += 1\n",
    "                for g in range(len(goloj_fora)):\n",
    "                    if (goloj_fora[g] >= minutos_jogados[0]) and (goloj_fora[g] <= minutos_jogados[1]):\n",
    "                        gs += 1\n",
    "            else:\n",
    "                print('Error')\n",
    "    return gm, gs\n",
    "    "
   ]
  },
  {
   "cell_type": "code",
   "execution_count": 74,
   "metadata": {},
   "outputs": [
    {
     "name": "stdout",
     "output_type": "stream",
     "text": [
      "Boavista [19] Belenenses []\n",
      "fora\n",
      "Belenenses [29, 81, 57] Portimonense [14, 39]\n",
      "casa\n",
      "Paços Ferreira [13] Belenenses [46]\n",
      "fora\n",
      "Chaves [66] Belenenses [62]\n",
      "fora\n",
      "Belenenses [10, 70] FC Porto []\n",
      "casa\n",
      "Moreirense [27, 84] Belenenses [49]\n",
      "fora\n",
      "Belenenses [] Tondela []\n",
      "casa\n",
      "V. Guimarães [] Belenenses []\n",
      "fora\n",
      "Belenenses [54] Feirense []\n",
      "casa\n",
      "Estoril Praia [] Belenenses [17, 60]\n",
      "fora\n",
      "V. Setúbal [45, 51, 64] Belenenses []\n",
      "fora\n",
      "Belenenses [86] Benfica [97]\n",
      "casa\n",
      "Belenenses [15] Boavista [90]\n",
      "casa\n",
      "Portimonense [] Belenenses []\n",
      "fora\n",
      "Braga [37, 56, 88, 95] Belenenses []\n",
      "fora\n",
      "Belenenses [81] Paços Ferreira [44]\n",
      "casa\n",
      "Belenenses [] Chaves [45]\n",
      "casa\n",
      "FC Porto [42, 90] Belenenses []\n",
      "fora\n",
      "Belenenses [21, 51, 88] Moreirense []\n",
      "casa\n",
      "Tondela [71, 86] Belenenses []\n",
      "fora\n",
      "Belenenses [26] V. Guimarães []\n",
      "casa\n",
      "Feirense [72] Belenenses [18, 30, 35, 74]\n",
      "fora\n",
      "Belenenses [73, 83] Estoril Praia [94]\n",
      "casa\n",
      "Desp. Aves [42, 54] Belenenses [25]\n",
      "fora\n",
      "Belenenses [20] V. Setúbal [81]\n",
      "casa\n",
      "Benfica [2, 90, 93, 28, 33] Belenenses []\n",
      "fora\n",
      "Error\n",
      "Error\n"
     ]
    }
   ],
   "source": [
    "\n",
    "files = os.listdir('2017_2018'); #files = Folders with team's names!\n",
    "jogadores = os.listdir('2017_2018/{}'.format(files[0]));\n",
    "path = ('2017_2018/{}/{}'.format(files[0],jogadores[0]))\n",
    "with open(path, 'r', encoding='utf-8') as f:\n",
    "    l = 0\n",
    "    for line in f:\n",
    "        dados_jogo = line.split(',')\n",
    "        driver.get(dados_jogo[0])\n",
    "        casa, goloj_casa, fora, goloj_fora = table_results()\n",
    "        print(casa, goloj_casa, fora, goloj_fora)\n",
    "        minutos_jogados = 0\n",
    "        if dados_jogo[1] == '-':\n",
    "            minutos_jogados = [0, 100]\n",
    "        elif dados_jogo[1][0] == '8':\n",
    "            get_m = dados_jogo[1].replace('\\'', '').split(' ')\n",
    "            minutos_jogados = [0, int(get_m[1])]\n",
    "        elif dados_jogo[1][0] == '7':\n",
    "            get_m = dados_jogo[1].replace('\\'', '').split(' ')\n",
    "            minutos_jogados = [int(get_m[1]), 100]\n",
    "        \n",
    "        gm : int = 0\n",
    "        gs : int = 0\n",
    "        gm, gs = goal_comparison(files, casa, goloj_casa, fora, goloj_fora)\n",
    "        tempo : int = (minutos_jogados[1] - minutos_jogados[0])\n",
    "        path_sts : str = ('2017_2018/{}/stats/{}.sts'.format(files[0],jogadores[0][:-3]))\n",
    "        t_write : str = '{},{},{}\\n'.format(gm, tempo, gs)\n",
    "        with open(path_sts , 'a', encoding='utf-8') as f:\n",
    "            f.write(t_write)"
   ]
  },
  {
   "cell_type": "code",
   "execution_count": 64,
   "metadata": {},
   "outputs": [],
   "source": [
    "#Content Test\n",
    "driver.get('http://www.zerozero.pt/jogo.php?id=5442483')"
   ]
  },
  {
   "cell_type": "code",
   "execution_count": 67,
   "metadata": {
    "scrolled": false
   },
   "outputs": [
    {
     "name": "stdout",
     "output_type": "stream",
     "text": [
      "Benfica [2, 90, 93, 28, 33] Belenenses []\n",
      "----\n",
      "fora\n",
      "Error\n",
      "Error\n",
      "0 46 3 [0, 46]\n"
     ]
    }
   ],
   "source": [
    "files = os.listdir('2017_2018')\n",
    "line = (\"http://www.zerozero.pt/jogo.php?id=5442483,8 46',D\")\n",
    "dados_jogo = line.split(',')\n",
    "casa, goloj_casa, fora, goloj_fora = table_results()\n",
    "print(casa, goloj_casa, fora, goloj_fora)\n",
    "print('----')\n",
    "minutos_jogados = 0\n",
    "if dados_jogo[1] == '-':\n",
    "    minutos_jogados = [0, 100]\n",
    "elif dados_jogo[1][0] == '8':\n",
    "    get_m = dados_jogo[1].replace('\\'', '').split(' ')\n",
    "    minutos_jogados = [0, int(get_m[1])]\n",
    "elif dados_jogo[1][0] == '7':\n",
    "    get_m = dados_jogo[1].replace('\\'', '').split(' ')\n",
    "    minutos_jogados = [int(get_m[1]), 100]\n",
    "        \n",
    "gm : int = 0\n",
    "gs : int = 0\n",
    "gm, gs = goal_comparison(files, casa, goloj_casa, fora, goloj_fora)\n",
    "tempo : int = (minutos_jogados[1] - minutos_jogados[0])\n",
    "print(gm, tempo, gs, minutos_jogados)"
   ]
  },
  {
   "cell_type": "code",
   "execution_count": 18,
   "metadata": {},
   "outputs": [],
   "source": [
    "driver.get('http://www.zerozero.pt/jogo.php?id=5442521')"
   ]
  },
  {
   "cell_type": "code",
   "execution_count": 21,
   "metadata": {},
   "outputs": [
    {
     "ename": "NoSuchElementException",
     "evalue": "Message: Unable to locate element: /html/body/div[7]/div[2]/div[6]/div/div[1]/div[1]/div/div[2]/div[2]/div[1]/div[1]/a\n",
     "output_type": "error",
     "traceback": [
      "\u001b[1;31m---------------------------------------------------------------------------\u001b[0m",
      "\u001b[1;31mNoSuchElementException\u001b[0m                    Traceback (most recent call last)",
      "\u001b[1;32m<ipython-input-21-65a1c5bb25ba>\u001b[0m in \u001b[0;36m<module>\u001b[1;34m\u001b[0m\n\u001b[1;32m----> 1\u001b[1;33m \u001b[0mcasa\u001b[0m\u001b[1;33m=\u001b[0m\u001b[0mdriver\u001b[0m\u001b[1;33m.\u001b[0m\u001b[0mfind_element_by_xpath\u001b[0m\u001b[1;33m(\u001b[0m\u001b[1;34m\"/html/body/div[7]/div[2]/div[6]/div/div[1]/div[1]/div/div[2]/div[2]/div[1]/div[1]/a\"\u001b[0m\u001b[1;33m)\u001b[0m\u001b[1;33m\u001b[0m\u001b[1;33m\u001b[0m\u001b[0m\n\u001b[0m\u001b[0;32m      2\u001b[0m \u001b[0mfora\u001b[0m\u001b[1;33m=\u001b[0m\u001b[0mdriver\u001b[0m\u001b[1;33m.\u001b[0m\u001b[0mfind_element_by_xpath\u001b[0m\u001b[1;33m(\u001b[0m\u001b[1;34m\"/html/body/div[7]/div[2]/div[6]/div/div[1]/div[1]/div/div[2]/div[2]/div[3]/div[1]/a\"\u001b[0m\u001b[1;33m)\u001b[0m\u001b[1;33m\u001b[0m\u001b[1;33m\u001b[0m\u001b[0m\n\u001b[0;32m      3\u001b[0m \u001b[0mgolos_casa\u001b[0m\u001b[1;33m=\u001b[0m\u001b[0mdriver\u001b[0m\u001b[1;33m.\u001b[0m\u001b[0mfind_elements_by_xpath\u001b[0m\u001b[1;33m(\u001b[0m\u001b[1;34m\"/html/body/div[7]/div[2]/div[6]/div/div[1]/div[1]/div/div[2]/div[2]/div[1]/div[2]/span/span/span[*]\"\u001b[0m\u001b[1;33m)\u001b[0m\u001b[1;33m\u001b[0m\u001b[1;33m\u001b[0m\u001b[0m\n\u001b[0;32m      4\u001b[0m \u001b[0mgolos_fora\u001b[0m\u001b[1;33m=\u001b[0m\u001b[0mdriver\u001b[0m\u001b[1;33m.\u001b[0m\u001b[0mfind_elements_by_xpath\u001b[0m\u001b[1;33m(\u001b[0m\u001b[1;34m\"/html/body/div[7]/div[2]/div[6]/div/div[1]/div[1]/div/div[2]/div[2]/div[3]/div[2]/span/span/span[*]\"\u001b[0m\u001b[1;33m)\u001b[0m\u001b[1;33m\u001b[0m\u001b[1;33m\u001b[0m\u001b[0m\n\u001b[0;32m      5\u001b[0m \u001b[1;33m\u001b[0m\u001b[0m\n",
      "\u001b[1;32m~\\Anaconda3\\lib\\site-packages\\selenium\\webdriver\\remote\\webdriver.py\u001b[0m in \u001b[0;36mfind_element_by_xpath\u001b[1;34m(self, xpath)\u001b[0m\n\u001b[0;32m    392\u001b[0m             \u001b[0melement\u001b[0m \u001b[1;33m=\u001b[0m \u001b[0mdriver\u001b[0m\u001b[1;33m.\u001b[0m\u001b[0mfind_element_by_xpath\u001b[0m\u001b[1;33m(\u001b[0m\u001b[1;34m'//div/td[1]'\u001b[0m\u001b[1;33m)\u001b[0m\u001b[1;33m\u001b[0m\u001b[1;33m\u001b[0m\u001b[0m\n\u001b[0;32m    393\u001b[0m         \"\"\"\n\u001b[1;32m--> 394\u001b[1;33m         \u001b[1;32mreturn\u001b[0m \u001b[0mself\u001b[0m\u001b[1;33m.\u001b[0m\u001b[0mfind_element\u001b[0m\u001b[1;33m(\u001b[0m\u001b[0mby\u001b[0m\u001b[1;33m=\u001b[0m\u001b[0mBy\u001b[0m\u001b[1;33m.\u001b[0m\u001b[0mXPATH\u001b[0m\u001b[1;33m,\u001b[0m \u001b[0mvalue\u001b[0m\u001b[1;33m=\u001b[0m\u001b[0mxpath\u001b[0m\u001b[1;33m)\u001b[0m\u001b[1;33m\u001b[0m\u001b[1;33m\u001b[0m\u001b[0m\n\u001b[0m\u001b[0;32m    395\u001b[0m \u001b[1;33m\u001b[0m\u001b[0m\n\u001b[0;32m    396\u001b[0m     \u001b[1;32mdef\u001b[0m \u001b[0mfind_elements_by_xpath\u001b[0m\u001b[1;33m(\u001b[0m\u001b[0mself\u001b[0m\u001b[1;33m,\u001b[0m \u001b[0mxpath\u001b[0m\u001b[1;33m)\u001b[0m\u001b[1;33m:\u001b[0m\u001b[1;33m\u001b[0m\u001b[1;33m\u001b[0m\u001b[0m\n",
      "\u001b[1;32m~\\Anaconda3\\lib\\site-packages\\selenium\\webdriver\\remote\\webdriver.py\u001b[0m in \u001b[0;36mfind_element\u001b[1;34m(self, by, value)\u001b[0m\n\u001b[0;32m    976\u001b[0m         return self.execute(Command.FIND_ELEMENT, {\n\u001b[0;32m    977\u001b[0m             \u001b[1;34m'using'\u001b[0m\u001b[1;33m:\u001b[0m \u001b[0mby\u001b[0m\u001b[1;33m,\u001b[0m\u001b[1;33m\u001b[0m\u001b[1;33m\u001b[0m\u001b[0m\n\u001b[1;32m--> 978\u001b[1;33m             'value': value})['value']\n\u001b[0m\u001b[0;32m    979\u001b[0m \u001b[1;33m\u001b[0m\u001b[0m\n\u001b[0;32m    980\u001b[0m     \u001b[1;32mdef\u001b[0m \u001b[0mfind_elements\u001b[0m\u001b[1;33m(\u001b[0m\u001b[0mself\u001b[0m\u001b[1;33m,\u001b[0m \u001b[0mby\u001b[0m\u001b[1;33m=\u001b[0m\u001b[0mBy\u001b[0m\u001b[1;33m.\u001b[0m\u001b[0mID\u001b[0m\u001b[1;33m,\u001b[0m \u001b[0mvalue\u001b[0m\u001b[1;33m=\u001b[0m\u001b[1;32mNone\u001b[0m\u001b[1;33m)\u001b[0m\u001b[1;33m:\u001b[0m\u001b[1;33m\u001b[0m\u001b[1;33m\u001b[0m\u001b[0m\n",
      "\u001b[1;32m~\\Anaconda3\\lib\\site-packages\\selenium\\webdriver\\remote\\webdriver.py\u001b[0m in \u001b[0;36mexecute\u001b[1;34m(self, driver_command, params)\u001b[0m\n\u001b[0;32m    319\u001b[0m         \u001b[0mresponse\u001b[0m \u001b[1;33m=\u001b[0m \u001b[0mself\u001b[0m\u001b[1;33m.\u001b[0m\u001b[0mcommand_executor\u001b[0m\u001b[1;33m.\u001b[0m\u001b[0mexecute\u001b[0m\u001b[1;33m(\u001b[0m\u001b[0mdriver_command\u001b[0m\u001b[1;33m,\u001b[0m \u001b[0mparams\u001b[0m\u001b[1;33m)\u001b[0m\u001b[1;33m\u001b[0m\u001b[1;33m\u001b[0m\u001b[0m\n\u001b[0;32m    320\u001b[0m         \u001b[1;32mif\u001b[0m \u001b[0mresponse\u001b[0m\u001b[1;33m:\u001b[0m\u001b[1;33m\u001b[0m\u001b[1;33m\u001b[0m\u001b[0m\n\u001b[1;32m--> 321\u001b[1;33m             \u001b[0mself\u001b[0m\u001b[1;33m.\u001b[0m\u001b[0merror_handler\u001b[0m\u001b[1;33m.\u001b[0m\u001b[0mcheck_response\u001b[0m\u001b[1;33m(\u001b[0m\u001b[0mresponse\u001b[0m\u001b[1;33m)\u001b[0m\u001b[1;33m\u001b[0m\u001b[1;33m\u001b[0m\u001b[0m\n\u001b[0m\u001b[0;32m    322\u001b[0m             response['value'] = self._unwrap_value(\n\u001b[0;32m    323\u001b[0m                 response.get('value', None))\n",
      "\u001b[1;32m~\\Anaconda3\\lib\\site-packages\\selenium\\webdriver\\remote\\errorhandler.py\u001b[0m in \u001b[0;36mcheck_response\u001b[1;34m(self, response)\u001b[0m\n\u001b[0;32m    240\u001b[0m                 \u001b[0malert_text\u001b[0m \u001b[1;33m=\u001b[0m \u001b[0mvalue\u001b[0m\u001b[1;33m[\u001b[0m\u001b[1;34m'alert'\u001b[0m\u001b[1;33m]\u001b[0m\u001b[1;33m.\u001b[0m\u001b[0mget\u001b[0m\u001b[1;33m(\u001b[0m\u001b[1;34m'text'\u001b[0m\u001b[1;33m)\u001b[0m\u001b[1;33m\u001b[0m\u001b[1;33m\u001b[0m\u001b[0m\n\u001b[0;32m    241\u001b[0m             \u001b[1;32mraise\u001b[0m \u001b[0mexception_class\u001b[0m\u001b[1;33m(\u001b[0m\u001b[0mmessage\u001b[0m\u001b[1;33m,\u001b[0m \u001b[0mscreen\u001b[0m\u001b[1;33m,\u001b[0m \u001b[0mstacktrace\u001b[0m\u001b[1;33m,\u001b[0m \u001b[0malert_text\u001b[0m\u001b[1;33m)\u001b[0m\u001b[1;33m\u001b[0m\u001b[1;33m\u001b[0m\u001b[0m\n\u001b[1;32m--> 242\u001b[1;33m         \u001b[1;32mraise\u001b[0m \u001b[0mexception_class\u001b[0m\u001b[1;33m(\u001b[0m\u001b[0mmessage\u001b[0m\u001b[1;33m,\u001b[0m \u001b[0mscreen\u001b[0m\u001b[1;33m,\u001b[0m \u001b[0mstacktrace\u001b[0m\u001b[1;33m)\u001b[0m\u001b[1;33m\u001b[0m\u001b[1;33m\u001b[0m\u001b[0m\n\u001b[0m\u001b[0;32m    243\u001b[0m \u001b[1;33m\u001b[0m\u001b[0m\n\u001b[0;32m    244\u001b[0m     \u001b[1;32mdef\u001b[0m \u001b[0m_value_or_default\u001b[0m\u001b[1;33m(\u001b[0m\u001b[0mself\u001b[0m\u001b[1;33m,\u001b[0m \u001b[0mobj\u001b[0m\u001b[1;33m,\u001b[0m \u001b[0mkey\u001b[0m\u001b[1;33m,\u001b[0m \u001b[0mdefault\u001b[0m\u001b[1;33m)\u001b[0m\u001b[1;33m:\u001b[0m\u001b[1;33m\u001b[0m\u001b[1;33m\u001b[0m\u001b[0m\n",
      "\u001b[1;31mNoSuchElementException\u001b[0m: Message: Unable to locate element: /html/body/div[7]/div[2]/div[6]/div/div[1]/div[1]/div/div[2]/div[2]/div[1]/div[1]/a\n"
     ]
    }
   ],
   "source": [
    "casa=driver.find_element_by_xpath(\"/html/body/div[6]/div[2]/div[6]/div/div[1]/div[1]/div/div[2]/div[2]/div[1]/div[1]/a\")\n",
    "fora=driver.find_element_by_xpath(\"/html/body/div[6]/div[2]/div[6]/div/div[1]/div[1]/div/div[2]/div[2]/div[3]/div[1]/a\")\n",
    "golos_casa=driver.find_elements_by_xpath(\"/html/body/div[7]/div[2]/div[6]/div/div[1]/div[1]/div/div[2]/div[2]/div[1]/div[2]/span/span/span[*]\")\n",
    "golos_fora=driver.find_elements_by_xpath(\"/html/body/div[7]/div[2]/div[6]/div/div[1]/div[1]/div/div[2]/div[2]/div[3]/div[2]/span/span/span[*]\")\n",
    "\n",
    "\n",
    "\n",
    "print(casa.text, fora.text, golos_casa, golos_fora)"
   ]
  },
  {
   "cell_type": "code",
   "execution_count": 59,
   "metadata": {
    "scrolled": false
   },
   "outputs": [],
   "source": [
    "\n",
    "    "
   ]
  },
  {
   "cell_type": "code",
   "execution_count": 61,
   "metadata": {},
   "outputs": [
    {
     "name": "stdout",
     "output_type": "stream",
     "text": [
      "Feirense ['72'] Belenenses ['18', '30', '35', '74']\n"
     ]
    }
   ],
   "source": [
    "print(casa, golls_casa, fora, golls_fora)"
   ]
  }
 ],
 "metadata": {
  "kernelspec": {
   "display_name": "Python 3",
   "language": "python",
   "name": "python3"
  },
  "language_info": {
   "codemirror_mode": {
    "name": "ipython",
    "version": 3
   },
   "file_extension": ".py",
   "mimetype": "text/x-python",
   "name": "python",
   "nbconvert_exporter": "python",
   "pygments_lexer": "ipython3",
   "version": "3.6.8"
  }
 },
 "nbformat": 4,
 "nbformat_minor": 2
}
