{
 "cells": [
  {
   "cell_type": "code",
   "execution_count": 13,
   "metadata": {},
   "outputs": [],
   "source": [
    "# -*- coding: utf-8 -*-\n",
    "#no futuro colocar argumento no DotheMath para ser os arquivos que compoe o nome do jogador!\n",
    "class Jogador:\n",
    "    def __init__():\n",
    "        pass\n",
    "        \n",
    "        \n",
    "    def DoTheMath():\n",
    "        gm : int = 0\n",
    "        tempo : int = 0\n",
    "        gs : int = 0\n",
    "        with open('2017_2018/Belenenses/stats/André Geraldes.sts', 'r', encoding='utf-8') as f:\n",
    "            line : str\n",
    "            for line in f:\n",
    "                dados : list = line.split(',')\n",
    "                gm += int(dados[0])\n",
    "                tempo += int(dados[1])\n",
    "                gs += int(dados[2])\n",
    "        print(gm, tempo, gs)\n",
    "        \n",
    "    "
   ]
  },
  {
   "cell_type": "code",
   "execution_count": 14,
   "metadata": {
    "scrolled": true
   },
   "outputs": [
    {
     "name": "stdout",
     "output_type": "stream",
     "text": [
      "10 2034 39\n"
     ]
    }
   ],
   "source": [
    "x = Jogador.DoTheMath()\n",
    "#formula = '100/({}*{})'"
   ]
  }
 ],
 "metadata": {
  "kernelspec": {
   "display_name": "Python 3",
   "language": "python",
   "name": "python3"
  },
  "language_info": {
   "codemirror_mode": {
    "name": "ipython",
    "version": 3
   },
   "file_extension": ".py",
   "mimetype": "text/x-python",
   "name": "python",
   "nbconvert_exporter": "python",
   "pygments_lexer": "ipython3",
   "version": "3.6.8"
  }
 },
 "nbformat": 4,
 "nbformat_minor": 2
}
