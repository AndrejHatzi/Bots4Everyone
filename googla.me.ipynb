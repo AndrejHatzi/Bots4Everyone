{
 "cells": [
  {
   "cell_type": "code",
   "execution_count": 1,
   "metadata": {},
   "outputs": [],
   "source": [
    "from selenium import webdriver\n",
    "driver= webdriver.Firefox()\n",
    "#1 , 3"
   ]
  },
  {
   "cell_type": "code",
   "execution_count": null,
   "metadata": {},
   "outputs": [],
   "source": [
    "#Places\n",
    "#Monuments\n",
    "#"
   ]
  },
  {
   "cell_type": "code",
   "execution_count": null,
   "metadata": {},
   "outputs": [],
   "source": [
    "#https://www.google.pt/search?tbm=lcl&q=restaurants+in+torres+novas"
   ]
  },
  {
   "cell_type": "code",
   "execution_count": null,
   "metadata": {},
   "outputs": [],
   "source": [
    "#what=input(\"O que é que quer procurar hoje?\")\n",
    "#where=input(\"Onde quer realizar a sua pesquisa fantástica?\")#\n",
    "#zoom=input(\"Qual o nível de zoom que deseja?\")\n",
    "#mapa= \"https://www.google.com/maps/search/{}/{},{}z\".format(what,where,zoom)\n",
    "#driver.get(\"https://www.google.pt/search?tbm=lcl&q=restaurants+near+torres+novas&start=0\")"
   ]
  },
  {
   "cell_type": "code",
   "execution_count": 2,
   "metadata": {
    "scrolled": true
   },
   "outputs": [],
   "source": [
    "driver.get(\"https://www.google.pt/search?tbm=lcl&q=restaurants+in+torres+novas\")"
   ]
  },
  {
   "cell_type": "code",
   "execution_count": 23,
   "metadata": {},
   "outputs": [],
   "source": [
    "driver.get(\"https://www.google.pt/search?tbm=lcl&q=cafe+in+Portugal\")"
   ]
  },
  {
   "cell_type": "code",
   "execution_count": 3,
   "metadata": {},
   "outputs": [],
   "source": [
    "rests=driver.find_elements_by_class_name(\"dbg0pd\")"
   ]
  },
  {
   "cell_type": "code",
   "execution_count": 4,
   "metadata": {},
   "outputs": [],
   "source": [
    "import time"
   ]
  },
  {
   "cell_type": "code",
   "execution_count": 9,
   "metadata": {},
   "outputs": [],
   "source": [
    "restos : list = [];\n",
    "i : str;\n",
    "for i in rests:\n",
    "    i.click()\n",
    "    time.sleep(1)\n",
    "    try:\n",
    "        telefone = driver.find_element_by_class_name(\"LrzXr.zdqRlf.kno-fv\");\n",
    "    except:\n",
    "        continue;\n",
    "    try:\n",
    "        nome = driver.find_element_by_class_name(\"SPZz6b\");\n",
    "    except:\n",
    "        continue;\n",
    "    try:\n",
    "        url = driver.find_element_by_class_name(\"fl\");\n",
    "    except:\n",
    "        continue;\n",
    "    try:\n",
    "        Rua = driver.find_element_by_class_name('LrzXr');\n",
    "    except:\n",
    "        \n",
    "    restos.append([nome.text,telefone.text])"
   ]
  },
  {
   "cell_type": "code",
   "execution_count": 10,
   "metadata": {},
   "outputs": [
    {
     "data": {
      "text/plain": [
       "[['Hamburgueria da Vila', '915 977 578'],\n",
       " ['Restaurante Papa-Figos', '249 405 515'],\n",
       " [\"De'Gustar Restaurante Mixology Cocktail Bar\", '249 405 100'],\n",
       " ['Atrás dos Vinhos', '249 155 050'],\n",
       " ['Rica Sandes', '249 813 293'],\n",
       " ['Komaki', '249 811 053'],\n",
       " ['Restaurante Nersant', '249 820 804'],\n",
       " ['Almonda Grill Churrasqueira', '249 812 370'],\n",
       " ['Seven Restaurante', '249 824 066'],\n",
       " ['Restaurante Hotel Torres Novas', '249 813 660'],\n",
       " ['Tasquinha Torrejana', '249 419 092'],\n",
       " ['FM Wines', '925 561 890'],\n",
       " ['Grupo Seven', '249 824 066'],\n",
       " ['Escondidinho com sabor', '964 343 689'],\n",
       " ['A TASCA Restaurante', '249 826 142'],\n",
       " ['Brasão Real', '249 145 802'],\n",
       " ['Restaurante Mário Alturas', '249 813 238'],\n",
       " ['O Mal Atilado - Restaurante', '249 821 398'],\n",
       " ['Casa do Benfica de Torres Novas', '249 812 438']]"
      ]
     },
     "execution_count": 10,
     "metadata": {},
     "output_type": "execute_result"
    }
   ],
   "source": [
    "restos"
   ]
  },
  {
   "cell_type": "code",
   "execution_count": 10,
   "metadata": {},
   "outputs": [
    {
     "name": "stdout",
     "output_type": "stream",
     "text": [
      "Quinta do Gradil\n",
      "917 791 974\n",
      "\n",
      "Hamburgueria da Vila\n",
      "915 977 578\n",
      "\n",
      "Restaurante Papa-Figos\n",
      "249 405 515\n",
      "\n",
      "De'Gustar Restaurante Mixology Cocktail Bar\n",
      "249 405 100\n",
      "\n",
      "Atrás dos Vinhos\n",
      "249 155 050\n",
      "\n",
      "Rica Sandes\n",
      "249 813 293\n",
      "\n",
      "Komaki\n",
      "249 811 053\n",
      "\n",
      "Almonda Grill Churrasqueira\n",
      "249 812 370\n",
      "\n",
      "Restaurante Nersant\n",
      "249 820 804\n",
      "\n",
      "A TASCA Restaurante\n",
      "249 826 142\n",
      "\n",
      "Seven Restaurante\n",
      "249 824 066\n",
      "\n",
      "Tasquinha Torrejana\n",
      "249 419 092\n",
      "\n",
      "Restaurante Hotel Torres Novas\n",
      "249 813 660\n",
      "\n",
      "FM Wines\n",
      "925 561 890\n",
      "\n",
      "O Mal Atilado - Restaurante\n",
      "249 821 398\n",
      "\n",
      "Grupo Seven\n",
      "249 824 066\n",
      "\n",
      "Escondidinho com sabor\n",
      "964 343 689\n",
      "\n",
      "Brasão Real\n",
      "249 145 802\n",
      "\n",
      "Restaurante Mário Alturas\n",
      "249 813 238\n",
      "\n",
      "Pizzaria Di Napoli\n",
      "249 823 874\n",
      "\n",
      "Taverna do Avô\n",
      "249 826 895\n",
      "\n"
     ]
    }
   ],
   "source": [
    "e : int;\n",
    "for e in range(len(restos)):\n",
    "    k : int;\n",
    "    for k in range(len(restos[e])):\n",
    "        try:\n",
    "            print(restos[e][k].text)\n",
    "        except:\n",
    "            print(restos[e][k])"
   ]
  },
  {
   "cell_type": "code",
   "execution_count": 6,
   "metadata": {},
   "outputs": [
    {
     "data": {
      "text/plain": [
       "[]"
      ]
     },
     "execution_count": 6,
     "metadata": {},
     "output_type": "execute_result"
    }
   ],
   "source": [
    "restos[0][2].find_elements_by_css_selector(\"*\")"
   ]
  },
  {
   "cell_type": "code",
   "execution_count": 33,
   "metadata": {},
   "outputs": [
    {
     "data": {
      "text/plain": [
       "<selenium.webdriver.firefox.webelement.FirefoxWebElement (session=\"f5c7c72f-45a1-4627-a39c-d3f616d27a11\", element=\"de4b07b3-24b9-48e9-ade5-c1ef2c71e9ce\")>"
      ]
     },
     "execution_count": 33,
     "metadata": {},
     "output_type": "execute_result"
    }
   ],
   "source": [
    "restos[0][2]"
   ]
  },
  {
   "cell_type": "code",
   "execution_count": 11,
   "metadata": {},
   "outputs": [],
   "source": [
    "cv = driver.find_elements_by_class_name('csb ch')"
   ]
  },
  {
   "cell_type": "code",
   "execution_count": 12,
   "metadata": {},
   "outputs": [
    {
     "data": {
      "text/plain": [
       "[]"
      ]
     },
     "execution_count": 12,
     "metadata": {},
     "output_type": "execute_result"
    }
   ],
   "source": [
    "cv"
   ]
  },
  {
   "cell_type": "code",
   "execution_count": null,
   "metadata": {},
   "outputs": [],
   "source": [
    "#/html/body/div[5]/div[3]/div[9]/div[1]/div[2]/div/div[2]/div[2]/div/div/div/div/div/div/div[2]/div/div/div[2]/div/table/tbody/tr/td[2]/a"
   ]
  },
  {
   "cell_type": "code",
   "execution_count": 13,
   "metadata": {},
   "outputs": [],
   "source": [
    "x = driver.find_elements_by_class_name('fl');"
   ]
  },
  {
   "cell_type": "code",
   "execution_count": 17,
   "metadata": {},
   "outputs": [],
   "source": [
    "for i in x:\n",
    "    i.text"
   ]
  },
  {
   "cell_type": "code",
   "execution_count": 22,
   "metadata": {},
   "outputs": [],
   "source": [
    "btn = driver.find_element_by_css_selector('#pnnext > span:nth-child(2)')\n",
    "btn.click()"
   ]
  },
  {
   "cell_type": "code",
   "execution_count": 29,
   "metadata": {},
   "outputs": [
    {
     "name": "stdout",
     "output_type": "stream",
     "text": [
      "20\n",
      "@a_\n",
      "20\n",
      "@a_\n",
      "20\n",
      "@a_\n",
      "20\n",
      "@a_\n",
      "18\n"
     ]
    }
   ],
   "source": [
    "restos : list = [];\n",
    "while True:\n",
    "    rests=driver.find_elements_by_class_name(\"dbg0pd\")\n",
    "    print(len(rests))\n",
    "    i : str;\n",
    "    for i in rests:\n",
    "        i.click()\n",
    "        time.sleep(1)\n",
    "        try:\n",
    "            telefone = driver.find_element_by_class_name(\"LrzXr.zdqRlf.kno-fv\");\n",
    "        except:\n",
    "            continue;\n",
    "        try:\n",
    "            nome = driver.find_element_by_class_name(\"SPZz6b\");\n",
    "        except:\n",
    "            continue;\n",
    "        restos.append([nome.text,telefone.text])\n",
    "    try:\n",
    "        btn = driver.find_element_by_css_selector('#pnnext > span:nth-child(2)');\n",
    "        btn.click();\n",
    "        time.sleep(3);\n",
    "    except:\n",
    "        break;\n",
    "    print('@a_')\n",
    "        \n",
    "        #try:\n",
    "        #    url = driver.find_element_by_class_name(\"fl\");\n",
    "        #except:\n",
    "        #    continue;\n",
    "        #try:\n",
    "        #    Rua = driver.find_element_by_class_name('LrzXr');\n",
    "        #except:\n",
    "\n",
    "        \n"
   ]
  }
 ],
 "metadata": {
  "kernelspec": {
   "display_name": "Python 3",
   "language": "python",
   "name": "python3"
  },
  "language_info": {
   "codemirror_mode": {
    "name": "ipython",
    "version": 3
   },
   "file_extension": ".py",
   "mimetype": "text/x-python",
   "name": "python",
   "nbconvert_exporter": "python",
   "pygments_lexer": "ipython3",
   "version": "3.6.8"
  }
 },
 "nbformat": 4,
 "nbformat_minor": 2
}
