{
 "cells": [
  {
   "cell_type": "code",
   "execution_count": 2,
   "metadata": {},
   "outputs": [],
   "source": [
    "# -*- coding: utf-8 -*-\n",
    "from selenium import webdriver\n",
    "from selenium.webdriver.common.keys import Keys\n",
    "from time import sleep\n",
    "import re, os"
   ]
  },
  {
   "cell_type": "code",
   "execution_count": null,
   "metadata": {},
   "outputs": [],
   "source": [
    "driver = webdriver.Firefox();\n",
    "driver.get(\"http://www.zerozero.pt/player_results.php?id=159904&competicao_id=3&epoca_id=147\");\n",
    "try:\n",
    "    driver.find_element_by_xpath(\"/html/body/div[1]/div/div/div[2]/button\").click();\n",
    "except:\n",
    "    pass\n",
    "driver.refresh();\n",
    "#Python Calculate nth Root Function (Square, Cube, Fourth...)"
   ]
  },
  {
   "cell_type": "markdown",
   "metadata": {},
   "source": [
    "# Eltiro de Ludantoj"
   ]
  },
  {
   "cell_type": "markdown",
   "metadata": {},
   "source": [
    "### Retirar Equipas"
   ]
  },
  {
   "cell_type": "code",
   "execution_count": null,
   "metadata": {},
   "outputs": [],
   "source": [
    "def get_teams():\n",
    "    try:\n",
    "        driver.find_element_by_xpath(\"/html/body/div[1]/div/div/div[2]/button\").click();\n",
    "    except:\n",
    "        pass\n",
    "    \n",
    "    #Site com equipas na tabela!\n",
    "    driver.get('http://www.zerozero.pt/edition.php?simp=0&id_edicao=109369');\n",
    "    #Refresh para retirar a publicidade!\n",
    "    driver.refresh()\n",
    "    \n",
    "    #xpath para a tabela => ¡atencao jah deve ter mudado!\n",
    "    table_ekipas=\"/html/body/div[7]/div[3]/div[6]/div[3]/div/div[3]/div[3]/table/tbody\"\n",
    "    trs=driver.find_elements_by_xpath(table_ekipas+\"/tr\") # => horizontal\n",
    "    tds=driver.find_elements_by_xpath(table_ekipas+\"/tr[1]/td\") # => vertical\n",
    "    print(len(trs), len(tds))\n",
    "    \n",
    "    #teamoj => nome de equipas, teamojn => link respectivo\n",
    "    teamoj = []\n",
    "    teamojn = []\n",
    "    for i in range(1, len(trs)+1):\n",
    "        current_team = driver.find_element_by_xpath((table_ekipas+\"/tr[{}]/td[3]/a\").format(str(i)))\n",
    "        \n",
    "        #link de cada equipa\n",
    "        current_team_link = ((current_team).get_attribute('href'))\n",
    "        equalSign = current_team_link.index('=')\n",
    "        andSign = current_team_link.index('&')\n",
    "        #extracao de ID unico de cada equipa\n",
    "        #Por exemplo http://www.zerozero.pt/equipa.php?id=7&epoca_id=147 => fica ¡7!\n",
    "        id_equipa = current_team_link[equalSign+1:andSign]\n",
    "        \n",
    "        teamoj.append(current_team) # Nome da equipa\n",
    "        teamojn.append((current_team).get_attribute('href')) # Link da equipa => para colocar em ficheiro .txt\n",
    "    for e in teamoj:\n",
    "        if not os.path.exists('2017_2018'):\n",
    "            os.makedirs('2017_2018/' + e.text)\n",
    "        else:\n",
    "            contrb = (str(e.text)+','+str((e).get_attribute('href')))\n",
    "            print('2017_2018/' + e.text + '/equipaID.link')\n",
    "            with open('2017_2018/' + e.text + '/equipaID.link', 'w+') as f:\n",
    "                f.write(contrb)\n",
    "    return teamoj,teamojn"
   ]
  },
  {
   "cell_type": "markdown",
   "metadata": {},
   "source": [
    "### RETIRAR GIOCATORI"
   ]
  },
  {
   "cell_type": "code",
   "execution_count": null,
   "metadata": {},
   "outputs": [],
   "source": [
    "def get_players(link_equipa):\n",
    "    save : list = [] #['FC Porto','Benfica','Sporting','Braga','Rio Ave','Chaves','Marítimo','Boavista','V. Guimarães','Portimonense','Tondela','Belenenses']\n",
    "    driver.get(link_equipa)\n",
    "    id_equipa = driver.current_url\n",
    "    print(id_equipa)\n",
    "    nome_equipa = driver.find_element_by_class_name('name').text\n",
    "    print(nome_equipa)\n",
    "    if nome_equipa in save:\n",
    "        return\n",
    "    equalSign = id_equipa.index('=')\n",
    "    andSign = id_equipa.index('&')\n",
    "    id_equipa = id_equipa[equalSign+1:andSign]\n",
    "    link = ('http://www.zerozero.pt/team_players.php?id={}&epoca_stats_id=147').format(id_equipa)\n",
    "    driver.get(link)\n",
    "    driver.refresh()\n",
    "    time.sleep(0.5)\n",
    "    table_ekipas = \"/html/body/div[8]/div[3]/div[6]/div[3]/div/div/table[1]/tbody/\"\n",
    "    trs=driver.find_elements_by_xpath(table_ekipas+\"/tr\") # => horizontal\n",
    "    tds=driver.find_elements_by_xpath(table_ekipas+\"/tr[1]/td\") # => vertical\n",
    "    if len(trs) == 0:\n",
    "        table_ekipas = \"/html/body/div[7]/div[3]/div[6]/div[3]/div/div/table[1]/tbody/\"\n",
    "        trs=driver.find_elements_by_xpath(table_ekipas+\"/tr\") # => horizontal\n",
    "        tds=driver.find_elements_by_xpath(table_ekipas+\"/tr[1]/td\") # => vertical\n",
    "        \n",
    "        \n",
    "    print(len(tds),len(trs))\n",
    "    for j in range(1, len(trs)+1):\n",
    "        jogador = driver.find_element_by_xpath((table_ekipas+\"/tr[{}]/td[3]/div/div[2]/a\").format(str(j)))\n",
    "        contrb = (jogador.text+','+(jogador.get_attribute('href'))+'\\n')\n",
    "        with open('2017_2018/'+nome_equipa+'/jogadores.jfo', 'a', encoding=\"utf-8\") as f:\n",
    "            f.write(contrb)"
   ]
  },
  {
   "cell_type": "markdown",
   "metadata": {},
   "source": [
    "### Juegos por Jugador"
   ]
  },
  {
   "cell_type": "code",
   "execution_count": null,
   "metadata": {},
   "outputs": [],
   "source": [
    "files = os.listdir('2017_2018')\n",
    "for e in range(16, len(files)+1):\n",
    "    print(files[e])#aqui\n",
    "    path = '2017_2018/' + files[e] + '/jogadores.jfo'; #mudar aqui\n",
    "    with open(path, 'r', encoding='utf-8') as f:\n",
    "        for line in f:\n",
    "            jogador = line.split(',')\n",
    "            if files[1] != 'FC Porto':\n",
    "                driver.get(jogador[1])\n",
    "                player_link = driver.current_url\n",
    "                equalSign = player_link.index('=')\n",
    "                id_jogador = player_link[equalSign+1:]\n",
    "                link_jogos = (('http://www.zerozero.pt/player_results.php?id={}&competicao_id=3&epoca_id=147').format(id_jogador))\n",
    "                driver.get(link_jogos)\n",
    "                #/html/body/div[8]/div[3]/div[6]/div[3]/div/div/div/div[3]/div[2]/table/tbody\n",
    "                table = '/html/body/div[6]/div[3]/div[6]/div[3]/div/div/div/div[3]/div[2]/table/tbody'\n",
    "                trs = driver.find_elements_by_xpath(table+\"/tr\") # => horizontal\n",
    "                tds = driver.find_elements_by_xpath(table+\"/tr[1]/td\") # => vertical\n",
    "                for j in range(1, len(trs)+1):\n",
    "                    try:\n",
    "                        current_game = driver.find_element_by_xpath(('/html/body/div[8]/div[3]/div[6]/div[3]/div/div/div/div[3]/div[2]/table/tbody/tr[{}]/td[7]/a').format(j));\n",
    "                        entrou_saiu = driver.find_element_by_xpath(('/html/body/div[8]/div[3]/div[6]/div[3]/div/div/div/div[3]/div[2]/table/tbody/tr[{}]/td[9]').format(j));\n",
    "                        vitderr = driver.find_element_by_xpath(('/html/body/div[8]/div[3]/div[6]/div[3]/div/div/div/div[3]/div[2]/table/tbody/tr[{}]/td[1]/div').format(j));\n",
    "                    except:\n",
    "                        try:\n",
    "                            current_game = driver.find_element_by_xpath(('/html/body/div[6]/div[3]/div[6]/div[3]/div/div/div/div[3]/div[2]/table/tbody/tr[{}]/td[7]/a').format(j));\n",
    "                            entrou_saiu = driver.find_element_by_xpath(('/html/body/div[6]/div[3]/div[6]/div[3]/div/div/div/div[3]/div[2]/table/tbody/tr[{}]/td[9]').format(j));\n",
    "                            vitderr = driver.find_element_by_xpath(('/html/body/div[6]/div[3]/div[6]/div[3]/div/div/div/div[3]/div[2]/table/tbody/tr[{}]/td[1]/div').format(j));\n",
    "                        except:\n",
    "                            pass\n",
    "                    try:\n",
    "                        current_game = driver.find_element_by_xpath(('/html/body/div[7]/div[3]/div[6]/div[3]/div/div/div/div[3]/div[2]/table/tbody/tr[{}]/td[7]/a').format(j));\n",
    "                        entrou_saiu = driver.find_element_by_xpath(('/html/body/div[7]/div[3]/div[6]/div[3]/div/div/div/div[3]/div[2]/table/tbody/tr[{}]/td[9]').format(j));\n",
    "                        vitderr = driver.find_element_by_xpath(('/html/body/div[7]/div[3]/div[6]/div[3]/div/div/div/div[3]/div[2]/table/tbody/tr[{}]/td[1]/div').format(j));\n",
    "                    except:\n",
    "                        pass\n",
    "                    contrb = (('{},{},{}\\n').format((current_game.get_attribute('href')), entrou_saiu.text, vitderr.text));\n",
    "                    print(contrb)\n",
    "                    path_folder = (('2017_2018/{}/{}.jg').format(files[e], jogador[0]))# e aqui\n",
    "                    print(jogador[0])\n",
    "                    with open(path_folder, 'a') as f:\n",
    "                        f.write(contrb)\n",
    "            else:\n",
    "                pass"
   ]
  },
  {
   "cell_type": "markdown",
   "metadata": {},
   "source": [
    "# Recenzja Gry"
   ]
  },
  {
   "cell_type": "code",
   "execution_count": null,
   "metadata": {},
   "outputs": [],
   "source": [
    "def table_results():\n",
    "    fora = driver.find_element_by_xpath('//div[@class=\"away\"]//div[@class=\"team\"]').text\n",
    "    casa = driver.find_element_by_xpath('//div[@class=\"home\"]//div[@class=\"team\"]').text\n",
    "    equipa_fora_golos = driver.find_elements_by_xpath('//div[@class=\"away\"]//div[@class=\"scorers\"]//span[@class=\"time\"]')\n",
    "    equipa_casa_golos = driver.find_elements_by_xpath('//div[@class=\"home\"]//div[@class=\"scorers\"]//span[@class=\"time\"]')\n",
    "    golls_fora : list = []\n",
    "    golls_casa : list = []\n",
    "    for g in equipa_fora_golos:\n",
    "        gl : list = g.text.replace(' (g.p.)', '').replace(' (p.b.)', '').split(' ')\n",
    "        e : int\n",
    "        for e in range(len(gl)):\n",
    "            golls_fora.append(eval(gl[e]))\n",
    "        \n",
    "    for g in equipa_casa_golos:\n",
    "        gl : list = g.text.replace(' (g.p.)', '').replace(' (p.b.)', '').split(' ')\n",
    "        e : int\n",
    "        for e in range(len(gl)):\n",
    "            golls_casa.append(eval(gl[e]))\n",
    "                \n",
    "    \n",
    "    return casa, golls_casa, fora, golls_fora"
   ]
  },
  {
   "cell_type": "code",
   "execution_count": null,
   "metadata": {},
   "outputs": [],
   "source": [
    "def goal_comparison(files, casa, goloj_casa, fora, goloj_fora):\n",
    "    gm : int = 0\n",
    "    gs : int = 0\n",
    "    if files[10] == casa:\n",
    "        print('casa')\n",
    "        for g in range(len(goloj_casa)):\n",
    "            if (goloj_casa[g] >= minutos_jogados[0]) and (goloj_casa[g] <= minutos_jogados[1]):\n",
    "                gm += 1\n",
    "        for g in range(len(goloj_fora)):\n",
    "            if (goloj_fora[g] >= minutos_jogados[0]) and (goloj_fora[g] <= minutos_jogados[1]):\n",
    "                gs += 1\n",
    "\n",
    "    elif files[10] == fora:\n",
    "        print('fora')\n",
    "        for g in range(len(goloj_casa)):\n",
    "            if (goloj_casa[g] >= minutos_jogados[0]) and (goloj_casa[g] <= minutos_jogados[1]):\n",
    "                gs += 1\n",
    "        for g in range(len(goloj_fora)):\n",
    "            if (goloj_fora[g] >= minutos_jogados[0]) and (goloj_fora[g] <= minutos_jogados[1]):\n",
    "                gm += 1\n",
    "                \n",
    "    return gm, gs"
   ]
  },
  {
   "cell_type": "markdown",
   "metadata": {},
   "source": [
    "### L'Algorithme "
   ]
  },
  {
   "cell_type": "code",
   "execution_count": null,
   "metadata": {},
   "outputs": [],
   "source": [
    "n_jogadors : int = 0\n",
    "path : str = '2017_2018/{}/jogadores.jfo'.format(files[10])\n",
    "with open(path, 'r') as f:\n",
    "    line : str\n",
    "    for line in f:\n",
    "        n_jogadors += 1\n",
    "n_jogadors\n",
    "for j in range(n_jogadors):\n",
    "    files = os.listdir('2017_2018'); #files = Folders with team's names!\n",
    "    jogadores = os.listdir('2017_2018/{}'.format(files[10]));\n",
    "    path = ('2017_2018/{}/{}'.format(files[10],jogadores[j]))\n",
    "    with open(path, 'r', encoding='utf-8') as f:\n",
    "        l = 0\n",
    "        for line in f:\n",
    "            dados_jogo = line.split(',')\n",
    "            driver.get(dados_jogo[0])\n",
    "            casa, goloj_casa, fora, goloj_fora = table_results()\n",
    "            print(casa, goloj_casa, fora, goloj_fora)\n",
    "            minutos_jogados = 0\n",
    "            if dados_jogo[1] == '-':\n",
    "                minutos_jogados = [0, 95]\n",
    "            elif dados_jogo[1][0] == '8':\n",
    "                get_m = dados_jogo[1].replace('\\'', '').split(' ')\n",
    "                minutos_jogados = [0, int(get_m[1])]\n",
    "            elif dados_jogo[1][0] == '7':\n",
    "                get_m = dados_jogo[1].replace('\\'', '').split(' ')\n",
    "                minutos_jogados = [int(get_m[1]), 95]\n",
    "\n",
    "            gm : int = 0\n",
    "            gs : int = 0\n",
    "            gm, gs = goal_comparison(files, casa, goloj_casa, fora, goloj_fora)\n",
    "            tempo : int = (minutos_jogados[1] - minutos_jogados[0])\n",
    "            path_sts : str = ('2017_2018/{}/stats/{}.sts'.format(files[10],jogadores[j][:-3]))\n",
    "            t_write : str = '{},{},{}\\n'.format(gm, tempo, gs)\n",
    "            with open(path_sts , 'a', encoding='utf-8') as f:\n",
    "                f.write(t_write)"
   ]
  },
  {
   "cell_type": "markdown",
   "metadata": {},
   "source": [
    "# From here now, there'll only be ¡TESTS!"
   ]
  },
  {
   "cell_type": "code",
   "execution_count": null,
   "metadata": {},
   "outputs": [],
   "source": []
  }
 ],
 "metadata": {
  "kernelspec": {
   "display_name": "Python 3",
   "language": "python",
   "name": "python3"
  },
  "language_info": {
   "codemirror_mode": {
    "name": "ipython",
    "version": 3
   },
   "file_extension": ".py",
   "mimetype": "text/x-python",
   "name": "python",
   "nbconvert_exporter": "python",
   "pygments_lexer": "ipython3",
   "version": "3.6.8"
  }
 },
 "nbformat": 4,
 "nbformat_minor": 2
}
