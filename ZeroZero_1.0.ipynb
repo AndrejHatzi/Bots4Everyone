{
 "cells": [
  {
   "cell_type": "code",
   "execution_count": 6,
   "metadata": {},
   "outputs": [],
   "source": [
    "# -*- coding: utf-8 -*-\n",
    "from selenium import webdriver\n",
    "from selenium.webdriver.common.keys import Keys\n",
    "from time import sleep\n",
    "import re, os\n",
    "#Pararell Computing with !kommand Args¡"
   ]
  },
  {
   "cell_type": "code",
   "execution_count": 7,
   "metadata": {},
   "outputs": [],
   "source": [
    "driver = webdriver.Firefox();\n",
    "driver.get(\"http://www.zerozero.pt/player_results.php?id=159904&competicao_id=3&epoca_id=147\");\n",
    "try:\n",
    "    driver.find_element_by_xpath(\"/html/body/div[1]/div/div/div[2]/button\").click();\n",
    "except:\n",
    "    pass\n",
    "driver.refresh();\n",
    "#Python Calculate nth Root Function (Square, Cube, Fourth...)"
   ]
  },
  {
   "cell_type": "markdown",
   "metadata": {},
   "source": [
    "# Eltiro de Ludantoj"
   ]
  },
  {
   "cell_type": "markdown",
   "metadata": {},
   "source": [
    "### Retirar Equipas"
   ]
  },
  {
   "cell_type": "code",
   "execution_count": null,
   "metadata": {},
   "outputs": [],
   "source": [
    "def get_teams():\n",
    "    try:\n",
    "        driver.find_element_by_xpath(\"/html/body/div[1]/div/div/div[2]/button\").click();\n",
    "    except:\n",
    "        pass\n",
    "    \n",
    "    #Site com equipas na tabela!\n",
    "    driver.get('http://www.zerozero.pt/edition.php?simp=0&id_edicao=109369');\n",
    "    #Refresh para retirar a publicidade!\n",
    "    driver.refresh()\n",
    "    \n",
    "    #xpath para a tabela => ¡atencao jah deve ter mudado!\n",
    "    table_ekipas=\"/html/body/div[7]/div[3]/div[6]/div[3]/div/div[3]/div[3]/table/tbody\"\n",
    "    trs=driver.find_elements_by_xpath(table_ekipas+\"/tr\") # => horizontal\n",
    "    tds=driver.find_elements_by_xpath(table_ekipas+\"/tr[1]/td\") # => vertical\n",
    "    print(len(trs), len(tds))\n",
    "    \n",
    "    #teamoj => nome de equipas, teamojn => link respectivo\n",
    "    teamoj = []\n",
    "    teamojn = []\n",
    "    for i in range(1, len(trs)+1):\n",
    "        current_team = driver.find_element_by_xpath((table_ekipas+\"/tr[{}]/td[3]/a\").format(str(i)))\n",
    "        \n",
    "        #link de cada equipa\n",
    "        current_team_link = ((current_team).get_attribute('href'))\n",
    "        equalSign = current_team_link.index('=')\n",
    "        andSign = current_team_link.index('&')\n",
    "        #extracao de ID unico de cada equipa\n",
    "        #Por exemplo http://www.zerozero.pt/equipa.php?id=7&epoca_id=147 => fica ¡7!\n",
    "        id_equipa = current_team_link[equalSign+1:andSign]\n",
    "        \n",
    "        teamoj.append(current_team) # Nome da equipa\n",
    "        teamojn.append((current_team).get_attribute('href')) # Link da equipa => para colocar em ficheiro .txt\n",
    "    for e in teamoj:\n",
    "        if not os.path.exists('2017_2018'):\n",
    "            os.makedirs('2017_2018/' + e.text)\n",
    "        else:\n",
    "            contrb = (str(e.text)+','+str((e).get_attribute('href')))\n",
    "            print('2017_2018/' + e.text + '/equipaID.link')\n",
    "            with open('2017_2018/' + e.text + '/equipaID.link', 'w+') as f:\n",
    "                f.write(contrb)\n",
    "    return teamoj,teamojn"
   ]
  },
  {
   "cell_type": "markdown",
   "metadata": {},
   "source": [
    "### RETIRAR GIOCATORI"
   ]
  },
  {
   "cell_type": "code",
   "execution_count": null,
   "metadata": {},
   "outputs": [],
   "source": [
    "def get_players(link_equipa):\n",
    "    save : list = [] #['FC Porto','Benfica','Sporting','Braga','Rio Ave','Chaves','Marítimo','Boavista','V. Guimarães','Portimonense','Tondela','Belenenses']\n",
    "    driver.get(link_equipa)\n",
    "    id_equipa = driver.current_url\n",
    "    print(id_equipa)\n",
    "    nome_equipa = driver.find_element_by_class_name('name').text\n",
    "    print(nome_equipa)\n",
    "    if nome_equipa in save:\n",
    "        return\n",
    "    equalSign = id_equipa.index('=')\n",
    "    andSign = id_equipa.index('&')\n",
    "    id_equipa = id_equipa[equalSign+1:andSign]\n",
    "    link = ('http://www.zerozero.pt/team_players.php?id={}&epoca_stats_id=147').format(id_equipa)\n",
    "    driver.get(link)\n",
    "    driver.refresh()\n",
    "    time.sleep(0.5)\n",
    "    table_ekipas = \"/html/body/div[8]/div[3]/div[6]/div[3]/div/div/table[1]/tbody/\"\n",
    "    trs=driver.find_elements_by_xpath(table_ekipas+\"/tr\") # => horizontal\n",
    "    tds=driver.find_elements_by_xpath(table_ekipas+\"/tr[1]/td\") # => vertical\n",
    "    if len(trs) == 0:\n",
    "        table_ekipas = \"/html/body/div[7]/div[3]/div[6]/div[3]/div/div/table[1]/tbody/\"\n",
    "        trs=driver.find_elements_by_xpath(table_ekipas+\"/tr\") # => horizontal\n",
    "        tds=driver.find_elements_by_xpath(table_ekipas+\"/tr[1]/td\") # => vertical\n",
    "        \n",
    "        \n",
    "    print(len(tds),len(trs))\n",
    "    for j in range(1, len(trs)+1):\n",
    "        jogador = driver.find_element_by_xpath((table_ekipas+\"/tr[{}]/td[3]/div/div[2]/a\").format(str(j)))\n",
    "        contrb = (jogador.text+','+(jogador.get_attribute('href'))+'\\n')\n",
    "        with open('2017_2018/'+nome_equipa+'/jogadores.jfo', 'a', encoding=\"utf-8\") as f:\n",
    "            f.write(contrb)"
   ]
  },
  {
   "cell_type": "markdown",
   "metadata": {},
   "source": [
    "### Juegos por Jugador"
   ]
  },
  {
   "cell_type": "code",
   "execution_count": 15,
   "metadata": {},
   "outputs": [],
   "source": [
    "files = os.listdir('2017_2018')\n",
    "def retirar_jogos_jogador() -> None:\n",
    "    for e in range(0, 3):\n",
    "        path = '2017_2018/' + files[e] + '/jogadores.jfo'; #mudar aqui\n",
    "        with open(path, 'r', encoding='utf-8') as f:\n",
    "            for line in f:\n",
    "                jogador = line.split(',')\n",
    "                if files[e] != 'FC Porto':\n",
    "                    driver.get(jogador[1])\n",
    "                    player_link = driver.current_url\n",
    "                    equalSign = player_link.index('=')\n",
    "                    id_jogador = player_link[equalSign+1:]\n",
    "                    link_jogos = (('http://www.zerozero.pt/player_results.php?id={}&competicao_id=3&epoca_id=147').format(id_jogador))\n",
    "                    driver.get(link_jogos)\n",
    "                    table = '/html/body/div[5]/div[2]/div[6]/div[3]/div/div/div/div[3]/div/table/tbody'\n",
    "                    trs = driver.find_elements_by_xpath(table+\"/tr\") # => horizontal\n",
    "                    tds = driver.find_elements_by_xpath(table+\"/tr[1]/td\") # => vertical\n",
    "\n",
    "                    #/html/body/div[5]/div[2]/div[6]/div[3]/div/div/div/div[3]/div/table/tbody/tr[1]/td[7]/a\n",
    "                    for j in range(1, len(trs)+1):\n",
    "                        try:\n",
    "                            current_game = driver.find_element_by_xpath(('/html/body/div[8]/div[3]/div[6]/div[3]/div/div/div/div[3]/div[2]/table/tbody/tr[{}]/td[7]/a').format(j));\n",
    "                            entrou_saiu = driver.find_element_by_xpath(('/html/body/div[8]/div[3]/div[6]/div[3]/div/div/div/div[3]/div[2]/table/tbody/tr[{}]/td[9]').format(j));\n",
    "                            vitderr = driver.find_element_by_xpath(('/html/body/div[8]/div[3]/div[6]/div[3]/div/div/div/div[3]/div[2]/table/tbody/tr[{}]/td[1]/div').format(j));\n",
    "                        except:\n",
    "                            pass\n",
    "                        try:\n",
    "                            current_game = driver.find_element_by_xpath(('/html/body/div[6]/div[3]/div[6]/div[3]/div/div/div/div[3]/div[2]/table/tbody/tr[{}]/td[7]/a').format(j));\n",
    "                            entrou_saiu = driver.find_element_by_xpath(('/html/body/div[6]/div[3]/div[6]/div[3]/div/div/div/div[3]/div[2]/table/tbody/tr[{}]/td[9]').format(j));\n",
    "                            vitderr = driver.find_element_by_xpath(('/html/body/div[6]/div[3]/div[6]/div[3]/div/div/div/div[3]/div[2]/table/tbody/tr[{}]/td[1]/div').format(j));\n",
    "                        except:\n",
    "                            pass\n",
    "                        try:\n",
    "                            current_game = driver.find_element_by_xpath(('/html/body/div[7]/div[3]/div[6]/div[3]/div/div/div/div[3]/div[2]/table/tbody/tr[{}]/td[7]/a').format(j));\n",
    "                            entrou_saiu = driver.find_element_by_xpath(('/html/body/div[7]/div[3]/div[6]/div[3]/div/div/div/div[3]/div[2]/table/tbody/tr[{}]/td[9]').format(j));\n",
    "                            vitderr = driver.find_element_by_xpath(('/html/body/div[7]/div[3]/div[6]/div[3]/div/div/div/div[3]/div[2]/table/tbody/tr[{}]/td[1]/div').format(j));\n",
    "                        except:\n",
    "                            pass\n",
    "\n",
    "                        try:\n",
    "                            current_game = driver.find_element_by_xpath(('/html/body/div[5]/div[2]/div[6]/div[3]/div/div/div/div[3]/div/table/tbody/tr[{}]/td[7]/a').format(j))\n",
    "                            entrou_saiu = driver.find_element_by_xpath(('/html/body/div[5]/div[2]/div[6]/div[3]/div/div/div/div[3]/div/table/tbody/tr[{}]/td[9]').format(j))\n",
    "                            tempo_jogo = driver.find_element_by_xpath(('/html/body/div[5]/div[2]/div[6]/div[3]/div/div/div/div[3]/div/table/tbody/tr[{}]/td[8]').format(j))\n",
    "                            vitderr = driver.find_element_by_xpath(('/html/body/div[5]/div[2]/div[6]/div[3]/div/div/div/div[3]/div/table/tbody/tr[{}]/td[1]/div').format(j))\n",
    "                        except:\n",
    "                            pass\n",
    "\n",
    "                        contrb = (('{},{},{},{}\\n').format((current_game.get_attribute('href')), tempo_jogo.text, entrou_saiu.text, vitderr.text));\n",
    "                        print(contrb)\n",
    "                        path_folder = (('2017_2018/{}/{}.jg').format(files[e], jogador[0]))\n",
    "                        with open(path_folder, 'a') as f:\n",
    "                            f.write(contrb)\n",
    "                else:\n",
    "                    pass"
   ]
  },
  {
   "cell_type": "code",
   "execution_count": null,
   "metadata": {},
   "outputs": [],
   "source": []
  },
  {
   "cell_type": "code",
   "execution_count": 16,
   "metadata": {},
   "outputs": [
    {
     "name": "stdout",
     "output_type": "stream",
     "text": [
      "http://www.zerozero.pt/jogo.php?id=5442759,90,-,D\n",
      "\n",
      "http://www.zerozero.pt/jogo.php?id=5442755,,,\n",
      "\n",
      "http://www.zerozero.pt/jogo.php?id=5442744,,,\n",
      "\n",
      "http://www.zerozero.pt/jogo.php?id=5442733,,,\n",
      "\n",
      "http://www.zerozero.pt/jogo.php?id=5442726,,,\n",
      "\n",
      "http://www.zerozero.pt/jogo.php?id=5442715,,,\n",
      "\n",
      "http://www.zerozero.pt/jogo.php?id=5442710,,,\n",
      "\n",
      "http://www.zerozero.pt/jogo.php?id=5442697,,,\n",
      "\n",
      "http://www.zerozero.pt/jogo.php?id=5442690,,,\n",
      "\n",
      "http://www.zerozero.pt/jogo.php?id=5442678,,,\n",
      "\n",
      "http://www.zerozero.pt/jogo.php?id=5442674,,,\n",
      "\n",
      "http://www.zerozero.pt/jogo.php?id=5442660,,,\n",
      "\n",
      "http://www.zerozero.pt/jogo.php?id=5442651,,,\n",
      "\n",
      "http://www.zerozero.pt/jogo.php?id=5442642,,,\n",
      "\n",
      "http://www.zerozero.pt/jogo.php?id=5442636,,,\n",
      "\n",
      "http://www.zerozero.pt/jogo.php?id=5442624,,,\n",
      "\n",
      "http://www.zerozero.pt/jogo.php?id=5442618,,,\n",
      "\n",
      "http://www.zerozero.pt/jogo.php?id=5442606,,,\n",
      "\n",
      "http://www.zerozero.pt/jogo.php?id=5442602,,,\n",
      "\n",
      "http://www.zerozero.pt/jogo.php?id=5442591,,,\n",
      "\n",
      "http://www.zerozero.pt/jogo.php?id=5442580,,,\n",
      "\n",
      "http://www.zerozero.pt/jogo.php?id=5442573,,,\n",
      "\n",
      "http://www.zerozero.pt/jogo.php?id=5442562,,,\n",
      "\n",
      "http://www.zerozero.pt/jogo.php?id=5442557,,,\n",
      "\n",
      "http://www.zerozero.pt/jogo.php?id=5442544,,,\n",
      "\n",
      "http://www.zerozero.pt/jogo.php?id=5442537,,,\n",
      "\n",
      "http://www.zerozero.pt/jogo.php?id=5442525,,,\n",
      "\n",
      "http://www.zerozero.pt/jogo.php?id=5442521,,,\n",
      "\n",
      "http://www.zerozero.pt/jogo.php?id=5442507,,,\n",
      "\n",
      "http://www.zerozero.pt/jogo.php?id=5442498,,,\n",
      "\n",
      "http://www.zerozero.pt/jogo.php?id=5442489,,,\n",
      "\n",
      "http://www.zerozero.pt/jogo.php?id=5442483,,,\n",
      "\n",
      "http://www.zerozero.pt/jogo.php?id=5442471,,,\n",
      "\n",
      "http://www.zerozero.pt/jogo.php?id=5442465,,,\n",
      "\n"
     ]
    },
    {
     "ename": "KeyboardInterrupt",
     "evalue": "",
     "output_type": "error",
     "traceback": [
      "\u001b[1;31m---------------------------------------------------------------------------\u001b[0m",
      "\u001b[1;31mKeyboardInterrupt\u001b[0m                         Traceback (most recent call last)",
      "\u001b[1;32m<ipython-input-16-39fb2325e1b8>\u001b[0m in \u001b[0;36m<module>\u001b[1;34m\u001b[0m\n\u001b[1;32m----> 1\u001b[1;33m \u001b[0mretirar_jogos_jogador\u001b[0m\u001b[1;33m(\u001b[0m\u001b[1;33m)\u001b[0m\u001b[1;33m\u001b[0m\u001b[1;33m\u001b[0m\u001b[0m\n\u001b[0m",
      "\u001b[1;32m<ipython-input-15-90ba9d2766b8>\u001b[0m in \u001b[0;36mretirar_jogos_jogador\u001b[1;34m()\u001b[0m\n\u001b[0;32m     49\u001b[0m                         \u001b[0mprint\u001b[0m\u001b[1;33m(\u001b[0m\u001b[0mcontrb\u001b[0m\u001b[1;33m)\u001b[0m\u001b[1;33m\u001b[0m\u001b[1;33m\u001b[0m\u001b[0m\n\u001b[0;32m     50\u001b[0m                         \u001b[0mpath_folder\u001b[0m \u001b[1;33m=\u001b[0m \u001b[1;33m(\u001b[0m\u001b[1;33m(\u001b[0m\u001b[1;34m'2017_2018/{}/{}.jg'\u001b[0m\u001b[1;33m)\u001b[0m\u001b[1;33m.\u001b[0m\u001b[0mformat\u001b[0m\u001b[1;33m(\u001b[0m\u001b[0mfiles\u001b[0m\u001b[1;33m[\u001b[0m\u001b[0me\u001b[0m\u001b[1;33m]\u001b[0m\u001b[1;33m,\u001b[0m \u001b[0mjogador\u001b[0m\u001b[1;33m[\u001b[0m\u001b[1;36m0\u001b[0m\u001b[1;33m]\u001b[0m\u001b[1;33m)\u001b[0m\u001b[1;33m)\u001b[0m\u001b[1;33m\u001b[0m\u001b[1;33m\u001b[0m\u001b[0m\n\u001b[1;32m---> 51\u001b[1;33m                         \u001b[1;32mwith\u001b[0m \u001b[0mopen\u001b[0m\u001b[1;33m(\u001b[0m\u001b[0mpath_folder\u001b[0m\u001b[1;33m,\u001b[0m \u001b[1;34m'a'\u001b[0m\u001b[1;33m)\u001b[0m \u001b[1;32mas\u001b[0m \u001b[0mf\u001b[0m\u001b[1;33m:\u001b[0m\u001b[1;33m\u001b[0m\u001b[1;33m\u001b[0m\u001b[0m\n\u001b[0m\u001b[0;32m     52\u001b[0m                             \u001b[0mf\u001b[0m\u001b[1;33m.\u001b[0m\u001b[0mwrite\u001b[0m\u001b[1;33m(\u001b[0m\u001b[0mcontrb\u001b[0m\u001b[1;33m)\u001b[0m\u001b[1;33m\u001b[0m\u001b[1;33m\u001b[0m\u001b[0m\n\u001b[0;32m     53\u001b[0m                 \u001b[1;32melse\u001b[0m\u001b[1;33m:\u001b[0m\u001b[1;33m\u001b[0m\u001b[1;33m\u001b[0m\u001b[0m\n",
      "\u001b[1;32m~\\Anaconda3\\lib\\_bootlocale.py\u001b[0m in \u001b[0;36mgetpreferredencoding\u001b[1;34m(do_setlocale)\u001b[0m\n\u001b[0;32m      9\u001b[0m \u001b[1;33m\u001b[0m\u001b[0m\n\u001b[0;32m     10\u001b[0m \u001b[1;32mif\u001b[0m \u001b[0msys\u001b[0m\u001b[1;33m.\u001b[0m\u001b[0mplatform\u001b[0m\u001b[1;33m.\u001b[0m\u001b[0mstartswith\u001b[0m\u001b[1;33m(\u001b[0m\u001b[1;34m\"win\"\u001b[0m\u001b[1;33m)\u001b[0m\u001b[1;33m:\u001b[0m\u001b[1;33m\u001b[0m\u001b[1;33m\u001b[0m\u001b[0m\n\u001b[1;32m---> 11\u001b[1;33m     \u001b[1;32mdef\u001b[0m \u001b[0mgetpreferredencoding\u001b[0m\u001b[1;33m(\u001b[0m\u001b[0mdo_setlocale\u001b[0m\u001b[1;33m=\u001b[0m\u001b[1;32mTrue\u001b[0m\u001b[1;33m)\u001b[0m\u001b[1;33m:\u001b[0m\u001b[1;33m\u001b[0m\u001b[1;33m\u001b[0m\u001b[0m\n\u001b[0m\u001b[0;32m     12\u001b[0m         \u001b[1;32mreturn\u001b[0m \u001b[0m_locale\u001b[0m\u001b[1;33m.\u001b[0m\u001b[0m_getdefaultlocale\u001b[0m\u001b[1;33m(\u001b[0m\u001b[1;33m)\u001b[0m\u001b[1;33m[\u001b[0m\u001b[1;36m1\u001b[0m\u001b[1;33m]\u001b[0m\u001b[1;33m\u001b[0m\u001b[1;33m\u001b[0m\u001b[0m\n\u001b[0;32m     13\u001b[0m \u001b[1;32melse\u001b[0m\u001b[1;33m:\u001b[0m\u001b[1;33m\u001b[0m\u001b[1;33m\u001b[0m\u001b[0m\n",
      "\u001b[1;31mKeyboardInterrupt\u001b[0m: "
     ]
    }
   ],
   "source": [
    "retirar_jogos_jogador()"
   ]
  },
  {
   "cell_type": "code",
   "execution_count": null,
   "metadata": {},
   "outputs": [],
   "source": []
  },
  {
   "cell_type": "markdown",
   "metadata": {},
   "source": [
    "# Recenzja Gry"
   ]
  },
  {
   "cell_type": "code",
   "execution_count": null,
   "metadata": {},
   "outputs": [],
   "source": [
    "def table_results():\n",
    "    fora = driver.find_element_by_xpath('//div[@class=\"away\"]//div[@class=\"team\"]').text\n",
    "    casa = driver.find_element_by_xpath('//div[@class=\"home\"]//div[@class=\"team\"]').text\n",
    "    equipa_fora_golos = driver.find_elements_by_xpath('//div[@class=\"away\"]//div[@class=\"scorers\"]//span[@class=\"time\"]')\n",
    "    equipa_casa_golos = driver.find_elements_by_xpath('//div[@class=\"home\"]//div[@class=\"scorers\"]//span[@class=\"time\"]')\n",
    "    golls_fora : list = []\n",
    "    golls_casa : list = []\n",
    "    for g in equipa_fora_golos:\n",
    "        gl : list = g.text.replace(' (g.p.)', '').replace(' (p.b.)', '').split(' ')\n",
    "        e : int\n",
    "        for e in range(len(gl)):\n",
    "            golls_fora.append(eval(gl[e]))\n",
    "        \n",
    "    for g in equipa_casa_golos:\n",
    "        gl : list = g.text.replace(' (g.p.)', '').replace(' (p.b.)', '').split(' ')\n",
    "        e : int\n",
    "        for e in range(len(gl)):\n",
    "            golls_casa.append(eval(gl[e]))\n",
    "                \n",
    "    \n",
    "    return casa, golls_casa, fora, golls_fora"
   ]
  },
  {
   "cell_type": "code",
   "execution_count": null,
   "metadata": {},
   "outputs": [],
   "source": [
    "def goal_comparison(files, casa, goloj_casa, fora, goloj_fora):\n",
    "    gm : int = 0\n",
    "    gs : int = 0\n",
    "    if files[10] == casa:\n",
    "        print('casa')\n",
    "        for g in range(len(goloj_casa)):\n",
    "            if (goloj_casa[g] >= minutos_jogados[0]) and (goloj_casa[g] <= minutos_jogados[1]):\n",
    "                gm += 1\n",
    "        for g in range(len(goloj_fora)):\n",
    "            if (goloj_fora[g] >= minutos_jogados[0]) and (goloj_fora[g] <= minutos_jogados[1]):\n",
    "                gs += 1\n",
    "\n",
    "    elif files[10] == fora:\n",
    "        print('fora')\n",
    "        for g in range(len(goloj_casa)):\n",
    "            if (goloj_casa[g] >= minutos_jogados[0]) and (goloj_casa[g] <= minutos_jogados[1]):\n",
    "                gs += 1\n",
    "        for g in range(len(goloj_fora)):\n",
    "            if (goloj_fora[g] >= minutos_jogados[0]) and (goloj_fora[g] <= minutos_jogados[1]):\n",
    "                gm += 1\n",
    "                \n",
    "    return gm, gs"
   ]
  },
  {
   "cell_type": "markdown",
   "metadata": {},
   "source": [
    "### L'Algorithme "
   ]
  },
  {
   "cell_type": "code",
   "execution_count": null,
   "metadata": {},
   "outputs": [],
   "source": [
    "n_jogadors : int = 0\n",
    "path : str = '2017_2018/{}/jogadores.jfo'.format(files[10])\n",
    "with open(path, 'r') as f:\n",
    "    line : str\n",
    "    for line in f:\n",
    "        n_jogadors += 1\n",
    "n_jogadors\n",
    "for j in range(n_jogadors):\n",
    "    files = os.listdir('2017_2018'); #files = Folders with team's names!\n",
    "    jogadores = os.listdir('2017_2018/{}'.format(files[10]));\n",
    "    path = ('2017_2018/{}/{}'.format(files[10],jogadores[j]))\n",
    "    with open(path, 'r', encoding='utf-8') as f:\n",
    "        l = 0\n",
    "        for line in f:\n",
    "            dados_jogo = line.split(',')\n",
    "            driver.get(dados_jogo[0])\n",
    "            casa, goloj_casa, fora, goloj_fora = table_results()\n",
    "            print(casa, goloj_casa, fora, goloj_fora)\n",
    "            minutos_jogados = 0\n",
    "            if dados_jogo[1] == '-':\n",
    "                minutos_jogados = [0, 95]\n",
    "            elif dados_jogo[1][0] == '8':\n",
    "                get_m = dados_jogo[1].replace('\\'', '').split(' ')\n",
    "                minutos_jogados = [0, int(get_m[1])]\n",
    "            elif dados_jogo[1][0] == '7':\n",
    "                get_m = dados_jogo[1].replace('\\'', '').split(' ')\n",
    "                minutos_jogados = [int(get_m[1]), 95]\n",
    "\n",
    "            gm : int = 0\n",
    "            gs : int = 0\n",
    "            gm, gs = goal_comparison(files, casa, goloj_casa, fora, goloj_fora)\n",
    "            tempo : int = (minutos_jogados[1] - minutos_jogados[0])\n",
    "            path_sts : str = ('2017_2018/{}/stats/{}.sts'.format(files[10],jogadores[j][:-3]))\n",
    "            t_write : str = '{},{},{}\\n'.format(gm, tempo, gs)\n",
    "            with open(path_sts , 'a', encoding='utf-8') as f:\n",
    "                f.write(t_write)"
   ]
  },
  {
   "cell_type": "markdown",
   "metadata": {},
   "source": [
    "# From now on, there'll only be ¡TESTS!"
   ]
  },
  {
   "cell_type": "code",
   "execution_count": null,
   "metadata": {},
   "outputs": [],
   "source": [
    "#=> http://www.zerozero.pt/player_results.php?id=35073&competicao_id=3&epoca_id=147"
   ]
  },
  {
   "cell_type": "code",
   "execution_count": 8,
   "metadata": {},
   "outputs": [],
   "source": [
    "driver.get('http://www.zerozero.pt/player_results.php?id=35073&competicao_id=3&epoca_id=147');"
   ]
  },
  {
   "cell_type": "code",
   "execution_count": 13,
   "metadata": {},
   "outputs": [
    {
     "name": "stdout",
     "output_type": "stream",
     "text": [
      "http://www.zerozero.pt/jogo.php?id=5442750,27,7 63',D\n",
      "\n",
      "http://www.zerozero.pt/jogo.php?id=5442747,NU,-,D\n",
      "\n",
      "http://www.zerozero.pt/jogo.php?id=5442739,NU,-,V\n",
      "\n",
      "http://www.zerozero.pt/jogo.php?id=5442730,NU,-,E\n",
      "\n",
      "http://www.zerozero.pt/jogo.php?id=5442717,NU,-,V\n",
      "\n",
      "http://www.zerozero.pt/jogo.php?id=5442682,81,8 81',V\n",
      "\n",
      "http://www.zerozero.pt/jogo.php?id=5442672,NU,-,D\n",
      "\n",
      "http://www.zerozero.pt/jogo.php?id=5442662,80,8 80',D\n",
      "\n",
      "http://www.zerozero.pt/jogo.php?id=5442653,90,-,D\n",
      "\n",
      "http://www.zerozero.pt/jogo.php?id=5442646,90,-,V\n",
      "\n",
      "http://www.zerozero.pt/jogo.php?id=5442640,63,8 63',E\n",
      "\n",
      "http://www.zerozero.pt/jogo.php?id=5442630,90,-,D\n",
      "\n",
      "http://www.zerozero.pt/jogo.php?id=5442623,45,7 46',E\n",
      "\n"
     ]
    }
   ],
   "source": [
    "table = '/html/body/div[5]/div[2]/div[6]/div[3]/div/div/div/div[3]/div/table/tbody'\n",
    "trs = driver.find_elements_by_xpath(table+\"/tr\") # => horizontal\n",
    "tds = driver.find_elements_by_xpath(table+\"/tr[1]/td\") # => vertical\n",
    "\n",
    "#/html/body/div[5]/div[2]/div[6]/div[3]/div/div/div/div[3]/div/table/tbody/tr[1]/td[7]/a\n",
    "for j in range(1, len(trs)+1):\n",
    "    try:\n",
    "        current_game = driver.find_element_by_xpath(('/html/body/div[8]/div[3]/div[6]/div[3]/div/div/div/div[3]/div[2]/table/tbody/tr[{}]/td[7]/a').format(j));\n",
    "        entrou_saiu = driver.find_element_by_xpath(('/html/body/div[8]/div[3]/div[6]/div[3]/div/div/div/div[3]/div[2]/table/tbody/tr[{}]/td[9]').format(j));\n",
    "        vitderr = driver.find_element_by_xpath(('/html/body/div[8]/div[3]/div[6]/div[3]/div/div/div/div[3]/div[2]/table/tbody/tr[{}]/td[1]/div').format(j));\n",
    "    except:\n",
    "        pass\n",
    "    try:\n",
    "        current_game = driver.find_element_by_xpath(('/html/body/div[6]/div[3]/div[6]/div[3]/div/div/div/div[3]/div[2]/table/tbody/tr[{}]/td[7]/a').format(j));\n",
    "        entrou_saiu = driver.find_element_by_xpath(('/html/body/div[6]/div[3]/div[6]/div[3]/div/div/div/div[3]/div[2]/table/tbody/tr[{}]/td[9]').format(j));\n",
    "        vitderr = driver.find_element_by_xpath(('/html/body/div[6]/div[3]/div[6]/div[3]/div/div/div/div[3]/div[2]/table/tbody/tr[{}]/td[1]/div').format(j));\n",
    "    except:\n",
    "        pass\n",
    "    try:\n",
    "        current_game = driver.find_element_by_xpath(('/html/body/div[7]/div[3]/div[6]/div[3]/div/div/div/div[3]/div[2]/table/tbody/tr[{}]/td[7]/a').format(j));\n",
    "        entrou_saiu = driver.find_element_by_xpath(('/html/body/div[7]/div[3]/div[6]/div[3]/div/div/div/div[3]/div[2]/table/tbody/tr[{}]/td[9]').format(j));\n",
    "        vitderr = driver.find_element_by_xpath(('/html/body/div[7]/div[3]/div[6]/div[3]/div/div/div/div[3]/div[2]/table/tbody/tr[{}]/td[1]/div').format(j));\n",
    "    except:\n",
    "        pass\n",
    "    \n",
    "    try:\n",
    "        #/html/body/div[5]/div[2]/div[6]/div[3]/div/div/div/div[3]/div/table/tbody/tr[1]/td[9]\n",
    "        current_game = driver.find_element_by_xpath(('/html/body/div[5]/div[2]/div[6]/div[3]/div/div/div/div[3]/div/table/tbody/tr[{}]/td[7]/a').format(j))\n",
    "        entrou_saiu = driver.find_element_by_xpath(('/html/body/div[5]/div[2]/div[6]/div[3]/div/div/div/div[3]/div/table/tbody/tr[{}]/td[9]').format(j))\n",
    "        tempo_jogo = driver.find_element_by_xpath(('/html/body/div[5]/div[2]/div[6]/div[3]/div/div/div/div[3]/div/table/tbody/tr[{}]/td[8]').format(j))\n",
    "        vitderr = driver.find_element_by_xpath(('/html/body/div[5]/div[2]/div[6]/div[3]/div/div/div/div[3]/div/table/tbody/tr[{}]/td[1]/div').format(j))\n",
    "    except:\n",
    "        pass\n",
    "                            \n",
    "    contrb = (('{},{},{},{}\\n').format((current_game.get_attribute('href')), tempo_jogo.text, entrou_saiu.text, vitderr.text));\n",
    "    print(contrb)"
   ]
  },
  {
   "cell_type": "code",
   "execution_count": 45,
   "metadata": {
    "scrolled": true
   },
   "outputs": [
    {
     "name": "stdout",
     "output_type": "stream",
     "text": [
      "43 35\n",
      "34 13\n",
      "D\n"
     ]
    }
   ],
   "source": [
    "#\n",
    "#fora = driver.find_element_by_xpath('//div[@class=\"away\"]//div[@class=\"team\"]').text\n",
    "#/html/body/div[4]/div[2]/div[6]/div[3]/div/div/div/div[3]/div/table/tbody/tr[34]/td[1]/div\n",
    "\n",
    "#/html/body/div[4]/div[2]/div[6]/div[3]/div/div/div/div[3]/div/table/tbody/tr[33]/td[1]/div\n",
    "\n",
    "#zztable stats\n",
    "table = '/html/body/div[4]/div[2]/div[6]/div[3]/div/div/div/div[3]/div/table/tbody'\n",
    "trs = driver.find_elements_by_xpath(table+\"/tr\") # => horizontal\n",
    "tds = driver.find_elements_by_xpath(table+\"/tr[1]/td\") # => vertical\n",
    "\n",
    "tr_ = driver.find_elements_by_xpath('//table/tbody/tr')\n",
    "tds_ = driver.find_elements_by_xpath('//table[@class=\"kktable.stats\"]//tbody//tr[1]//td')\n",
    "\n",
    "print(len(tr_), len(tds_))\n",
    "print(len(trs), len(tds))\n",
    "vitderr = driver.find_elements_by_xpath('//table/tbody/tr[1]/td[@class=\"form\"]')\n",
    "for e in vitderr:\n",
    "    print(e.text)\n",
    "#for e in tr:\n",
    "#    print(e.text)"
   ]
  },
  {
   "cell_type": "code",
   "execution_count": 52,
   "metadata": {},
   "outputs": [
    {
     "name": "stdout",
     "output_type": "stream",
     "text": [
      "0 0\n"
     ]
    }
   ],
   "source": [
    "#driver.find_element_by_xpath(\"//elementType[@firstAttributeTypte = 'firstAttributeValue'][@secondAttributeType='secondAttributeValue'][@thirdAttributeType='thirdAttributeValue']....\");\n",
    "row_count = len(driver.find_elements_by_xpath(\"//table[@class='zztable.stats']/tbody/tr\"))\n",
    "column_count = len(driver.find_elements_by_xpath(\"//table[@class='zztable'][@class='stats']/tbody/tr/td\"))\n",
    "\n",
    "print(row_count, column_count)"
   ]
  },
  {
   "cell_type": "code",
   "execution_count": 59,
   "metadata": {},
   "outputs": [],
   "source": [
    "driver.get('http://www.zerozero.pt/player_results.php?id=263124&competicao_id=3&epoca_id=147')"
   ]
  },
  {
   "cell_type": "code",
   "execution_count": 69,
   "metadata": {},
   "outputs": [
    {
     "name": "stdout",
     "output_type": "stream",
     "text": [
      "D http://www.zerozero.pt/jogo.php?id=5442708 23 0 8 74'\n"
     ]
    }
   ],
   "source": [
    "#=> mudar para css selectors\n",
    "vitderr = driver.find_element_by_xpath('//table/tbody/tr[1]/td[@class=\"form\"]').text\n",
    "current_game = driver.find_element_by_xpath('//table/tbody/tr[1]/td[7]/a').get_attribute('href')\n",
    "tempo_em_jogo = driver.find_element_by_xpath('//table/tbody/tr[1]/td[8]').text\n",
    "entrou_saiu = driver.find_element_by_xpath('/html/body/div/div/div/div/div/div/div/div/div/table/tbody/tr[1]/td[9]').text\n",
    "kk = driver.find_element_by_css_selector('.box_table table:nth-child(1) tbody:nth-child(2) tr:nth-child(1) td:nth-child(9)')\n",
    "#/html/body/div[4]/div[2]/div[6]/div[3]/div/div/div/div[3]/div/table/tbody/tr[1]/td[9]\n",
    "#/html/body/div[4]/div[2]/div[6]/div[3]/div/div/div/div[3]/div/table/tbody/tr[1]/td[8]\n",
    "print(vitderr, current_game, tempo_em_jogo, entrou_saiu, kk.text)\n",
    "#.box_table > table:nth-child(1) > tbody:nth-child(2) > tr:nth-child(1) > td:nth-child(9)"
   ]
  }
 ],
 "metadata": {
  "kernelspec": {
   "display_name": "Python 3",
   "language": "python",
   "name": "python3"
  },
  "language_info": {
   "codemirror_mode": {
    "name": "ipython",
    "version": 3
   },
   "file_extension": ".py",
   "mimetype": "text/x-python",
   "name": "python",
   "nbconvert_exporter": "python",
   "pygments_lexer": "ipython3",
   "version": "3.6.8"
  }
 },
 "nbformat": 4,
 "nbformat_minor": 2
}
