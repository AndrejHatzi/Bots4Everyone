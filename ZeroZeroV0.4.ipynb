{
 "cells": [
  {
   "cell_type": "code",
   "execution_count": 62,
   "metadata": {},
   "outputs": [],
   "source": [
    "from selenium import webdriver\n",
    "from selenium.webdriver.common.keys import Keys\n",
    "from time import sleep\n",
    "import re\n",
    "import os\n",
    "import time"
   ]
  },
  {
   "cell_type": "code",
   "execution_count": 55,
   "metadata": {},
   "outputs": [],
   "source": [
    "driver = webdriver.Firefox();\n",
    "driver.get(\"http://www.zerozero.pt/player_results.php?id=159904&competicao_id=3&epoca_id=147\");\n",
    "try:\n",
    "    driver.find_element_by_xpath(\"/html/body/div[1]/div/div/div[2]/button\").click();\n",
    "except:\n",
    "    pass\n",
    "driver.refresh();"
   ]
  },
  {
   "cell_type": "markdown",
   "metadata": {},
   "source": [
    "# RETIRAR EQUIPAS"
   ]
  },
  {
   "cell_type": "code",
   "execution_count": 77,
   "metadata": {},
   "outputs": [],
   "source": [
    "def get_teams():\n",
    "    driver.get('http://www.zerozero.pt/edition.php?id_edicao=109369');\n",
    "    driver.refresh()\n",
    "    #/html/body/div[8]/div[3]/div[6]/div[3]/div[1]/div[3]/div[3]/table/tbody\n",
    "    table_ekipas=\"/html/body/div[8]/div[3]/div[6]/div[3]/div[1]/div[3]/div[3]/table/tbody\"\n",
    "    trs=driver.find_elements_by_xpath(table_ekipas+\"tr\") # => horizontal\n",
    "    tds=driver.find_elements_by_xpath(table_ekipas+\"tr[1]/td\") # => vertical\n",
    "    print(len(trs), len(tds))\n",
    "    teamoj = []\n",
    "    for i in range(1, len(trs)+1):\n",
    "        current_team = driver.find_element_by_xpath((table_ekipas+\"tr[{}]/td[3]/a\").format(str(i)))\n",
    "        current_team = ((current_team).get_attribute('href'))\n",
    "        equalSign = current_team.index('=')\n",
    "        andSign = current_team.index('&')\n",
    "        id_equipa = current_team[equalSign+1:andSign]\n",
    "        print(current_team)\n",
    "        teamoj.append(current_team)\n",
    "    if not os.path.exists('2017_2018'):\n",
    "        os.mkdir('2017_2018')\n",
    "        for e in teamoj:\n",
    "            if not os.path.exists('2017_2018/' + e.text + id_equipa):\n",
    "                os.mkdir('2017_2018/' + e.text + id_equipa)\n",
    "    return teamoj"
   ]
  },
  {
   "cell_type": "code",
   "execution_count": 78,
   "metadata": {},
   "outputs": [
    {
     "name": "stdout",
     "output_type": "stream",
     "text": [
      "0 0\n",
      "[]\n"
     ]
    }
   ],
   "source": [
    "equipas = get_teams()\n",
    "print(equipas)"
   ]
  },
  {
   "cell_type": "markdown",
   "metadata": {},
   "source": [
    "# RETIRAR JOGADORES"
   ]
  },
  {
   "cell_type": "code",
   "execution_count": 64,
   "metadata": {},
   "outputs": [],
   "source": [
    "#http://www.zerozero.pt/team_players.php?id=4&epoca_stats_id=147\n",
    "#xml_equipa = {}\n",
    "def get_players(nome_equipa):\n",
    "    id_equipa = driver.current_url\n",
    "    print(id_equipa)\n",
    "    equalSign = id_equipa.index('=')\n",
    "    andSign = id_equipa.index('&')\n",
    "    id_equipa = id_equipa[equalSign+1:andSign]\n",
    "    xml_equipa[id_equipa] = []\n",
    "    link = ('http://www.zerozero.pt/team_players.php?id={}&epoca_stats_id=147').format(id_equipa)\n",
    "    driver.get(link)\n",
    "    table_ekipas=\"/html/body/div[7]/div[3]/div[6]/div[3]/div/div/table[1]/tbody/\"\n",
    "    trs=driver.find_elements_by_xpath(table_ekipas+\"tr\") # => horizontal\n",
    "    print(len(trs))\n",
    "    tds=driver.find_elements_by_xpath(table_ekipas+\"tr[1]/td\") # => vertical\n",
    "    print(len(tds))\n",
    "    for j in range(1, len(trs)+1):\n",
    "        jogador = driver.find_element_by_xpath((table_ekipas+\"tr[{}]/td[3]/div/div[2]/a\").format(str(j)))\n",
    "        xml_equipa[id_equipa].append(jogador)\n",
    "    print(xml_equipa)"
   ]
  },
  {
   "cell_type": "code",
   "execution_count": 48,
   "metadata": {},
   "outputs": [],
   "source": [
    "#players = get_players()"
   ]
  },
  {
   "cell_type": "markdown",
   "metadata": {},
   "source": [
    "# GETTING BOTH TOGETHER"
   ]
  },
  {
   "cell_type": "code",
   "execution_count": 70,
   "metadata": {},
   "outputs": [
    {
     "name": "stdout",
     "output_type": "stream",
     "text": [
      "http://www.zerozero.pt/equipa.php?id=9&epoca_id=147\n",
      "45\n",
      "14\n",
      "{'FC Porto': [<selenium.webdriver.firefox.webelement.FirefoxWebElement (session=\"ec893fe3-5edf-4d8e-867c-f7c18f139d0b\", element=\"334e73f5-c39c-4712-ae38-a31cf55c8f0c\")>, <selenium.webdriver.firefox.webelement.FirefoxWebElement (session=\"ec893fe3-5edf-4d8e-867c-f7c18f139d0b\", element=\"0559ccc8-4857-497c-8751-5bc708812032\")>, <selenium.webdriver.firefox.webelement.FirefoxWebElement (session=\"ec893fe3-5edf-4d8e-867c-f7c18f139d0b\", element=\"c4bf2956-197e-42b1-b599-7e6d272e4670\")>, <selenium.webdriver.firefox.webelement.FirefoxWebElement (session=\"ec893fe3-5edf-4d8e-867c-f7c18f139d0b\", element=\"3d07c4d2-90ae-4b26-9f2e-02fbccce533a\")>, <selenium.webdriver.firefox.webelement.FirefoxWebElement (session=\"ec893fe3-5edf-4d8e-867c-f7c18f139d0b\", element=\"e40e60ab-d235-46d6-8fc2-359036d406d6\")>, <selenium.webdriver.firefox.webelement.FirefoxWebElement (session=\"ec893fe3-5edf-4d8e-867c-f7c18f139d0b\", element=\"3e5dc347-fb96-45e4-89e9-34f0d2e706d0\")>, <selenium.webdriver.firefox.webelement.FirefoxWebElement (session=\"ec893fe3-5edf-4d8e-867c-f7c18f139d0b\", element=\"f9899121-9411-4919-b17d-8565f7f8059f\")>, <selenium.webdriver.firefox.webelement.FirefoxWebElement (session=\"ec893fe3-5edf-4d8e-867c-f7c18f139d0b\", element=\"33250b81-ae03-4f3d-ae7e-8aeb64cf9934\")>, <selenium.webdriver.firefox.webelement.FirefoxWebElement (session=\"ec893fe3-5edf-4d8e-867c-f7c18f139d0b\", element=\"bdf36750-c77e-4bd8-8c2b-85d3cf2668f2\")>, <selenium.webdriver.firefox.webelement.FirefoxWebElement (session=\"ec893fe3-5edf-4d8e-867c-f7c18f139d0b\", element=\"9ba8af0d-88e8-4374-98d3-610b9bbcb84f\")>, <selenium.webdriver.firefox.webelement.FirefoxWebElement (session=\"ec893fe3-5edf-4d8e-867c-f7c18f139d0b\", element=\"0de3c573-0af5-48cc-b2ae-733982df1282\")>, <selenium.webdriver.firefox.webelement.FirefoxWebElement (session=\"ec893fe3-5edf-4d8e-867c-f7c18f139d0b\", element=\"921ff8cb-168c-49b6-8356-a9783c6cceab\")>, <selenium.webdriver.firefox.webelement.FirefoxWebElement (session=\"ec893fe3-5edf-4d8e-867c-f7c18f139d0b\", element=\"e3808660-4edb-44c2-9455-98c890244ba2\")>, <selenium.webdriver.firefox.webelement.FirefoxWebElement (session=\"ec893fe3-5edf-4d8e-867c-f7c18f139d0b\", element=\"ff56f80b-dd95-479a-90c2-fd298676550a\")>, <selenium.webdriver.firefox.webelement.FirefoxWebElement (session=\"ec893fe3-5edf-4d8e-867c-f7c18f139d0b\", element=\"8575e455-f81a-4750-9708-65c32fcdc663\")>, <selenium.webdriver.firefox.webelement.FirefoxWebElement (session=\"ec893fe3-5edf-4d8e-867c-f7c18f139d0b\", element=\"551110bd-a765-4ab6-8dc3-65c5cc51f0f6\")>, <selenium.webdriver.firefox.webelement.FirefoxWebElement (session=\"ec893fe3-5edf-4d8e-867c-f7c18f139d0b\", element=\"3e0d6611-1524-4c31-aed4-130e7c195738\")>, <selenium.webdriver.firefox.webelement.FirefoxWebElement (session=\"ec893fe3-5edf-4d8e-867c-f7c18f139d0b\", element=\"ad8e210e-522a-405f-bc97-dadc2555db81\")>, <selenium.webdriver.firefox.webelement.FirefoxWebElement (session=\"ec893fe3-5edf-4d8e-867c-f7c18f139d0b\", element=\"7756637a-554d-4564-a725-c51af46992a1\")>, <selenium.webdriver.firefox.webelement.FirefoxWebElement (session=\"ec893fe3-5edf-4d8e-867c-f7c18f139d0b\", element=\"0798998a-8523-4ebb-b5ea-b2e60a6671f7\")>, <selenium.webdriver.firefox.webelement.FirefoxWebElement (session=\"ec893fe3-5edf-4d8e-867c-f7c18f139d0b\", element=\"15d74d06-0acb-496d-b1bb-8e8a9ca15ff6\")>, <selenium.webdriver.firefox.webelement.FirefoxWebElement (session=\"ec893fe3-5edf-4d8e-867c-f7c18f139d0b\", element=\"4a376cff-7bb2-4723-b90e-1cacee8d3e88\")>, <selenium.webdriver.firefox.webelement.FirefoxWebElement (session=\"ec893fe3-5edf-4d8e-867c-f7c18f139d0b\", element=\"b521bb55-e14d-4dd3-9344-8ec76a7775b3\")>, <selenium.webdriver.firefox.webelement.FirefoxWebElement (session=\"ec893fe3-5edf-4d8e-867c-f7c18f139d0b\", element=\"0b722d76-498c-4265-8304-74f14f03417a\")>, <selenium.webdriver.firefox.webelement.FirefoxWebElement (session=\"ec893fe3-5edf-4d8e-867c-f7c18f139d0b\", element=\"2a980a76-36ba-4068-8e23-4699824e1217\")>, <selenium.webdriver.firefox.webelement.FirefoxWebElement (session=\"ec893fe3-5edf-4d8e-867c-f7c18f139d0b\", element=\"ef0b83f5-4564-4f33-8700-58af49e1e37e\")>, <selenium.webdriver.firefox.webelement.FirefoxWebElement (session=\"ec893fe3-5edf-4d8e-867c-f7c18f139d0b\", element=\"7e606c96-30d2-4f60-9aa2-3d58c5d8cd82\")>, <selenium.webdriver.firefox.webelement.FirefoxWebElement (session=\"ec893fe3-5edf-4d8e-867c-f7c18f139d0b\", element=\"3775b4d4-7f9b-45b8-9400-f8917ae67614\")>, <selenium.webdriver.firefox.webelement.FirefoxWebElement (session=\"ec893fe3-5edf-4d8e-867c-f7c18f139d0b\", element=\"2d003c07-5400-4838-9957-17d1083335a6\")>, <selenium.webdriver.firefox.webelement.FirefoxWebElement (session=\"ec893fe3-5edf-4d8e-867c-f7c18f139d0b\", element=\"638c81b8-6fb7-43f4-91ae-3bca223a4ddd\")>, <selenium.webdriver.firefox.webelement.FirefoxWebElement (session=\"ec893fe3-5edf-4d8e-867c-f7c18f139d0b\", element=\"28d9d659-0385-40bb-ab82-519f1102eac5\")>, <selenium.webdriver.firefox.webelement.FirefoxWebElement (session=\"ec893fe3-5edf-4d8e-867c-f7c18f139d0b\", element=\"d30f738d-a2cd-4179-b745-b358fc33a3b9\")>, <selenium.webdriver.firefox.webelement.FirefoxWebElement (session=\"ec893fe3-5edf-4d8e-867c-f7c18f139d0b\", element=\"96246c99-e025-4e1c-ae46-3ba74bf97928\")>, <selenium.webdriver.firefox.webelement.FirefoxWebElement (session=\"ec893fe3-5edf-4d8e-867c-f7c18f139d0b\", element=\"950e4130-e434-4044-b9d5-33d3f810172a\")>, <selenium.webdriver.firefox.webelement.FirefoxWebElement (session=\"ec893fe3-5edf-4d8e-867c-f7c18f139d0b\", element=\"1b8b8916-7962-4367-a3a4-88ea24e3163a\")>, <selenium.webdriver.firefox.webelement.FirefoxWebElement (session=\"ec893fe3-5edf-4d8e-867c-f7c18f139d0b\", element=\"4ce4ed09-06b8-490b-98bb-d1ed63be9f63\")>, <selenium.webdriver.firefox.webelement.FirefoxWebElement (session=\"ec893fe3-5edf-4d8e-867c-f7c18f139d0b\", element=\"18b2aa26-ae09-473b-afd5-38820bfa704e\")>, <selenium.webdriver.firefox.webelement.FirefoxWebElement (session=\"ec893fe3-5edf-4d8e-867c-f7c18f139d0b\", element=\"ce31c05e-9ed1-4a1f-ae9f-55b5a412dae4\")>, <selenium.webdriver.firefox.webelement.FirefoxWebElement (session=\"ec893fe3-5edf-4d8e-867c-f7c18f139d0b\", element=\"c395f8ff-9111-41f0-b30b-8db9962a6254\")>, <selenium.webdriver.firefox.webelement.FirefoxWebElement (session=\"ec893fe3-5edf-4d8e-867c-f7c18f139d0b\", element=\"a7ec527d-3fec-4e9e-97c8-f994a4549e80\")>, <selenium.webdriver.firefox.webelement.FirefoxWebElement (session=\"ec893fe3-5edf-4d8e-867c-f7c18f139d0b\", element=\"0fe6fe9f-b923-46f3-951e-fdc270665b7b\")>, <selenium.webdriver.firefox.webelement.FirefoxWebElement (session=\"ec893fe3-5edf-4d8e-867c-f7c18f139d0b\", element=\"2e104137-4994-492d-95f4-d9bbe5439077\")>, <selenium.webdriver.firefox.webelement.FirefoxWebElement (session=\"ec893fe3-5edf-4d8e-867c-f7c18f139d0b\", element=\"ee854112-e994-4c72-b481-a86f39e78c0e\")>, <selenium.webdriver.firefox.webelement.FirefoxWebElement (session=\"ec893fe3-5edf-4d8e-867c-f7c18f139d0b\", element=\"99ae675c-ea98-411a-9dcb-8b1100ac9f75\")>, <selenium.webdriver.firefox.webelement.FirefoxWebElement (session=\"ec893fe3-5edf-4d8e-867c-f7c18f139d0b\", element=\"953d0c5c-2a7b-4dd8-8508-69e9920235c8\")>]}\n",
      "http://www.zerozero.pt/equipa.php?id=4&epoca_id=147\n",
      "48\n",
      "14\n",
      "{'FC Porto': [<selenium.webdriver.firefox.webelement.FirefoxWebElement (session=\"ec893fe3-5edf-4d8e-867c-f7c18f139d0b\", element=\"420dcda1-c9cd-450f-bcdb-035c60c700a4\")>, <selenium.webdriver.firefox.webelement.FirefoxWebElement (session=\"ec893fe3-5edf-4d8e-867c-f7c18f139d0b\", element=\"2b993de7-7316-43f7-9e57-069c88f660a9\")>, <selenium.webdriver.firefox.webelement.FirefoxWebElement (session=\"ec893fe3-5edf-4d8e-867c-f7c18f139d0b\", element=\"9a57354d-bcac-4876-83f6-aaf4c1e1273d\")>, <selenium.webdriver.firefox.webelement.FirefoxWebElement (session=\"ec893fe3-5edf-4d8e-867c-f7c18f139d0b\", element=\"aa790898-00a0-4927-9d1d-053d173a47c8\")>, <selenium.webdriver.firefox.webelement.FirefoxWebElement (session=\"ec893fe3-5edf-4d8e-867c-f7c18f139d0b\", element=\"00172afe-bc54-402b-9b2e-62bb1adb6fed\")>, <selenium.webdriver.firefox.webelement.FirefoxWebElement (session=\"ec893fe3-5edf-4d8e-867c-f7c18f139d0b\", element=\"4076a476-790c-4a11-a865-448b63632507\")>, <selenium.webdriver.firefox.webelement.FirefoxWebElement (session=\"ec893fe3-5edf-4d8e-867c-f7c18f139d0b\", element=\"58480a0e-9376-4e92-9e6b-38648ed1664b\")>, <selenium.webdriver.firefox.webelement.FirefoxWebElement (session=\"ec893fe3-5edf-4d8e-867c-f7c18f139d0b\", element=\"84980e98-677f-4377-9a25-d6bb6913406e\")>, <selenium.webdriver.firefox.webelement.FirefoxWebElement (session=\"ec893fe3-5edf-4d8e-867c-f7c18f139d0b\", element=\"1f79840c-67f2-43cb-8386-28bf6f4e4261\")>, <selenium.webdriver.firefox.webelement.FirefoxWebElement (session=\"ec893fe3-5edf-4d8e-867c-f7c18f139d0b\", element=\"366db1bc-ff31-47b3-a233-29e32de0b2e2\")>, <selenium.webdriver.firefox.webelement.FirefoxWebElement (session=\"ec893fe3-5edf-4d8e-867c-f7c18f139d0b\", element=\"dff8fd78-4a18-4fc7-a711-c63d4070396f\")>, <selenium.webdriver.firefox.webelement.FirefoxWebElement (session=\"ec893fe3-5edf-4d8e-867c-f7c18f139d0b\", element=\"10cdec4e-d9aa-42ed-8c82-2e0e788f9f10\")>, <selenium.webdriver.firefox.webelement.FirefoxWebElement (session=\"ec893fe3-5edf-4d8e-867c-f7c18f139d0b\", element=\"4c62fbe2-828c-4c16-85e3-34193a6fdc76\")>, <selenium.webdriver.firefox.webelement.FirefoxWebElement (session=\"ec893fe3-5edf-4d8e-867c-f7c18f139d0b\", element=\"7bf02057-7736-4b16-a737-95cd6598dd9d\")>, <selenium.webdriver.firefox.webelement.FirefoxWebElement (session=\"ec893fe3-5edf-4d8e-867c-f7c18f139d0b\", element=\"af259f5d-c08d-427c-962a-0453e93fe1cb\")>, <selenium.webdriver.firefox.webelement.FirefoxWebElement (session=\"ec893fe3-5edf-4d8e-867c-f7c18f139d0b\", element=\"c3d48ff9-5b5b-45b4-b64f-258f48c88ff5\")>, <selenium.webdriver.firefox.webelement.FirefoxWebElement (session=\"ec893fe3-5edf-4d8e-867c-f7c18f139d0b\", element=\"456fb098-8a6c-48a3-890a-da8d8c7088fb\")>, <selenium.webdriver.firefox.webelement.FirefoxWebElement (session=\"ec893fe3-5edf-4d8e-867c-f7c18f139d0b\", element=\"034e76a6-80e0-4edc-8412-714132d4c437\")>, <selenium.webdriver.firefox.webelement.FirefoxWebElement (session=\"ec893fe3-5edf-4d8e-867c-f7c18f139d0b\", element=\"f959edbe-1f78-4a4a-a670-41292c896108\")>, <selenium.webdriver.firefox.webelement.FirefoxWebElement (session=\"ec893fe3-5edf-4d8e-867c-f7c18f139d0b\", element=\"913521ca-0083-4765-8e18-adcc1feebf98\")>, <selenium.webdriver.firefox.webelement.FirefoxWebElement (session=\"ec893fe3-5edf-4d8e-867c-f7c18f139d0b\", element=\"2ea6f296-cd70-4362-8d79-494ad5fcb45e\")>, <selenium.webdriver.firefox.webelement.FirefoxWebElement (session=\"ec893fe3-5edf-4d8e-867c-f7c18f139d0b\", element=\"537cea88-57c0-47e0-9e79-a3485abbeb02\")>, <selenium.webdriver.firefox.webelement.FirefoxWebElement (session=\"ec893fe3-5edf-4d8e-867c-f7c18f139d0b\", element=\"21682683-6597-4a02-a743-31ca8e76c0b6\")>, <selenium.webdriver.firefox.webelement.FirefoxWebElement (session=\"ec893fe3-5edf-4d8e-867c-f7c18f139d0b\", element=\"e5432e24-f531-4dd2-9ad1-f34e20f69db2\")>, <selenium.webdriver.firefox.webelement.FirefoxWebElement (session=\"ec893fe3-5edf-4d8e-867c-f7c18f139d0b\", element=\"52698f0d-2b04-4bdd-a909-0b7b85359ae5\")>, <selenium.webdriver.firefox.webelement.FirefoxWebElement (session=\"ec893fe3-5edf-4d8e-867c-f7c18f139d0b\", element=\"0d87910b-62fe-4034-8092-09c57f62143e\")>, <selenium.webdriver.firefox.webelement.FirefoxWebElement (session=\"ec893fe3-5edf-4d8e-867c-f7c18f139d0b\", element=\"13f595cb-378b-44fe-b07c-8fc43b6ca4ba\")>, <selenium.webdriver.firefox.webelement.FirefoxWebElement (session=\"ec893fe3-5edf-4d8e-867c-f7c18f139d0b\", element=\"f1c14d34-ec79-4aa0-b833-31a98850c95c\")>, <selenium.webdriver.firefox.webelement.FirefoxWebElement (session=\"ec893fe3-5edf-4d8e-867c-f7c18f139d0b\", element=\"4d093116-3667-4bb2-9004-aed4e7c97821\")>, <selenium.webdriver.firefox.webelement.FirefoxWebElement (session=\"ec893fe3-5edf-4d8e-867c-f7c18f139d0b\", element=\"bfee2d71-9fba-4e8f-a265-c21c68f5ec70\")>, <selenium.webdriver.firefox.webelement.FirefoxWebElement (session=\"ec893fe3-5edf-4d8e-867c-f7c18f139d0b\", element=\"2fef40c9-6873-45ae-8d8c-30b9c3c7647a\")>, <selenium.webdriver.firefox.webelement.FirefoxWebElement (session=\"ec893fe3-5edf-4d8e-867c-f7c18f139d0b\", element=\"5710a7ba-b876-4aa1-9b58-1975162f3288\")>, <selenium.webdriver.firefox.webelement.FirefoxWebElement (session=\"ec893fe3-5edf-4d8e-867c-f7c18f139d0b\", element=\"0100edee-0569-4e14-b37d-9d1b4f5b520c\")>, <selenium.webdriver.firefox.webelement.FirefoxWebElement (session=\"ec893fe3-5edf-4d8e-867c-f7c18f139d0b\", element=\"fb29dcf7-5541-4977-8a43-fb0d9103662c\")>, <selenium.webdriver.firefox.webelement.FirefoxWebElement (session=\"ec893fe3-5edf-4d8e-867c-f7c18f139d0b\", element=\"9ab6f050-bfb8-4d9a-b12a-8c3fc22e20d3\")>, <selenium.webdriver.firefox.webelement.FirefoxWebElement (session=\"ec893fe3-5edf-4d8e-867c-f7c18f139d0b\", element=\"f5911728-ba28-4fd6-a895-575d74439b9a\")>, <selenium.webdriver.firefox.webelement.FirefoxWebElement (session=\"ec893fe3-5edf-4d8e-867c-f7c18f139d0b\", element=\"10257688-c401-487a-8136-c0198f1b9dcb\")>, <selenium.webdriver.firefox.webelement.FirefoxWebElement (session=\"ec893fe3-5edf-4d8e-867c-f7c18f139d0b\", element=\"a8468519-e99b-47f4-a3cf-4cd4e3118d27\")>, <selenium.webdriver.firefox.webelement.FirefoxWebElement (session=\"ec893fe3-5edf-4d8e-867c-f7c18f139d0b\", element=\"c117a668-fbac-43e6-9ed4-51a2d92b3760\")>, <selenium.webdriver.firefox.webelement.FirefoxWebElement (session=\"ec893fe3-5edf-4d8e-867c-f7c18f139d0b\", element=\"e6f7afe2-baa3-4a00-b7ad-26107a98d647\")>, <selenium.webdriver.firefox.webelement.FirefoxWebElement (session=\"ec893fe3-5edf-4d8e-867c-f7c18f139d0b\", element=\"62e61d7a-fec5-4eb3-9a2e-61c31f3df548\")>, <selenium.webdriver.firefox.webelement.FirefoxWebElement (session=\"ec893fe3-5edf-4d8e-867c-f7c18f139d0b\", element=\"ec06214b-c32e-49a7-a429-179726b7415f\")>, <selenium.webdriver.firefox.webelement.FirefoxWebElement (session=\"ec893fe3-5edf-4d8e-867c-f7c18f139d0b\", element=\"95b47357-fef5-4a05-a706-f35e6a13358c\")>, <selenium.webdriver.firefox.webelement.FirefoxWebElement (session=\"ec893fe3-5edf-4d8e-867c-f7c18f139d0b\", element=\"57f45719-b269-4a37-b095-3d1ded67405b\")>, <selenium.webdriver.firefox.webelement.FirefoxWebElement (session=\"ec893fe3-5edf-4d8e-867c-f7c18f139d0b\", element=\"32b056c6-19d9-4076-82ce-daf5d51ea0f0\")>, <selenium.webdriver.firefox.webelement.FirefoxWebElement (session=\"ec893fe3-5edf-4d8e-867c-f7c18f139d0b\", element=\"0d251ff0-c6e4-4412-92b5-69197328ebab\")>, <selenium.webdriver.firefox.webelement.FirefoxWebElement (session=\"ec893fe3-5edf-4d8e-867c-f7c18f139d0b\", element=\"55acbcb5-b3d5-4b11-983d-b2e3507a9b81\")>, <selenium.webdriver.firefox.webelement.FirefoxWebElement (session=\"ec893fe3-5edf-4d8e-867c-f7c18f139d0b\", element=\"dc4be149-23b7-450f-8361-0eedcb68d582\")>]}\n"
     ]
    },
    {
     "name": "stdout",
     "output_type": "stream",
     "text": [
      "http://www.zerozero.pt/equipa.php?id=16&epoca_id=147\n",
      "55\n",
      "14\n",
      "{'FC Porto': [<selenium.webdriver.firefox.webelement.FirefoxWebElement (session=\"ec893fe3-5edf-4d8e-867c-f7c18f139d0b\", element=\"be4fa7c9-8e9e-4dcb-afc5-f6906f2969c9\")>, <selenium.webdriver.firefox.webelement.FirefoxWebElement (session=\"ec893fe3-5edf-4d8e-867c-f7c18f139d0b\", element=\"a9e88310-6e46-4b5b-a48d-2838c04b97d4\")>, <selenium.webdriver.firefox.webelement.FirefoxWebElement (session=\"ec893fe3-5edf-4d8e-867c-f7c18f139d0b\", element=\"82041cb4-6775-4acb-a4c4-2df760074291\")>, <selenium.webdriver.firefox.webelement.FirefoxWebElement (session=\"ec893fe3-5edf-4d8e-867c-f7c18f139d0b\", element=\"b20cce26-dd2c-41c2-b138-16b8601f2c29\")>, <selenium.webdriver.firefox.webelement.FirefoxWebElement (session=\"ec893fe3-5edf-4d8e-867c-f7c18f139d0b\", element=\"10c0721f-b0d9-4f65-8391-23115f3f1301\")>, <selenium.webdriver.firefox.webelement.FirefoxWebElement (session=\"ec893fe3-5edf-4d8e-867c-f7c18f139d0b\", element=\"85c47bd9-6401-4b31-a6ed-6f7c134e5935\")>, <selenium.webdriver.firefox.webelement.FirefoxWebElement (session=\"ec893fe3-5edf-4d8e-867c-f7c18f139d0b\", element=\"34e49c8f-ab56-4f90-939c-102c4cd60a93\")>, <selenium.webdriver.firefox.webelement.FirefoxWebElement (session=\"ec893fe3-5edf-4d8e-867c-f7c18f139d0b\", element=\"b52a2387-eded-4ca0-96f8-524ac19855f3\")>, <selenium.webdriver.firefox.webelement.FirefoxWebElement (session=\"ec893fe3-5edf-4d8e-867c-f7c18f139d0b\", element=\"aa561c45-1caf-4d3f-bfe1-9ad7f480eb51\")>, <selenium.webdriver.firefox.webelement.FirefoxWebElement (session=\"ec893fe3-5edf-4d8e-867c-f7c18f139d0b\", element=\"ab49a05a-302d-4ca7-adde-3cb94408e84a\")>, <selenium.webdriver.firefox.webelement.FirefoxWebElement (session=\"ec893fe3-5edf-4d8e-867c-f7c18f139d0b\", element=\"ea3abb48-f99f-4c68-9287-feb22d4290e6\")>, <selenium.webdriver.firefox.webelement.FirefoxWebElement (session=\"ec893fe3-5edf-4d8e-867c-f7c18f139d0b\", element=\"07211cdc-400b-436d-9c0e-a8a4c7bdd2e1\")>, <selenium.webdriver.firefox.webelement.FirefoxWebElement (session=\"ec893fe3-5edf-4d8e-867c-f7c18f139d0b\", element=\"f47fd12e-063d-4b04-9fb4-b07aa387c7a3\")>, <selenium.webdriver.firefox.webelement.FirefoxWebElement (session=\"ec893fe3-5edf-4d8e-867c-f7c18f139d0b\", element=\"d565d54c-1b72-4bc4-83ad-e3f13cbf5d36\")>, <selenium.webdriver.firefox.webelement.FirefoxWebElement (session=\"ec893fe3-5edf-4d8e-867c-f7c18f139d0b\", element=\"624cb3b3-bb65-4ea3-bdb9-f5972751ecb4\")>, <selenium.webdriver.firefox.webelement.FirefoxWebElement (session=\"ec893fe3-5edf-4d8e-867c-f7c18f139d0b\", element=\"45e1dd19-c5c9-436c-b291-c6c4db85abdd\")>, <selenium.webdriver.firefox.webelement.FirefoxWebElement (session=\"ec893fe3-5edf-4d8e-867c-f7c18f139d0b\", element=\"080e18f2-79b3-4e0b-88dc-8af8679bffec\")>, <selenium.webdriver.firefox.webelement.FirefoxWebElement (session=\"ec893fe3-5edf-4d8e-867c-f7c18f139d0b\", element=\"8383774d-4c52-4005-a02c-e6462da98396\")>, <selenium.webdriver.firefox.webelement.FirefoxWebElement (session=\"ec893fe3-5edf-4d8e-867c-f7c18f139d0b\", element=\"4fe518f4-7724-447f-98d5-325f99fdf8a4\")>, <selenium.webdriver.firefox.webelement.FirefoxWebElement (session=\"ec893fe3-5edf-4d8e-867c-f7c18f139d0b\", element=\"fb187e81-ce4f-40d8-a310-7da6b408415f\")>, <selenium.webdriver.firefox.webelement.FirefoxWebElement (session=\"ec893fe3-5edf-4d8e-867c-f7c18f139d0b\", element=\"1218c5dd-8cb2-4ce2-8031-4d13bdc9a4ce\")>, <selenium.webdriver.firefox.webelement.FirefoxWebElement (session=\"ec893fe3-5edf-4d8e-867c-f7c18f139d0b\", element=\"7fac27fb-5a41-491b-9180-5683ed6f5710\")>, <selenium.webdriver.firefox.webelement.FirefoxWebElement (session=\"ec893fe3-5edf-4d8e-867c-f7c18f139d0b\", element=\"0bee759a-c6ac-45eb-a5fb-fc4ea43f1ac0\")>, <selenium.webdriver.firefox.webelement.FirefoxWebElement (session=\"ec893fe3-5edf-4d8e-867c-f7c18f139d0b\", element=\"95c49167-6e50-48c8-ac30-3ef47ddabd00\")>, <selenium.webdriver.firefox.webelement.FirefoxWebElement (session=\"ec893fe3-5edf-4d8e-867c-f7c18f139d0b\", element=\"d2bf950f-3d41-4372-a079-0b5552cbad5a\")>, <selenium.webdriver.firefox.webelement.FirefoxWebElement (session=\"ec893fe3-5edf-4d8e-867c-f7c18f139d0b\", element=\"1bc19e6c-381c-4fce-a9b4-1029ab28d1d1\")>, <selenium.webdriver.firefox.webelement.FirefoxWebElement (session=\"ec893fe3-5edf-4d8e-867c-f7c18f139d0b\", element=\"b5f635a4-73f8-4d05-9443-fc7a55bbfc92\")>, <selenium.webdriver.firefox.webelement.FirefoxWebElement (session=\"ec893fe3-5edf-4d8e-867c-f7c18f139d0b\", element=\"338028b8-5de8-4ca2-940f-0059de7f855a\")>, <selenium.webdriver.firefox.webelement.FirefoxWebElement (session=\"ec893fe3-5edf-4d8e-867c-f7c18f139d0b\", element=\"fdbaaa57-503d-4211-a6ec-588ef1090d9d\")>, <selenium.webdriver.firefox.webelement.FirefoxWebElement (session=\"ec893fe3-5edf-4d8e-867c-f7c18f139d0b\", element=\"c45c3be3-600b-4955-8d6b-df5ba4484cbb\")>, <selenium.webdriver.firefox.webelement.FirefoxWebElement (session=\"ec893fe3-5edf-4d8e-867c-f7c18f139d0b\", element=\"8edeebe6-9fc3-4897-9c53-5e71ccec5f17\")>, <selenium.webdriver.firefox.webelement.FirefoxWebElement (session=\"ec893fe3-5edf-4d8e-867c-f7c18f139d0b\", element=\"c5b78c22-d6db-4db5-bdf2-70cbf89348d1\")>, <selenium.webdriver.firefox.webelement.FirefoxWebElement (session=\"ec893fe3-5edf-4d8e-867c-f7c18f139d0b\", element=\"95b824ea-eda3-4aed-9382-3262372b88f0\")>, <selenium.webdriver.firefox.webelement.FirefoxWebElement (session=\"ec893fe3-5edf-4d8e-867c-f7c18f139d0b\", element=\"9b9feb69-452b-49ce-9c59-c729eecd46d4\")>, <selenium.webdriver.firefox.webelement.FirefoxWebElement (session=\"ec893fe3-5edf-4d8e-867c-f7c18f139d0b\", element=\"3da4bd2b-f8b2-44bb-9845-baff35791b12\")>, <selenium.webdriver.firefox.webelement.FirefoxWebElement (session=\"ec893fe3-5edf-4d8e-867c-f7c18f139d0b\", element=\"b56ad698-c75a-4e39-ac6c-9ae87517f066\")>, <selenium.webdriver.firefox.webelement.FirefoxWebElement (session=\"ec893fe3-5edf-4d8e-867c-f7c18f139d0b\", element=\"a0ae758f-0af0-4f15-96d9-38e14ec86e5d\")>, <selenium.webdriver.firefox.webelement.FirefoxWebElement (session=\"ec893fe3-5edf-4d8e-867c-f7c18f139d0b\", element=\"0107a765-191b-4c06-8a50-5ac90508baa7\")>, <selenium.webdriver.firefox.webelement.FirefoxWebElement (session=\"ec893fe3-5edf-4d8e-867c-f7c18f139d0b\", element=\"82cc71a4-ced9-4286-9169-cd38d5018273\")>, <selenium.webdriver.firefox.webelement.FirefoxWebElement (session=\"ec893fe3-5edf-4d8e-867c-f7c18f139d0b\", element=\"45460dd3-6a49-4c16-bda8-20749d819636\")>, <selenium.webdriver.firefox.webelement.FirefoxWebElement (session=\"ec893fe3-5edf-4d8e-867c-f7c18f139d0b\", element=\"d44bc014-3c34-484b-8189-0b9c2e5ce32c\")>, <selenium.webdriver.firefox.webelement.FirefoxWebElement (session=\"ec893fe3-5edf-4d8e-867c-f7c18f139d0b\", element=\"268ef3e4-3749-44bb-953f-64da9896c676\")>, <selenium.webdriver.firefox.webelement.FirefoxWebElement (session=\"ec893fe3-5edf-4d8e-867c-f7c18f139d0b\", element=\"4273cbb2-40ce-4a62-ad85-0e0c9a42c96e\")>, <selenium.webdriver.firefox.webelement.FirefoxWebElement (session=\"ec893fe3-5edf-4d8e-867c-f7c18f139d0b\", element=\"7f5b414a-ef75-469f-af2b-77c75af038d6\")>, <selenium.webdriver.firefox.webelement.FirefoxWebElement (session=\"ec893fe3-5edf-4d8e-867c-f7c18f139d0b\", element=\"baba0fe2-245c-42ba-be9d-527b9bae5bcb\")>, <selenium.webdriver.firefox.webelement.FirefoxWebElement (session=\"ec893fe3-5edf-4d8e-867c-f7c18f139d0b\", element=\"588f9fda-a057-4d07-9e12-fccd65863151\")>, <selenium.webdriver.firefox.webelement.FirefoxWebElement (session=\"ec893fe3-5edf-4d8e-867c-f7c18f139d0b\", element=\"df812f01-4b3f-4308-a273-f6bad25fc46e\")>, <selenium.webdriver.firefox.webelement.FirefoxWebElement (session=\"ec893fe3-5edf-4d8e-867c-f7c18f139d0b\", element=\"61e16e1d-5791-4202-bfbe-85a1ea98f134\")>, <selenium.webdriver.firefox.webelement.FirefoxWebElement (session=\"ec893fe3-5edf-4d8e-867c-f7c18f139d0b\", element=\"ef4a5600-5c48-4f6c-a057-666488bf547a\")>, <selenium.webdriver.firefox.webelement.FirefoxWebElement (session=\"ec893fe3-5edf-4d8e-867c-f7c18f139d0b\", element=\"e504ad5e-b7fa-4cf7-9eab-b84f3451b45a\")>, <selenium.webdriver.firefox.webelement.FirefoxWebElement (session=\"ec893fe3-5edf-4d8e-867c-f7c18f139d0b\", element=\"d7cb3464-25e7-4dff-9dc0-2bccff7e7cbf\")>, <selenium.webdriver.firefox.webelement.FirefoxWebElement (session=\"ec893fe3-5edf-4d8e-867c-f7c18f139d0b\", element=\"228c03b4-a41b-4e04-bf9a-aa4ad6fb398e\")>, <selenium.webdriver.firefox.webelement.FirefoxWebElement (session=\"ec893fe3-5edf-4d8e-867c-f7c18f139d0b\", element=\"4f031f23-2b1d-429e-887e-59d7a7efab5a\")>, <selenium.webdriver.firefox.webelement.FirefoxWebElement (session=\"ec893fe3-5edf-4d8e-867c-f7c18f139d0b\", element=\"b4aae219-0732-4bea-ba32-9bf61f746f82\")>, <selenium.webdriver.firefox.webelement.FirefoxWebElement (session=\"ec893fe3-5edf-4d8e-867c-f7c18f139d0b\", element=\"026d877c-df34-46eb-b1fd-26ebf645396c\")>]}\n"
     ]
    },
    {
     "name": "stderr",
     "output_type": "stream",
     "text": [
      "ERROR:root:Internal Python error in the inspect module.\n",
      "Below is the traceback from this internal error.\n",
      "\n",
      "\n",
      "KeyboardInterrupt\n",
      "\n"
     ]
    }
   ],
   "source": [
    "equipas = get_teams()\n",
    "xml_equipa = {}\n",
    "for i in range(len(equipas)):\n",
    "    driver.get(equipas[i])\n",
    "    nome_equipa = \n",
    "    get_players(nome_equipa)\n",
    "print(xml_equipa)    "
   ]
  },
  {
   "cell_type": "code",
   "execution_count": 60,
   "metadata": {},
   "outputs": [],
   "source": [
    "driver.execute_script(\"window.history.go(-1)\")"
   ]
  }
 ],
 "metadata": {
  "kernelspec": {
   "display_name": "Python 3",
   "language": "python",
   "name": "python3"
  },
  "language_info": {
   "codemirror_mode": {
    "name": "ipython",
    "version": 3
   },
   "file_extension": ".py",
   "mimetype": "text/x-python",
   "name": "python",
   "nbconvert_exporter": "python",
   "pygments_lexer": "ipython3",
   "version": "3.6.5"
  }
 },
 "nbformat": 4,
 "nbformat_minor": 2
}
