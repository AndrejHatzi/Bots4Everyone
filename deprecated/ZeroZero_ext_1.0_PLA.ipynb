{
 "cells": [
  {
   "cell_type": "code",
   "execution_count": 1,
   "metadata": {},
   "outputs": [],
   "source": [
    "import os"
   ]
  },
  {
   "cell_type": "code",
   "execution_count": 5,
   "metadata": {},
   "outputs": [],
   "source": [
    "files : list = os.listdir('2017_2018')\n",
    "files = os.listdir('2017_2018/{}'.format(files[0]))"
   ]
  },
  {
   "cell_type": "code",
   "execution_count": 6,
   "metadata": {
    "scrolled": true
   },
   "outputs": [
    {
     "name": "stdout",
     "output_type": "stream",
     "text": [
      "['André Geraldes.jg', 'André Moreira.jg', 'André Sousa.jg', 'Benny.jg', 'Bouba Saré.jg', 'Bruno Pereirinha.jg', 'Cleylton.jg', 'Diogo Viana.jg', 'equipaID.link', 'Femi Balogun.jg', 'Filipe Chaby.jg', 'Filipe Mendes.jg', 'Florent Hanin.jg', 'Fredy.jg', 'Gonçalo Silva.jg', 'Hassan Yebda.jg', 'Jesús Hernández.jg', 'jogadores.jfo', 'João Diogo.jg', 'Juanto Ortuño.jg', 'Licá.jg', 'Marko Bakic.jg', 'Maurides.jg', 'Merlin Tandjigora.jg', 'Miguel Rosa.jg', 'Muriel Becker.jg', 'Nathan.jg', 'Nuno Tomás.jg', 'Ricardo Fernandes.jg', 'Robert Persson.jg', 'Roni Rodrigues.jg', 'stats', 'Tiago Caeiro.jg', 'Vincent Sasso.jg', 'Yazalde.jg']\n"
     ]
    }
   ],
   "source": [
    "print(files)"
   ]
  },
  {
   "cell_type": "code",
   "execution_count": 29,
   "metadata": {},
   "outputs": [
    {
     "name": "stdout",
     "output_type": "stream",
     "text": [
      "@break\n",
      "['D', 'http://www.zerozero.pt/jogo.php?id=5442759', '-', 'NU', '1543\\n']\n",
      "@break\n",
      "['V', 'http://www.zerozero.pt/jogo.php?id=5442755', '-', 'NU', '900\\n']\n",
      "@break\n",
      "['D', 'http://www.zerozero.pt/jogo.php?id=5442759', \"8 65'\", '65', '2173\\n']\n",
      "@break\n",
      "['D', 'http://www.zerozero.pt/jogo.php?id=5442759', '-', 'NU', '824\\n']\n",
      "@break\n",
      "['D', 'http://www.zerozero.pt/jogo.php?id=5442759', '-', '90', '873\\n']\n",
      "@break\n",
      "['D', 'http://www.zerozero.pt/jogo.php?id=5442759', '-', '42', '783\\n']\n",
      "@break\n",
      "['D', 'http://www.zerozero.pt/jogo.php?id=5442759', '-', '90', '168\\n']\n",
      "@break\n",
      "['D', 'http://www.zerozero.pt/jogo.php?id=5442744', \"8 70'\", '70', '2258\\n']\n",
      "@break\n",
      "['E', 'http://www.zerozero.pt/jogo.php?id=5442489', \"7 59'\", '31', '63\\n']\n",
      "@break\n",
      "['D', 'http://www.zerozero.pt/jogo.php?id=5442759', \"7 65'\", '25', '847\\n']\n",
      "@break\n",
      "['D', 'http://www.zerozero.pt/jogo.php?id=5442697', '-', '90', '660\\n']\n",
      "@break\n",
      "['D', 'http://www.zerozero.pt/jogo.php?id=5442759', '-', '90', '3060\\n']\n",
      "@break\n",
      "['D', 'http://www.zerozero.pt/jogo.php?id=5442759', '-', '90', '1614\\n']\n",
      "@break\n",
      "['D', 'http://www.zerozero.pt/jogo.php?id=5442759', '-', '90', '2880\\n']\n",
      "@break\n",
      "['V', 'http://www.zerozero.pt/jogo.php?id=5442755', '-', 'NU', '2000\\n']\n",
      "@break\n",
      "['D', 'http://www.zerozero.pt/jogo.php?id=5442591', '-', '90', '268\\n']\n",
      "@break\n",
      "['D', 'http://www.zerozero.pt/jogo.php?id=5442465', '-', 'NU', '0\\n']\n",
      "@break\n",
      "['D', 'http://www.zerozero.pt/jogo.php?id=5442465', \"8 60'\", '60', '60\\n']\n",
      "@break\n",
      "['D', 'http://www.zerozero.pt/jogo.php?id=5442759', '-', '90', '1121\\n']\n",
      "@break\n",
      "['E', 'http://www.zerozero.pt/jogo.php?id=5442733', \"8 85'\", '85', '894\\n']\n",
      "@break\n",
      "['D', 'http://www.zerozero.pt/jogo.php?id=5442759', \"8 46'\", '45', '2218\\n']\n",
      "@break\n",
      "['V', 'http://www.zerozero.pt/jogo.php?id=5442525', \"8 82'\", '82', '603\\n']\n",
      "@break\n",
      "['D', 'http://www.zerozero.pt/jogo.php?id=5442591', '-', 'NU', '91\\n']\n",
      "@break\n",
      "['D', 'http://www.zerozero.pt/jogo.php?id=5442759', \"8 82'\", '82', '1492\\n']\n",
      "@break\n",
      "['D', 'http://www.zerozero.pt/jogo.php?id=5442759', \"7 46'\", '45', '495\\n']\n",
      "@break\n",
      "['V', 'http://www.zerozero.pt/jogo.php?id=5442755', '-', '90', '2349\\n']\n",
      "@break\n",
      "['D', 'http://www.zerozero.pt/jogo.php?id=5442759', \"7 82'\", '8', '8\\n']\n",
      "@break\n",
      "['D', 'http://www.zerozero.pt/jogo.php?id=5442759', '-', '90', '932\\n']\n",
      "@break\n",
      "['E', 'http://www.zerozero.pt/jogo.php?id=5442602', '-', 'NU', '346\\n']\n",
      "@break\n",
      "['D', 'http://www.zerozero.pt/jogo.php?id=5442759', '-', 'NU', '511\\n']\n",
      "@break\n",
      "['D', 'http://www.zerozero.pt/jogo.php?id=5442759', '-', 'NU', '1342\\n']\n",
      "@break\n",
      "['D', 'http://www.zerozero.pt/jogo.php?id=5442726', \"8 46'\", '45', '211\\n']\n"
     ]
    },
    {
     "data": {
      "text/plain": [
       "\"\\n                jinfo : list = line.split(',')\\n                jinfo : str = jinfo[-1].replace('\\n', '')\\n                try:\\n                    jpp : str = files[i].replace('.jg', '.sts')\\n                    sts_path : str = ('2017_2018/Belenenses/stats/{}'.format(jpp))\\n                    with open(sts_path, 'r') as f:\\n                        line : str\\n                        for line in f:\\n                            print(line)\\n                            sts : list = line.split(',')\\n                            gm += int(sts[0])\\n                            gs += int(sts[-1])\\n                            break\\n                except:\\n                    print('@erro', files[i])\\n    print(files[i], jinfo, gm, gs)\\n\""
      ]
     },
     "execution_count": 29,
     "metadata": {},
     "output_type": "execute_result"
    }
   ],
   "source": [
    "i : int;\n",
    "to_exclude : list = ['equipaID.link', 'jogadores.jfo', 'stats'];\n",
    "gm : int = 0;\n",
    "gs : int = 0;\n",
    "for i in range(len(files)):\n",
    "    if files[i] not in to_exclude:\n",
    "        path_jg = '2017_2018/Belenenses/{}'.format(files[i]);\n",
    "        with open(path_jg, 'r') as f:\n",
    "            line : str\n",
    "            l : int = 0\n",
    "            for line in f:\n",
    "                jinfo = line.split(',')\n",
    "                l += 1\n",
    "                if l > 0:\n",
    "                    print('@break')\n",
    "                    break\n",
    "            print(jinfo)\n",
    "                \n",
    "        #with open(path_jg, 'r') as f:\n",
    "            #line = f.seek(0)\n",
    "            #print(line)\n",
    "'''\n",
    "                jinfo : list = line.split(',')\n",
    "                jinfo : str = jinfo[-1].replace('\\n', '')\n",
    "                try:\n",
    "                    jpp : str = files[i].replace('.jg', '.sts')\n",
    "                    sts_path : str = ('2017_2018/Belenenses/stats/{}'.format(jpp))\n",
    "                    with open(sts_path, 'r') as f:\n",
    "                        line : str\n",
    "                        for line in f:\n",
    "                            print(line)\n",
    "                            sts : list = line.split(',')\n",
    "                            gm += int(sts[0])\n",
    "                            gs += int(sts[-1])\n",
    "                            break\n",
    "                except:\n",
    "                    print('@erro', files[i])\n",
    "    print(files[i], jinfo, gm, gs)\n",
    "'''\n",
    "                \n",
    "                "
   ]
  }
 ],
 "metadata": {
  "kernelspec": {
   "display_name": "Python 3",
   "language": "python",
   "name": "python3"
  },
  "language_info": {
   "codemirror_mode": {
    "name": "ipython",
    "version": 3
   },
   "file_extension": ".py",
   "mimetype": "text/x-python",
   "name": "python",
   "nbconvert_exporter": "python",
   "pygments_lexer": "ipython3",
   "version": "3.6.8"
  }
 },
 "nbformat": 4,
 "nbformat_minor": 2
}
