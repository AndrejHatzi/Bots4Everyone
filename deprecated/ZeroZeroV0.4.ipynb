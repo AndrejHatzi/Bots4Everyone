{
 "cells": [
  {
   "cell_type": "code",
   "execution_count": 1,
   "metadata": {},
   "outputs": [],
   "source": [
    "from selenium import webdriver\n",
    "from selenium.webdriver.common.keys import Keys\n",
    "from time import sleep\n",
    "import re\n",
    "import os\n",
    "import time"
   ]
  },
  {
   "cell_type": "code",
   "execution_count": 2,
   "metadata": {},
   "outputs": [],
   "source": [
    "driver = webdriver.Firefox();\n",
    "driver.get(\"http://www.zerozero.pt/player_results.php?id=159904&competicao_id=3&epoca_id=147\");\n",
    "try:\n",
    "    driver.find_element_by_xpath(\"/html/body/div[1]/div/div/div[2]/button\").click();\n",
    "except:\n",
    "    pass\n",
    "driver.refresh();"
   ]
  },
  {
   "cell_type": "markdown",
   "metadata": {},
   "source": [
    "# RETIRAR EQUIPAS"
   ]
  },
  {
   "cell_type": "code",
   "execution_count": 66,
   "metadata": {},
   "outputs": [],
   "source": [
    "def get_teams():\n",
    "    try:\n",
    "        driver.find_element_by_xpath(\"/html/body/div[1]/div/div/div[2]/button\").click();\n",
    "    except:\n",
    "        pass\n",
    "    #driver.refresh();\n",
    "    driver.get('http://www.zerozero.pt/edition.php?simp=0&id_edicao=109369');\n",
    "    driver.refresh()\n",
    "    table_ekipas=\"/html/body/div[7]/div[3]/div[6]/div[3]/div/div[3]/div[3]/table/tbody\"\n",
    "    trs=driver.find_elements_by_xpath(table_ekipas+\"/tr\") # => horizontal\n",
    "    tds=driver.find_elements_by_xpath(table_ekipas+\"/tr[1]/td\") # => vertical\n",
    "    print(len(trs), len(tds))\n",
    "    teamoj = []\n",
    "    teamojn = []\n",
    "    for i in range(1, len(trs)+1):\n",
    "        current_team = driver.find_element_by_xpath((table_ekipas+\"/tr[{}]/td[3]/a\").format(str(i)))\n",
    "        current_team_link = ((current_team).get_attribute('href'))\n",
    "        equalSign = current_team_link.index('=')\n",
    "        andSign = current_team_link.index('&')\n",
    "        id_equipa = current_team_link[equalSign+1:andSign]\n",
    "        #print(current_team)\n",
    "        teamoj.append(current_team)\n",
    "        teamojn.append((current_team).get_attribute('href'))\n",
    "    for e in teamoj:\n",
    "        #print(e.text, (e).get_attribute('href'))\n",
    "        if not os.path.exists('2017_2018'):\n",
    "            os.makedirs('2017_2018/' + e.text)\n",
    "        else:\n",
    "            contrb = (str(e.text)+','+str((e).get_attribute('href')))\n",
    "            print('2017_2018/' + e.text + '/equipaID.link')\n",
    "            with open('2017_2018/' + e.text + '/equipaID.link', 'w+') as f:\n",
    "                f.write(contrb)\n",
    "    return teamoj,teamojn"
   ]
  },
  {
   "cell_type": "code",
   "execution_count": 67,
   "metadata": {},
   "outputs": [
    {
     "name": "stdout",
     "output_type": "stream",
     "text": [
      "18 26\n",
      "2017_2018/FC Porto/equipaID.link\n",
      "2017_2018/Benfica/equipaID.link\n",
      "2017_2018/Sporting/equipaID.link\n",
      "2017_2018/Braga/equipaID.link\n",
      "2017_2018/Rio Ave/equipaID.link\n",
      "2017_2018/Chaves/equipaID.link\n",
      "2017_2018/Marítimo/equipaID.link\n",
      "2017_2018/Boavista/equipaID.link\n",
      "2017_2018/V. Guimarães/equipaID.link\n",
      "2017_2018/Portimonense/equipaID.link\n",
      "2017_2018/Tondela/equipaID.link\n",
      "2017_2018/Belenenses/equipaID.link\n",
      "2017_2018/Desp. Aves/equipaID.link\n",
      "2017_2018/V. Setúbal/equipaID.link\n",
      "2017_2018/Moreirense/equipaID.link\n",
      "2017_2018/Feirense/equipaID.link\n",
      "2017_2018/Paços Ferreira/equipaID.link\n",
      "2017_2018/Estoril Praia/equipaID.link\n",
      "['http://www.zerozero.pt/equipa.php?id=9&epoca_id=147', 'http://www.zerozero.pt/equipa.php?id=4&epoca_id=147', 'http://www.zerozero.pt/equipa.php?id=16&epoca_id=147', 'http://www.zerozero.pt/equipa.php?id=15&epoca_id=147', 'http://www.zerozero.pt/equipa.php?id=31&epoca_id=147', 'http://www.zerozero.pt/equipa.php?id=20&epoca_id=147', 'http://www.zerozero.pt/equipa.php?id=12&epoca_id=147', 'http://www.zerozero.pt/equipa.php?id=5&epoca_id=147', 'http://www.zerozero.pt/equipa.php?id=18&epoca_id=147', 'http://www.zerozero.pt/equipa.php?id=33&epoca_id=147', 'http://www.zerozero.pt/equipa.php?id=4336&epoca_id=147', 'http://www.zerozero.pt/equipa.php?id=3&epoca_id=147', 'http://www.zerozero.pt/equipa.php?id=7&epoca_id=147', 'http://www.zerozero.pt/equipa.php?id=35&epoca_id=147', 'http://www.zerozero.pt/equipa.php?id=6&epoca_id=147', 'http://www.zerozero.pt/equipa.php?id=1728&epoca_id=147', 'http://www.zerozero.pt/equipa.php?id=13&epoca_id=147', 'http://www.zerozero.pt/equipa.php?id=1734&epoca_id=147']\n"
     ]
    }
   ],
   "source": [
    "Pass, equipas = get_teams()\n",
    "print(equipas)"
   ]
  },
  {
   "cell_type": "code",
   "execution_count": 3,
   "metadata": {},
   "outputs": [
    {
     "name": "stdout",
     "output_type": "stream",
     "text": [
      "['http://www.zerozero.pt/equipa.php?id=9&epoca_id=147', 'http://www.zerozero.pt/equipa.php?id=4&epoca_id=147', 'http://www.zerozero.pt/equipa.php?id=16&epoca_id=147', 'http://www.zerozero.pt/equipa.php?id=15&epoca_id=147', 'http://www.zerozero.pt/equipa.php?id=31&epoca_id=147', 'http://www.zerozero.pt/equipa.php?id=20&epoca_id=147', 'http://www.zerozero.pt/equipa.php?id=12&epoca_id=147', 'http://www.zerozero.pt/equipa.php?id=5&epoca_id=147', 'http://www.zerozero.pt/equipa.php?id=18&epoca_id=147', 'http://www.zerozero.pt/equipa.php?id=33&epoca_id=147', 'http://www.zerozero.pt/equipa.php?id=4336&epoca_id=147', 'http://www.zerozero.pt/equipa.php?id=3&epoca_id=147', 'http://www.zerozero.pt/equipa.php?id=7&epoca_id=147', 'http://www.zerozero.pt/equipa.php?id=35&epoca_id=147', 'http://www.zerozero.pt/equipa.php?id=6&epoca_id=147', 'http://www.zerozero.pt/equipa.php?id=1728&epoca_id=147', 'http://www.zerozero.pt/equipa.php?id=13&epoca_id=147', 'http://www.zerozero.pt/equipa.php?id=1734&epoca_id=147']\n"
     ]
    }
   ],
   "source": [
    "equipas = ['http://www.zerozero.pt/equipa.php?id=9&epoca_id=147', 'http://www.zerozero.pt/equipa.php?id=4&epoca_id=147', 'http://www.zerozero.pt/equipa.php?id=16&epoca_id=147', 'http://www.zerozero.pt/equipa.php?id=15&epoca_id=147', 'http://www.zerozero.pt/equipa.php?id=31&epoca_id=147', 'http://www.zerozero.pt/equipa.php?id=20&epoca_id=147', 'http://www.zerozero.pt/equipa.php?id=12&epoca_id=147', 'http://www.zerozero.pt/equipa.php?id=5&epoca_id=147', 'http://www.zerozero.pt/equipa.php?id=18&epoca_id=147', 'http://www.zerozero.pt/equipa.php?id=33&epoca_id=147', 'http://www.zerozero.pt/equipa.php?id=4336&epoca_id=147', 'http://www.zerozero.pt/equipa.php?id=3&epoca_id=147', 'http://www.zerozero.pt/equipa.php?id=7&epoca_id=147', 'http://www.zerozero.pt/equipa.php?id=35&epoca_id=147', 'http://www.zerozero.pt/equipa.php?id=6&epoca_id=147', 'http://www.zerozero.pt/equipa.php?id=1728&epoca_id=147', 'http://www.zerozero.pt/equipa.php?id=13&epoca_id=147', 'http://www.zerozero.pt/equipa.php?id=1734&epoca_id=147']\n",
    "\n",
    "print(equipas)"
   ]
  },
  {
   "cell_type": "markdown",
   "metadata": {},
   "source": [
    "# RETIRAR GIOCATORI"
   ]
  },
  {
   "cell_type": "code",
   "execution_count": 18,
   "metadata": {},
   "outputs": [],
   "source": [
    "def get_players(link_equipa):\n",
    "    save = ['FC Porto','Benfica','Sporting','Braga','Rio Ave','Chaves','Marítimo','Boavista','V. Guimarães','Portimonense','Tondela','Belenenses']\n",
    "    driver.get(link_equipa)\n",
    "    id_equipa = driver.current_url\n",
    "    print(id_equipa)\n",
    "    nome_equipa = driver.find_element_by_class_name('name').text\n",
    "    print(nome_equipa)\n",
    "    if nome_equipa in save:\n",
    "        return\n",
    "    equalSign = id_equipa.index('=')\n",
    "    andSign = id_equipa.index('&')\n",
    "    id_equipa = id_equipa[equalSign+1:andSign]\n",
    "    link = ('http://www.zerozero.pt/team_players.php?id={}&epoca_stats_id=147').format(id_equipa)\n",
    "    driver.get(link)\n",
    "    driver.refresh()\n",
    "    #/html/body/div[8]/div[3]/div[6]/div[3]/div/div/table[1]/tbody/tr[1]/td[3]/div/div[2]/a\n",
    "    #/html/body/div[7]/div[3]/div[6]/div[3]/div/div/table[1]/tbody/tr[1]/td[3]/div/div[2]/a\n",
    "    #/html/body/div[7]/div[3]/div[6]/div[3]/div/div/table[1]/tbody/tr[1]/td[3]/div/div[2]/a\n",
    "    #/html/body/div[7]/div[3]/div[6]/div[3]/div/div/table[1]/tbody/tr[1]/td[3]/div/div[2]/a\n",
    "    time.sleep(0.5)\n",
    "    table_ekipas = \"/html/body/div[8]/div[3]/div[6]/div[3]/div/div/table[1]/tbody/\"\n",
    "    trs=driver.find_elements_by_xpath(table_ekipas+\"/tr\") # => horizontal\n",
    "    tds=driver.find_elements_by_xpath(table_ekipas+\"/tr[1]/td\") # => vertical\n",
    "    if len(trs) == 0:\n",
    "        print('@h')\n",
    "        table_ekipas = \"/html/body/div[7]/div[3]/div[6]/div[3]/div/div/table[1]/tbody/\"\n",
    "        trs=driver.find_elements_by_xpath(table_ekipas+\"/tr\") # => horizontal\n",
    "        tds=driver.find_elements_by_xpath(table_ekipas+\"/tr[1]/td\") # => vertical\n",
    "        \n",
    "        \n",
    "    print(len(tds),len(trs))\n",
    "    for j in range(1, len(trs)+1):\n",
    "        jogador = driver.find_element_by_xpath((table_ekipas+\"/tr[{}]/td[3]/div/div[2]/a\").format(str(j)))\n",
    "        contrb = (jogador.text+','+(jogador.get_attribute('href'))+'\\n')\n",
    "        with open('2017_2018/'+nome_equipa+'/jogadores.jfo', 'a', encoding=\"utf-8\") as f:\n",
    "            f.write(contrb)"
   ]
  },
  {
   "cell_type": "code",
   "execution_count": 105,
   "metadata": {},
   "outputs": [],
   "source": [
    "#http://www.zerozero.pt/player_results.php?id=197138&competicao_id=3&epoca_id=147\n",
    "#for e in range(len(equipas)):\n",
    " #   players = get_players(equipas[e])"
   ]
  },
  {
   "cell_type": "code",
   "execution_count": null,
   "metadata": {},
   "outputs": [],
   "source": [
    "#/html/body/div[7]/div[2]/div[6]/div[3]/div/div/table[1]/tbody/tr[4]/td[3]/div/div[2]/a"
   ]
  },
  {
   "cell_type": "code",
   "execution_count": null,
   "metadata": {},
   "outputs": [
    {
     "name": "stdout",
     "output_type": "stream",
     "text": [
      "http://www.zerozero.pt/equipa.php?id=7&epoca_id=147\n",
      "Desp. Aves\n",
      "@h\n",
      "14 45\n",
      "http://www.zerozero.pt/equipa.php?id=35&epoca_id=147\n",
      "V. Setúbal\n",
      "@h\n",
      "14 40\n",
      "http://www.zerozero.pt/equipa.php?id=6&epoca_id=147\n",
      "Moreirense\n",
      "@h\n",
      "14 35\n",
      "http://www.zerozero.pt/equipa.php?id=1728&epoca_id=147\n",
      "Feirense\n",
      "@h\n",
      "14 36\n",
      "http://www.zerozero.pt/equipa.php?id=13&epoca_id=147\n",
      "Paços Ferreira\n"
     ]
    }
   ],
   "source": [
    "for e in range(12, len(equipas)):\n",
    "    get_players(equipas[e])"
   ]
  },
  {
   "cell_type": "code",
   "execution_count": 19,
   "metadata": {
    "scrolled": true
   },
   "outputs": [
    {
     "name": "stdout",
     "output_type": "stream",
     "text": [
      "http://www.zerozero.pt/equipa.php?id=7&epoca_id=147\n",
      "Desp. Aves\n",
      "@h\n",
      "14 45\n"
     ]
    }
   ],
   "source": [
    "get_players(equipas[12])"
   ]
  },
  {
   "cell_type": "code",
   "execution_count": 9,
   "metadata": {},
   "outputs": [],
   "source": [
    "#for e in equipas:\n",
    "#    print(e)\n",
    "    \n",
    "#print(len(equipas))"
   ]
  },
  {
   "cell_type": "code",
   "execution_count": 8,
   "metadata": {},
   "outputs": [],
   "source": [
    "#for e in range(len(equipas)):\n",
    "#    driver.get(equipas[e])\n",
    "#    x = driver.find_element_by_class_name('name').text\n",
    "#    print(x)"
   ]
  },
  {
   "cell_type": "markdown",
   "metadata": {},
   "source": [
    "# GETTING BOTH TOGETHER"
   ]
  },
  {
   "cell_type": "code",
   "execution_count": 7,
   "metadata": {},
   "outputs": [
    {
     "data": {
      "text/plain": [
       "'\\nequipas = get_teams()\\nxml_equipa = {}\\nfor i in range(len(equipas)):\\n    driver.get(equipas[i])\\n    nome_equipa = \\n    get_players(nome_equipa)\\nprint(xml_equipa)\\n'"
      ]
     },
     "execution_count": 7,
     "metadata": {},
     "output_type": "execute_result"
    }
   ],
   "source": [
    "'''\n",
    "equipas = get_teams()\n",
    "xml_equipa = {}\n",
    "for i in range(len(equipas)):\n",
    "    driver.get(equipas[i])\n",
    "    nome_equipa = \n",
    "    get_players(nome_equipa)\n",
    "print(xml_equipa)\n",
    "'''"
   ]
  },
  {
   "cell_type": "code",
   "execution_count": 6,
   "metadata": {},
   "outputs": [],
   "source": [
    "#driver.execute_script(\"window.history.go(-1)\")"
   ]
  },
  {
   "cell_type": "code",
   "execution_count": null,
   "metadata": {},
   "outputs": [],
   "source": []
  }
 ],
 "metadata": {
  "kernelspec": {
   "display_name": "Python 3",
   "language": "python",
   "name": "python3"
  },
  "language_info": {
   "codemirror_mode": {
    "name": "ipython",
    "version": 3
   },
   "file_extension": ".py",
   "mimetype": "text/x-python",
   "name": "python",
   "nbconvert_exporter": "python",
   "pygments_lexer": "ipython3",
   "version": "3.6.5"
  }
 },
 "nbformat": 4,
 "nbformat_minor": 2
}
