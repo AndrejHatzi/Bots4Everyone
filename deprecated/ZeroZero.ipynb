{
 "cells": [
  {
   "cell_type": "code",
   "execution_count": 4,
   "metadata": {},
   "outputs": [],
   "source": [
    "from selenium import webdriver\n",
    "from selenium.webdriver.common.keys import Keys\n",
    "from time import sleep\n",
    "import re"
   ]
  },
  {
   "cell_type": "markdown",
   "metadata": {},
   "source": [
    "# INIT WEB DRIVER - IPYTHON CMD SYNTAX"
   ]
  },
  {
   "cell_type": "code",
   "execution_count": 5,
   "metadata": {},
   "outputs": [],
   "source": [
    "driver = webdriver.Firefox();"
   ]
  },
  {
   "cell_type": "code",
   "execution_count": 6,
   "metadata": {},
   "outputs": [],
   "source": [
    "driver.get(\"http://www.zerozero.pt/player_results.php?id=159904&competicao_id=3&epoca_id=147\");"
   ]
  },
  {
   "cell_type": "markdown",
   "metadata": {},
   "source": [
    "# RETIRAR A PUBLICIDADE"
   ]
  },
  {
   "cell_type": "code",
   "execution_count": 7,
   "metadata": {},
   "outputs": [],
   "source": [
    "try:\n",
    "    driver.find_element_by_xpath(\"/html/body/div[1]/div/div/div[2]/button\").click();\n",
    "except:\n",
    "    pass\n",
    "\n",
    "driver.refresh();"
   ]
  },
  {
   "cell_type": "markdown",
   "metadata": {},
   "source": [
    "# TABELA - JAH DEVE TER MUDADO"
   ]
  },
  {
   "cell_type": "code",
   "execution_count": 8,
   "metadata": {},
   "outputs": [
    {
     "name": "stdout",
     "output_type": "stream",
     "text": [
      "26\n",
      "13\n"
     ]
    }
   ],
   "source": [
    "table=\"/html/body/div[7]/div[3]/div[6]/div[3]/div/div/div/div[3]/div[2]/table/tbody/\"\n",
    "trs=driver.find_elements_by_xpath(table+\"tr\") # => horizontal\n",
    "print(len(trs))\n",
    "tds=driver.find_elements_by_xpath(table+\"tr[1]/td\") # => vertical\n",
    "print(len(tds))"
   ]
  },
  {
   "cell_type": "markdown",
   "metadata": {},
   "source": [
    "# GAMES PER PLAYER - WEB ELEMENT"
   ]
  },
  {
   "cell_type": "code",
   "execution_count": 12,
   "metadata": {},
   "outputs": [],
   "source": [
    "jogos = []\n",
    "lh = 1 # linha horizontal; lv => linha vertical; Eh o comprimento (len) das linhas e colunhas tr e td retiradas da tabelas\n",
    "jogos_por_linha = {}\n",
    "while(lh < len(trs) + 1):\n",
    "    jogos_por_linha[str(lh)] = []\n",
    "    for lv in range(1, len(tds)+1):\n",
    "        tabela=driver.find_element_by_xpath((table+\"tr[{}]/td[{}]\").format(str(lh), str(lv)))\n",
    "        jogos_por_linha[str(lh)].append(tabela)\n",
    "    jogos.append(jogos_por_linha[str(lh)])    \n",
    "    lh += 1"
   ]
  },
  {
   "cell_type": "code",
   "execution_count": 22,
   "metadata": {},
   "outputs": [
    {
     "data": {
      "text/plain": [
       "[[<selenium.webdriver.firefox.webelement.FirefoxWebElement (session=\"7f40297e-d52d-46c4-9693-f7d93e8bf65f\", element=\"6dd8f3ad-d0bb-4aca-b569-bf3b499b53a1\")>,\n",
       "  <selenium.webdriver.firefox.webelement.FirefoxWebElement (session=\"7f40297e-d52d-46c4-9693-f7d93e8bf65f\", element=\"feea5a92-a875-4e59-a7e5-cdfeb526f740\")>,\n",
       "  <selenium.webdriver.firefox.webelement.FirefoxWebElement (session=\"7f40297e-d52d-46c4-9693-f7d93e8bf65f\", element=\"9eece4bc-2a90-42ad-85de-ac5f0b8ebf55\")>,\n",
       "  <selenium.webdriver.firefox.webelement.FirefoxWebElement (session=\"7f40297e-d52d-46c4-9693-f7d93e8bf65f\", element=\"1994e194-a583-46ce-a851-e2dfa30ce370\")>,\n",
       "  <selenium.webdriver.firefox.webelement.FirefoxWebElement (session=\"7f40297e-d52d-46c4-9693-f7d93e8bf65f\", element=\"3fdbe21a-1e5d-4ddf-95b0-3c1851411fbb\")>,\n",
       "  <selenium.webdriver.firefox.webelement.FirefoxWebElement (session=\"7f40297e-d52d-46c4-9693-f7d93e8bf65f\", element=\"d0943266-df47-4b64-a5cd-f5f16bed569f\")>,\n",
       "  <selenium.webdriver.firefox.webelement.FirefoxWebElement (session=\"7f40297e-d52d-46c4-9693-f7d93e8bf65f\", element=\"be7c49bf-c173-45d2-a377-f5e2b3634b03\")>,\n",
       "  <selenium.webdriver.firefox.webelement.FirefoxWebElement (session=\"7f40297e-d52d-46c4-9693-f7d93e8bf65f\", element=\"af6d251d-aab4-4576-bd6f-0c74eec1449d\")>,\n",
       "  <selenium.webdriver.firefox.webelement.FirefoxWebElement (session=\"7f40297e-d52d-46c4-9693-f7d93e8bf65f\", element=\"b0ecfcfa-bcbc-4c4d-ac58-53098b00a007\")>,\n",
       "  <selenium.webdriver.firefox.webelement.FirefoxWebElement (session=\"7f40297e-d52d-46c4-9693-f7d93e8bf65f\", element=\"0df0653c-924e-478a-8951-84137e1f4f53\")>,\n",
       "  <selenium.webdriver.firefox.webelement.FirefoxWebElement (session=\"7f40297e-d52d-46c4-9693-f7d93e8bf65f\", element=\"ae1e9f09-682c-4aaa-aa1d-8a2d2384e539\")>,\n",
       "  <selenium.webdriver.firefox.webelement.FirefoxWebElement (session=\"7f40297e-d52d-46c4-9693-f7d93e8bf65f\", element=\"23e5f362-67ad-4a22-b3f7-13ba4d996d55\")>,\n",
       "  <selenium.webdriver.firefox.webelement.FirefoxWebElement (session=\"7f40297e-d52d-46c4-9693-f7d93e8bf65f\", element=\"7a6a6f36-8a3f-447c-b186-4e32299e1853\")>],\n",
       " [<selenium.webdriver.firefox.webelement.FirefoxWebElement (session=\"7f40297e-d52d-46c4-9693-f7d93e8bf65f\", element=\"986d632e-ddf3-44f0-883b-3d32d127b573\")>,\n",
       "  <selenium.webdriver.firefox.webelement.FirefoxWebElement (session=\"7f40297e-d52d-46c4-9693-f7d93e8bf65f\", element=\"f6c09eb7-84db-44c9-830b-ad5cd17b8662\")>,\n",
       "  <selenium.webdriver.firefox.webelement.FirefoxWebElement (session=\"7f40297e-d52d-46c4-9693-f7d93e8bf65f\", element=\"5a7fc5cf-48b0-412b-9a8a-9a7a0dadbd64\")>,\n",
       "  <selenium.webdriver.firefox.webelement.FirefoxWebElement (session=\"7f40297e-d52d-46c4-9693-f7d93e8bf65f\", element=\"7f4aa10c-5ffe-4671-97b1-c3757ccdcf33\")>,\n",
       "  <selenium.webdriver.firefox.webelement.FirefoxWebElement (session=\"7f40297e-d52d-46c4-9693-f7d93e8bf65f\", element=\"e5a80893-9de5-4472-bdac-bed9a3ec26f7\")>,\n",
       "  <selenium.webdriver.firefox.webelement.FirefoxWebElement (session=\"7f40297e-d52d-46c4-9693-f7d93e8bf65f\", element=\"ac410c2b-c103-42f9-91aa-dd023ada1b46\")>,\n",
       "  <selenium.webdriver.firefox.webelement.FirefoxWebElement (session=\"7f40297e-d52d-46c4-9693-f7d93e8bf65f\", element=\"5c7828b0-c8ff-45ce-ad56-22b1ba0dd5f1\")>,\n",
       "  <selenium.webdriver.firefox.webelement.FirefoxWebElement (session=\"7f40297e-d52d-46c4-9693-f7d93e8bf65f\", element=\"92d0f898-8abe-44d5-9c97-32ef0400fa5f\")>,\n",
       "  <selenium.webdriver.firefox.webelement.FirefoxWebElement (session=\"7f40297e-d52d-46c4-9693-f7d93e8bf65f\", element=\"af05b409-7c33-484f-b1c9-efbfd506dfe4\")>,\n",
       "  <selenium.webdriver.firefox.webelement.FirefoxWebElement (session=\"7f40297e-d52d-46c4-9693-f7d93e8bf65f\", element=\"f3fa7dcf-5af1-436e-942f-9415e5a05d20\")>,\n",
       "  <selenium.webdriver.firefox.webelement.FirefoxWebElement (session=\"7f40297e-d52d-46c4-9693-f7d93e8bf65f\", element=\"b94587c0-b064-474d-8605-4effbee4fd02\")>,\n",
       "  <selenium.webdriver.firefox.webelement.FirefoxWebElement (session=\"7f40297e-d52d-46c4-9693-f7d93e8bf65f\", element=\"41732e89-ba8c-4190-98b3-09140079f3da\")>,\n",
       "  <selenium.webdriver.firefox.webelement.FirefoxWebElement (session=\"7f40297e-d52d-46c4-9693-f7d93e8bf65f\", element=\"1a90e0b0-e14f-44e1-b3b8-49382aad4c98\")>],\n",
       " [<selenium.webdriver.firefox.webelement.FirefoxWebElement (session=\"7f40297e-d52d-46c4-9693-f7d93e8bf65f\", element=\"5b82bbec-80a3-4d5d-92e7-99a35b9a5e3f\")>,\n",
       "  <selenium.webdriver.firefox.webelement.FirefoxWebElement (session=\"7f40297e-d52d-46c4-9693-f7d93e8bf65f\", element=\"31d252ea-d1a1-47c1-b26d-baa5f096ba4d\")>,\n",
       "  <selenium.webdriver.firefox.webelement.FirefoxWebElement (session=\"7f40297e-d52d-46c4-9693-f7d93e8bf65f\", element=\"f822c85c-49b4-4f19-a7d4-5f36da9bc9a8\")>,\n",
       "  <selenium.webdriver.firefox.webelement.FirefoxWebElement (session=\"7f40297e-d52d-46c4-9693-f7d93e8bf65f\", element=\"e3703a57-1cea-406d-835f-8569e1ab203a\")>,\n",
       "  <selenium.webdriver.firefox.webelement.FirefoxWebElement (session=\"7f40297e-d52d-46c4-9693-f7d93e8bf65f\", element=\"c1630692-575a-4129-bfb0-d72629ee6f0e\")>,\n",
       "  <selenium.webdriver.firefox.webelement.FirefoxWebElement (session=\"7f40297e-d52d-46c4-9693-f7d93e8bf65f\", element=\"fd702d17-b81a-48a4-b14a-27732776e1d5\")>,\n",
       "  <selenium.webdriver.firefox.webelement.FirefoxWebElement (session=\"7f40297e-d52d-46c4-9693-f7d93e8bf65f\", element=\"dd338b28-59db-4200-94d7-8414adac2b69\")>,\n",
       "  <selenium.webdriver.firefox.webelement.FirefoxWebElement (session=\"7f40297e-d52d-46c4-9693-f7d93e8bf65f\", element=\"a084fb49-d828-438e-8c0c-e8860b267cdf\")>,\n",
       "  <selenium.webdriver.firefox.webelement.FirefoxWebElement (session=\"7f40297e-d52d-46c4-9693-f7d93e8bf65f\", element=\"dcf6f724-a69a-4917-997d-03aa5d418a49\")>,\n",
       "  <selenium.webdriver.firefox.webelement.FirefoxWebElement (session=\"7f40297e-d52d-46c4-9693-f7d93e8bf65f\", element=\"1f28e59b-fdbe-4f0c-9c07-efff443ccd51\")>,\n",
       "  <selenium.webdriver.firefox.webelement.FirefoxWebElement (session=\"7f40297e-d52d-46c4-9693-f7d93e8bf65f\", element=\"c8f68fe0-4bee-48d5-8453-6511ecc10a23\")>,\n",
       "  <selenium.webdriver.firefox.webelement.FirefoxWebElement (session=\"7f40297e-d52d-46c4-9693-f7d93e8bf65f\", element=\"247d598a-1dd2-4af7-ba45-43eef5f85e67\")>,\n",
       "  <selenium.webdriver.firefox.webelement.FirefoxWebElement (session=\"7f40297e-d52d-46c4-9693-f7d93e8bf65f\", element=\"31f4a5c6-87ba-4d5a-bce2-cddca6fa7950\")>],\n",
       " [<selenium.webdriver.firefox.webelement.FirefoxWebElement (session=\"7f40297e-d52d-46c4-9693-f7d93e8bf65f\", element=\"327d1f55-8e2a-474a-b1b7-c981ad47dd36\")>,\n",
       "  <selenium.webdriver.firefox.webelement.FirefoxWebElement (session=\"7f40297e-d52d-46c4-9693-f7d93e8bf65f\", element=\"602e5e56-3f98-4ae2-895e-870bdda26c7d\")>,\n",
       "  <selenium.webdriver.firefox.webelement.FirefoxWebElement (session=\"7f40297e-d52d-46c4-9693-f7d93e8bf65f\", element=\"88b7df03-b772-47eb-bd47-f6a2ff42c7f1\")>,\n",
       "  <selenium.webdriver.firefox.webelement.FirefoxWebElement (session=\"7f40297e-d52d-46c4-9693-f7d93e8bf65f\", element=\"4d5c3d2a-3477-4ded-b3dc-09dcbc3a0656\")>,\n",
       "  <selenium.webdriver.firefox.webelement.FirefoxWebElement (session=\"7f40297e-d52d-46c4-9693-f7d93e8bf65f\", element=\"3f8b95e4-2d48-4f18-8792-2049174a687e\")>,\n",
       "  <selenium.webdriver.firefox.webelement.FirefoxWebElement (session=\"7f40297e-d52d-46c4-9693-f7d93e8bf65f\", element=\"3288df5b-cedb-437b-b4b8-923e461a896c\")>,\n",
       "  <selenium.webdriver.firefox.webelement.FirefoxWebElement (session=\"7f40297e-d52d-46c4-9693-f7d93e8bf65f\", element=\"3a660173-d6b0-4fbd-978b-5e54a2dba824\")>,\n",
       "  <selenium.webdriver.firefox.webelement.FirefoxWebElement (session=\"7f40297e-d52d-46c4-9693-f7d93e8bf65f\", element=\"7c0d3574-debb-4c06-a93b-0b9ef6cd5479\")>,\n",
       "  <selenium.webdriver.firefox.webelement.FirefoxWebElement (session=\"7f40297e-d52d-46c4-9693-f7d93e8bf65f\", element=\"39bcad94-ff45-4ace-b457-e84ca2758aff\")>,\n",
       "  <selenium.webdriver.firefox.webelement.FirefoxWebElement (session=\"7f40297e-d52d-46c4-9693-f7d93e8bf65f\", element=\"3302d07f-ff12-4ea8-b2bd-d5db88c9370b\")>,\n",
       "  <selenium.webdriver.firefox.webelement.FirefoxWebElement (session=\"7f40297e-d52d-46c4-9693-f7d93e8bf65f\", element=\"03d67236-d210-4cb3-a49b-d7167218ca8d\")>,\n",
       "  <selenium.webdriver.firefox.webelement.FirefoxWebElement (session=\"7f40297e-d52d-46c4-9693-f7d93e8bf65f\", element=\"5057be63-bf79-45af-a6df-9dc2e3ce291c\")>,\n",
       "  <selenium.webdriver.firefox.webelement.FirefoxWebElement (session=\"7f40297e-d52d-46c4-9693-f7d93e8bf65f\", element=\"ec2990ae-3934-4bfa-8c28-daa53c66dfb4\")>],\n",
       " [<selenium.webdriver.firefox.webelement.FirefoxWebElement (session=\"7f40297e-d52d-46c4-9693-f7d93e8bf65f\", element=\"f028f3cf-7361-49d8-8280-d2b6da045995\")>,\n",
       "  <selenium.webdriver.firefox.webelement.FirefoxWebElement (session=\"7f40297e-d52d-46c4-9693-f7d93e8bf65f\", element=\"0a21234f-3289-477a-99cb-43783fc92460\")>,\n",
       "  <selenium.webdriver.firefox.webelement.FirefoxWebElement (session=\"7f40297e-d52d-46c4-9693-f7d93e8bf65f\", element=\"705403d6-731b-4e40-88e1-56713e5e7400\")>,\n",
       "  <selenium.webdriver.firefox.webelement.FirefoxWebElement (session=\"7f40297e-d52d-46c4-9693-f7d93e8bf65f\", element=\"b99edfde-fc0a-48c1-954a-a560215ac76b\")>,\n",
       "  <selenium.webdriver.firefox.webelement.FirefoxWebElement (session=\"7f40297e-d52d-46c4-9693-f7d93e8bf65f\", element=\"cef5741a-38b4-4be3-bd13-e6540164fa78\")>,\n",
       "  <selenium.webdriver.firefox.webelement.FirefoxWebElement (session=\"7f40297e-d52d-46c4-9693-f7d93e8bf65f\", element=\"74ec1b9f-1111-4725-bcc4-e6428edc2fa3\")>,\n",
       "  <selenium.webdriver.firefox.webelement.FirefoxWebElement (session=\"7f40297e-d52d-46c4-9693-f7d93e8bf65f\", element=\"71d7ff02-05d3-4ba2-89b7-9be367299455\")>,\n",
       "  <selenium.webdriver.firefox.webelement.FirefoxWebElement (session=\"7f40297e-d52d-46c4-9693-f7d93e8bf65f\", element=\"81bcaba8-fc77-4df4-bb55-108cae6ccfea\")>,\n",
       "  <selenium.webdriver.firefox.webelement.FirefoxWebElement (session=\"7f40297e-d52d-46c4-9693-f7d93e8bf65f\", element=\"3dce367b-147e-4632-9617-76d1198a9eb9\")>,\n",
       "  <selenium.webdriver.firefox.webelement.FirefoxWebElement (session=\"7f40297e-d52d-46c4-9693-f7d93e8bf65f\", element=\"989a4041-cbef-4894-80cc-55dd21915815\")>,\n",
       "  <selenium.webdriver.firefox.webelement.FirefoxWebElement (session=\"7f40297e-d52d-46c4-9693-f7d93e8bf65f\", element=\"34d2d2b8-3715-4082-b1a7-e7fd9cb19b96\")>,\n",
       "  <selenium.webdriver.firefox.webelement.FirefoxWebElement (session=\"7f40297e-d52d-46c4-9693-f7d93e8bf65f\", element=\"6dddb47d-4498-4100-843d-294c6a854ace\")>,\n",
       "  <selenium.webdriver.firefox.webelement.FirefoxWebElement (session=\"7f40297e-d52d-46c4-9693-f7d93e8bf65f\", element=\"f5f1f92b-bb7e-4610-843d-ee320d05730b\")>],\n",
       " [<selenium.webdriver.firefox.webelement.FirefoxWebElement (session=\"7f40297e-d52d-46c4-9693-f7d93e8bf65f\", element=\"91c84fef-ff0c-474a-8680-4e0a97991582\")>,\n",
       "  <selenium.webdriver.firefox.webelement.FirefoxWebElement (session=\"7f40297e-d52d-46c4-9693-f7d93e8bf65f\", element=\"1f897699-559a-450b-baaa-2e5cbe45b58b\")>,\n",
       "  <selenium.webdriver.firefox.webelement.FirefoxWebElement (session=\"7f40297e-d52d-46c4-9693-f7d93e8bf65f\", element=\"d175edfc-3ec6-447b-b2e3-531b16586b46\")>,\n",
       "  <selenium.webdriver.firefox.webelement.FirefoxWebElement (session=\"7f40297e-d52d-46c4-9693-f7d93e8bf65f\", element=\"0ac26748-b90b-4433-b55b-5831fca52324\")>,\n",
       "  <selenium.webdriver.firefox.webelement.FirefoxWebElement (session=\"7f40297e-d52d-46c4-9693-f7d93e8bf65f\", element=\"b3ed4608-80fa-4072-9289-5b56b358cc2f\")>,\n",
       "  <selenium.webdriver.firefox.webelement.FirefoxWebElement (session=\"7f40297e-d52d-46c4-9693-f7d93e8bf65f\", element=\"74f14586-289a-43a7-9738-385c21fed942\")>,\n",
       "  <selenium.webdriver.firefox.webelement.FirefoxWebElement (session=\"7f40297e-d52d-46c4-9693-f7d93e8bf65f\", element=\"1990672f-6861-4150-98b7-9924fd7a8efd\")>,\n",
       "  <selenium.webdriver.firefox.webelement.FirefoxWebElement (session=\"7f40297e-d52d-46c4-9693-f7d93e8bf65f\", element=\"b45aa7b1-2631-41c4-b1e6-b7ebca08dbc0\")>,\n",
       "  <selenium.webdriver.firefox.webelement.FirefoxWebElement (session=\"7f40297e-d52d-46c4-9693-f7d93e8bf65f\", element=\"d5f99e30-4dbb-4e67-b3ff-14e0a03500d2\")>,\n",
       "  <selenium.webdriver.firefox.webelement.FirefoxWebElement (session=\"7f40297e-d52d-46c4-9693-f7d93e8bf65f\", element=\"1a8fd05b-5a1c-42aa-aa74-0b52211b7406\")>,\n",
       "  <selenium.webdriver.firefox.webelement.FirefoxWebElement (session=\"7f40297e-d52d-46c4-9693-f7d93e8bf65f\", element=\"4d155fcc-dbfe-415a-ad4e-eb266a00e78b\")>,\n",
       "  <selenium.webdriver.firefox.webelement.FirefoxWebElement (session=\"7f40297e-d52d-46c4-9693-f7d93e8bf65f\", element=\"909de348-bce8-4930-a236-c4af82219ec7\")>,\n",
       "  <selenium.webdriver.firefox.webelement.FirefoxWebElement (session=\"7f40297e-d52d-46c4-9693-f7d93e8bf65f\", element=\"7a86e61f-90d4-413e-b24c-db7a21638819\")>],\n",
       " [<selenium.webdriver.firefox.webelement.FirefoxWebElement (session=\"7f40297e-d52d-46c4-9693-f7d93e8bf65f\", element=\"e3ec70fd-f22b-437e-ac55-a995fa83d2d0\")>,\n",
       "  <selenium.webdriver.firefox.webelement.FirefoxWebElement (session=\"7f40297e-d52d-46c4-9693-f7d93e8bf65f\", element=\"6beabcb9-f46a-4c45-9a09-69e67bc28e97\")>,\n",
       "  <selenium.webdriver.firefox.webelement.FirefoxWebElement (session=\"7f40297e-d52d-46c4-9693-f7d93e8bf65f\", element=\"a50ad85c-21a9-4225-9390-0298d6a96837\")>,\n",
       "  <selenium.webdriver.firefox.webelement.FirefoxWebElement (session=\"7f40297e-d52d-46c4-9693-f7d93e8bf65f\", element=\"b2b8a34c-aba8-40e3-b549-4ab14222ef63\")>,\n",
       "  <selenium.webdriver.firefox.webelement.FirefoxWebElement (session=\"7f40297e-d52d-46c4-9693-f7d93e8bf65f\", element=\"a02a8907-7c1a-463e-81d6-615fdde9b461\")>,\n",
       "  <selenium.webdriver.firefox.webelement.FirefoxWebElement (session=\"7f40297e-d52d-46c4-9693-f7d93e8bf65f\", element=\"aae83123-15a6-42ef-b3ab-2cee7f85d411\")>,\n",
       "  <selenium.webdriver.firefox.webelement.FirefoxWebElement (session=\"7f40297e-d52d-46c4-9693-f7d93e8bf65f\", element=\"8b798f31-c783-4fe4-8a90-ada8d63bceb6\")>,\n",
       "  <selenium.webdriver.firefox.webelement.FirefoxWebElement (session=\"7f40297e-d52d-46c4-9693-f7d93e8bf65f\", element=\"22e2d66c-0a15-4c0a-9f72-26f589367b2c\")>,\n",
       "  <selenium.webdriver.firefox.webelement.FirefoxWebElement (session=\"7f40297e-d52d-46c4-9693-f7d93e8bf65f\", element=\"a28abb88-e8c4-4ec3-83eb-d87ea48a0459\")>,\n",
       "  <selenium.webdriver.firefox.webelement.FirefoxWebElement (session=\"7f40297e-d52d-46c4-9693-f7d93e8bf65f\", element=\"08a5cc24-f264-4614-8f46-a48d29c6506d\")>,\n",
       "  <selenium.webdriver.firefox.webelement.FirefoxWebElement (session=\"7f40297e-d52d-46c4-9693-f7d93e8bf65f\", element=\"22719fcb-0d3d-44ec-8329-a81737af4b92\")>,\n",
       "  <selenium.webdriver.firefox.webelement.FirefoxWebElement (session=\"7f40297e-d52d-46c4-9693-f7d93e8bf65f\", element=\"a0670e37-13a1-40ae-a7ee-60021700c21c\")>,\n",
       "  <selenium.webdriver.firefox.webelement.FirefoxWebElement (session=\"7f40297e-d52d-46c4-9693-f7d93e8bf65f\", element=\"a07d8d52-c399-4f64-8a42-b737f17497a5\")>],\n",
       " [<selenium.webdriver.firefox.webelement.FirefoxWebElement (session=\"7f40297e-d52d-46c4-9693-f7d93e8bf65f\", element=\"be0f53ad-5795-4b4f-9b2c-f294f58a9f01\")>,\n",
       "  <selenium.webdriver.firefox.webelement.FirefoxWebElement (session=\"7f40297e-d52d-46c4-9693-f7d93e8bf65f\", element=\"ea66c676-ee01-449f-a761-1af80ee62f65\")>,\n",
       "  <selenium.webdriver.firefox.webelement.FirefoxWebElement (session=\"7f40297e-d52d-46c4-9693-f7d93e8bf65f\", element=\"a001fbaa-7d9d-4a6b-a80d-a1be83c04eba\")>,\n",
       "  <selenium.webdriver.firefox.webelement.FirefoxWebElement (session=\"7f40297e-d52d-46c4-9693-f7d93e8bf65f\", element=\"a80cc19d-9eb1-4d92-987f-7c30c480007d\")>,\n",
       "  <selenium.webdriver.firefox.webelement.FirefoxWebElement (session=\"7f40297e-d52d-46c4-9693-f7d93e8bf65f\", element=\"052a9a5d-20fe-4452-bd28-46b235b6bcd5\")>,\n",
       "  <selenium.webdriver.firefox.webelement.FirefoxWebElement (session=\"7f40297e-d52d-46c4-9693-f7d93e8bf65f\", element=\"3d18319c-f2ec-4ead-9011-46d94690c2e8\")>,\n",
       "  <selenium.webdriver.firefox.webelement.FirefoxWebElement (session=\"7f40297e-d52d-46c4-9693-f7d93e8bf65f\", element=\"8b0b3399-e547-4a35-ac0c-1e0d6c0e5d2d\")>,\n",
       "  <selenium.webdriver.firefox.webelement.FirefoxWebElement (session=\"7f40297e-d52d-46c4-9693-f7d93e8bf65f\", element=\"1c9529ea-500c-4574-97d5-468c3a54b95c\")>,\n",
       "  <selenium.webdriver.firefox.webelement.FirefoxWebElement (session=\"7f40297e-d52d-46c4-9693-f7d93e8bf65f\", element=\"bb0ff1d7-c5fa-42e3-8b1d-d31f13d97209\")>,\n",
       "  <selenium.webdriver.firefox.webelement.FirefoxWebElement (session=\"7f40297e-d52d-46c4-9693-f7d93e8bf65f\", element=\"591ee579-99d4-4c4b-959c-1a55cc723d23\")>,\n",
       "  <selenium.webdriver.firefox.webelement.FirefoxWebElement (session=\"7f40297e-d52d-46c4-9693-f7d93e8bf65f\", element=\"5e1d9b7c-03e6-47b5-aef7-3394edc9aeb8\")>,\n",
       "  <selenium.webdriver.firefox.webelement.FirefoxWebElement (session=\"7f40297e-d52d-46c4-9693-f7d93e8bf65f\", element=\"a94c9cad-7662-48e7-b74d-df169307a6ef\")>,\n",
       "  <selenium.webdriver.firefox.webelement.FirefoxWebElement (session=\"7f40297e-d52d-46c4-9693-f7d93e8bf65f\", element=\"bcb1beab-0ff2-4924-a9f3-59acc721ee9c\")>],\n",
       " [<selenium.webdriver.firefox.webelement.FirefoxWebElement (session=\"7f40297e-d52d-46c4-9693-f7d93e8bf65f\", element=\"da5095bf-84fd-4fe9-8330-3cdc85a741f3\")>,\n",
       "  <selenium.webdriver.firefox.webelement.FirefoxWebElement (session=\"7f40297e-d52d-46c4-9693-f7d93e8bf65f\", element=\"63c5972c-49f6-42ae-bd3c-5fdf4443a40e\")>,\n",
       "  <selenium.webdriver.firefox.webelement.FirefoxWebElement (session=\"7f40297e-d52d-46c4-9693-f7d93e8bf65f\", element=\"fbd04ba0-f60d-4e1d-8825-14c4c2fae194\")>,\n",
       "  <selenium.webdriver.firefox.webelement.FirefoxWebElement (session=\"7f40297e-d52d-46c4-9693-f7d93e8bf65f\", element=\"08110771-43d3-4e74-838a-daaa2302ee00\")>,\n",
       "  <selenium.webdriver.firefox.webelement.FirefoxWebElement (session=\"7f40297e-d52d-46c4-9693-f7d93e8bf65f\", element=\"8c04322c-ed49-4f19-a52e-0de482e2ef5b\")>,\n",
       "  <selenium.webdriver.firefox.webelement.FirefoxWebElement (session=\"7f40297e-d52d-46c4-9693-f7d93e8bf65f\", element=\"7bed9f15-60c4-4056-b809-37f9b2d3a656\")>,\n",
       "  <selenium.webdriver.firefox.webelement.FirefoxWebElement (session=\"7f40297e-d52d-46c4-9693-f7d93e8bf65f\", element=\"a0ee8a48-fc7b-4125-833a-509255d1f787\")>,\n",
       "  <selenium.webdriver.firefox.webelement.FirefoxWebElement (session=\"7f40297e-d52d-46c4-9693-f7d93e8bf65f\", element=\"21e6f59b-98f8-409b-888d-1c6fd0278fba\")>,\n",
       "  <selenium.webdriver.firefox.webelement.FirefoxWebElement (session=\"7f40297e-d52d-46c4-9693-f7d93e8bf65f\", element=\"67ca4a95-ef1f-459d-9813-59d2923253aa\")>,\n",
       "  <selenium.webdriver.firefox.webelement.FirefoxWebElement (session=\"7f40297e-d52d-46c4-9693-f7d93e8bf65f\", element=\"15994209-0303-4c9f-8df6-a0b8c57dfb9c\")>,\n",
       "  <selenium.webdriver.firefox.webelement.FirefoxWebElement (session=\"7f40297e-d52d-46c4-9693-f7d93e8bf65f\", element=\"0bf5ddb2-cd40-4f92-8fff-1174a30caebf\")>,\n",
       "  <selenium.webdriver.firefox.webelement.FirefoxWebElement (session=\"7f40297e-d52d-46c4-9693-f7d93e8bf65f\", element=\"6982e8c1-1ba1-412c-bd0b-f6d40abc75f4\")>,\n",
       "  <selenium.webdriver.firefox.webelement.FirefoxWebElement (session=\"7f40297e-d52d-46c4-9693-f7d93e8bf65f\", element=\"0615a7d6-2384-4dde-97a9-0319bab10830\")>],\n",
       " [<selenium.webdriver.firefox.webelement.FirefoxWebElement (session=\"7f40297e-d52d-46c4-9693-f7d93e8bf65f\", element=\"a1f96cd3-34cd-4fa9-9517-28b7d573081e\")>,\n",
       "  <selenium.webdriver.firefox.webelement.FirefoxWebElement (session=\"7f40297e-d52d-46c4-9693-f7d93e8bf65f\", element=\"394f2f1a-34c0-4f3e-92f5-4f89152e1959\")>,\n",
       "  <selenium.webdriver.firefox.webelement.FirefoxWebElement (session=\"7f40297e-d52d-46c4-9693-f7d93e8bf65f\", element=\"de261215-1939-409d-950f-b757ce459e58\")>,\n",
       "  <selenium.webdriver.firefox.webelement.FirefoxWebElement (session=\"7f40297e-d52d-46c4-9693-f7d93e8bf65f\", element=\"553adddf-eac4-46fb-90f5-65a1fb79095a\")>,\n",
       "  <selenium.webdriver.firefox.webelement.FirefoxWebElement (session=\"7f40297e-d52d-46c4-9693-f7d93e8bf65f\", element=\"2ecb4f77-2be3-4e70-94fc-f358395e4c6f\")>,\n",
       "  <selenium.webdriver.firefox.webelement.FirefoxWebElement (session=\"7f40297e-d52d-46c4-9693-f7d93e8bf65f\", element=\"92676a6d-989d-436a-9473-5556f1cf6fdd\")>,\n",
       "  <selenium.webdriver.firefox.webelement.FirefoxWebElement (session=\"7f40297e-d52d-46c4-9693-f7d93e8bf65f\", element=\"2c34895d-3fc2-4306-9653-aa4d8d3d886e\")>,\n",
       "  <selenium.webdriver.firefox.webelement.FirefoxWebElement (session=\"7f40297e-d52d-46c4-9693-f7d93e8bf65f\", element=\"302f41dc-cfc2-4466-9e5a-9966f96e11ae\")>,\n",
       "  <selenium.webdriver.firefox.webelement.FirefoxWebElement (session=\"7f40297e-d52d-46c4-9693-f7d93e8bf65f\", element=\"db969eee-4f87-4681-89f1-e095844f4994\")>,\n",
       "  <selenium.webdriver.firefox.webelement.FirefoxWebElement (session=\"7f40297e-d52d-46c4-9693-f7d93e8bf65f\", element=\"6a53628f-c189-4777-804a-b63ad6eabc52\")>,\n",
       "  <selenium.webdriver.firefox.webelement.FirefoxWebElement (session=\"7f40297e-d52d-46c4-9693-f7d93e8bf65f\", element=\"58845697-fd00-4bb5-89a8-2b71e6451d90\")>,\n",
       "  <selenium.webdriver.firefox.webelement.FirefoxWebElement (session=\"7f40297e-d52d-46c4-9693-f7d93e8bf65f\", element=\"66d252bf-5625-4de4-85a6-023d514c44d4\")>,\n",
       "  <selenium.webdriver.firefox.webelement.FirefoxWebElement (session=\"7f40297e-d52d-46c4-9693-f7d93e8bf65f\", element=\"cc8c5819-725c-4f95-8932-1a7c9ff866be\")>],\n",
       " [<selenium.webdriver.firefox.webelement.FirefoxWebElement (session=\"7f40297e-d52d-46c4-9693-f7d93e8bf65f\", element=\"020c915b-940a-4ea4-97a8-d5f473d2f8e5\")>,\n",
       "  <selenium.webdriver.firefox.webelement.FirefoxWebElement (session=\"7f40297e-d52d-46c4-9693-f7d93e8bf65f\", element=\"ce1a3a78-e28a-4f21-b430-89e09f1cf8e8\")>,\n",
       "  <selenium.webdriver.firefox.webelement.FirefoxWebElement (session=\"7f40297e-d52d-46c4-9693-f7d93e8bf65f\", element=\"5851c3cd-ae5d-4e7b-8514-29074dfc51c4\")>,\n",
       "  <selenium.webdriver.firefox.webelement.FirefoxWebElement (session=\"7f40297e-d52d-46c4-9693-f7d93e8bf65f\", element=\"2b3c020b-b926-4ae7-b747-84ab4c73620c\")>,\n",
       "  <selenium.webdriver.firefox.webelement.FirefoxWebElement (session=\"7f40297e-d52d-46c4-9693-f7d93e8bf65f\", element=\"99ee65b6-a25f-4644-9e9b-075f40c9c67a\")>,\n",
       "  <selenium.webdriver.firefox.webelement.FirefoxWebElement (session=\"7f40297e-d52d-46c4-9693-f7d93e8bf65f\", element=\"f0d86221-e32a-4fd4-924b-0aa83a20b7e6\")>,\n",
       "  <selenium.webdriver.firefox.webelement.FirefoxWebElement (session=\"7f40297e-d52d-46c4-9693-f7d93e8bf65f\", element=\"7d60b7e1-c8c6-47c2-a598-439b6b346932\")>,\n",
       "  <selenium.webdriver.firefox.webelement.FirefoxWebElement (session=\"7f40297e-d52d-46c4-9693-f7d93e8bf65f\", element=\"b2ee8804-cc55-46b2-b1bb-ed4d2266d2f6\")>,\n",
       "  <selenium.webdriver.firefox.webelement.FirefoxWebElement (session=\"7f40297e-d52d-46c4-9693-f7d93e8bf65f\", element=\"6bb6e1b7-bea3-4528-aec8-917a7eba6234\")>,\n",
       "  <selenium.webdriver.firefox.webelement.FirefoxWebElement (session=\"7f40297e-d52d-46c4-9693-f7d93e8bf65f\", element=\"29defca7-4290-4d40-a653-61198f1635e1\")>,\n",
       "  <selenium.webdriver.firefox.webelement.FirefoxWebElement (session=\"7f40297e-d52d-46c4-9693-f7d93e8bf65f\", element=\"538a0278-bd0c-4737-8f77-7fb55bf38423\")>,\n",
       "  <selenium.webdriver.firefox.webelement.FirefoxWebElement (session=\"7f40297e-d52d-46c4-9693-f7d93e8bf65f\", element=\"6324c4b5-ed14-42fb-a7b8-dbb587c83fef\")>,\n",
       "  <selenium.webdriver.firefox.webelement.FirefoxWebElement (session=\"7f40297e-d52d-46c4-9693-f7d93e8bf65f\", element=\"9e1f6118-de15-48fd-ab13-4489257f147f\")>],\n",
       " [<selenium.webdriver.firefox.webelement.FirefoxWebElement (session=\"7f40297e-d52d-46c4-9693-f7d93e8bf65f\", element=\"5529cac9-8c62-4ea8-94bd-8d4c5876b6f9\")>,\n",
       "  <selenium.webdriver.firefox.webelement.FirefoxWebElement (session=\"7f40297e-d52d-46c4-9693-f7d93e8bf65f\", element=\"59ee8c79-6f3d-4773-8859-85c613cf6e09\")>,\n",
       "  <selenium.webdriver.firefox.webelement.FirefoxWebElement (session=\"7f40297e-d52d-46c4-9693-f7d93e8bf65f\", element=\"0f1c8ac5-4362-4414-951d-87018d85998a\")>,\n",
       "  <selenium.webdriver.firefox.webelement.FirefoxWebElement (session=\"7f40297e-d52d-46c4-9693-f7d93e8bf65f\", element=\"cf4e3785-fcb6-42f2-a294-6d70cd70a4d2\")>,\n",
       "  <selenium.webdriver.firefox.webelement.FirefoxWebElement (session=\"7f40297e-d52d-46c4-9693-f7d93e8bf65f\", element=\"3dde8c36-7bfc-472b-8e7c-05f1953d6fa0\")>,\n",
       "  <selenium.webdriver.firefox.webelement.FirefoxWebElement (session=\"7f40297e-d52d-46c4-9693-f7d93e8bf65f\", element=\"72c95f11-1d94-4006-ab54-961329a1811f\")>,\n",
       "  <selenium.webdriver.firefox.webelement.FirefoxWebElement (session=\"7f40297e-d52d-46c4-9693-f7d93e8bf65f\", element=\"51ea88c7-e416-4cb3-9790-a9ef328b31fe\")>,\n",
       "  <selenium.webdriver.firefox.webelement.FirefoxWebElement (session=\"7f40297e-d52d-46c4-9693-f7d93e8bf65f\", element=\"c01353d3-4e7e-4b16-94e0-e8dec4260067\")>,\n",
       "  <selenium.webdriver.firefox.webelement.FirefoxWebElement (session=\"7f40297e-d52d-46c4-9693-f7d93e8bf65f\", element=\"bd941710-8ead-49a4-b18c-fc063e57112b\")>,\n",
       "  <selenium.webdriver.firefox.webelement.FirefoxWebElement (session=\"7f40297e-d52d-46c4-9693-f7d93e8bf65f\", element=\"0438d1d6-6a1e-48cc-93d0-0b497ed28c12\")>,\n",
       "  <selenium.webdriver.firefox.webelement.FirefoxWebElement (session=\"7f40297e-d52d-46c4-9693-f7d93e8bf65f\", element=\"9849c6bc-de2d-472f-9d16-189c2da1cc5e\")>,\n",
       "  <selenium.webdriver.firefox.webelement.FirefoxWebElement (session=\"7f40297e-d52d-46c4-9693-f7d93e8bf65f\", element=\"31b2cdac-2008-4fc8-bede-6aa3f1c1c4a4\")>,\n",
       "  <selenium.webdriver.firefox.webelement.FirefoxWebElement (session=\"7f40297e-d52d-46c4-9693-f7d93e8bf65f\", element=\"0b529c00-bc71-45a3-8f49-98f03ad2d322\")>],\n",
       " [<selenium.webdriver.firefox.webelement.FirefoxWebElement (session=\"7f40297e-d52d-46c4-9693-f7d93e8bf65f\", element=\"79755ea6-e0e7-46a8-b0dd-ae1e16f02444\")>,\n",
       "  <selenium.webdriver.firefox.webelement.FirefoxWebElement (session=\"7f40297e-d52d-46c4-9693-f7d93e8bf65f\", element=\"d7d94fb5-e83f-47f7-9d41-ed01636b3b62\")>,\n",
       "  <selenium.webdriver.firefox.webelement.FirefoxWebElement (session=\"7f40297e-d52d-46c4-9693-f7d93e8bf65f\", element=\"8cae64b8-60c6-4d6b-8823-ce362a8085a1\")>,\n",
       "  <selenium.webdriver.firefox.webelement.FirefoxWebElement (session=\"7f40297e-d52d-46c4-9693-f7d93e8bf65f\", element=\"3f1d47eb-4f97-4a4f-a877-63d7af774034\")>,\n",
       "  <selenium.webdriver.firefox.webelement.FirefoxWebElement (session=\"7f40297e-d52d-46c4-9693-f7d93e8bf65f\", element=\"9ef6195c-4288-419e-93e9-bb0e35ab50eb\")>,\n",
       "  <selenium.webdriver.firefox.webelement.FirefoxWebElement (session=\"7f40297e-d52d-46c4-9693-f7d93e8bf65f\", element=\"440fa9c5-d488-4729-af46-2eb8c9d56331\")>,\n",
       "  <selenium.webdriver.firefox.webelement.FirefoxWebElement (session=\"7f40297e-d52d-46c4-9693-f7d93e8bf65f\", element=\"090a4981-4242-46d5-b3f9-5c69cc68ec59\")>,\n",
       "  <selenium.webdriver.firefox.webelement.FirefoxWebElement (session=\"7f40297e-d52d-46c4-9693-f7d93e8bf65f\", element=\"ff78a98c-85be-4c43-95cd-1e9b139256b0\")>,\n",
       "  <selenium.webdriver.firefox.webelement.FirefoxWebElement (session=\"7f40297e-d52d-46c4-9693-f7d93e8bf65f\", element=\"74de4159-100d-4a6c-a924-883323db56e1\")>,\n",
       "  <selenium.webdriver.firefox.webelement.FirefoxWebElement (session=\"7f40297e-d52d-46c4-9693-f7d93e8bf65f\", element=\"8a595cc1-b781-46c9-9409-cb301d5b840a\")>,\n",
       "  <selenium.webdriver.firefox.webelement.FirefoxWebElement (session=\"7f40297e-d52d-46c4-9693-f7d93e8bf65f\", element=\"72d77f13-6abe-4e8b-a52a-af94f367eddf\")>,\n",
       "  <selenium.webdriver.firefox.webelement.FirefoxWebElement (session=\"7f40297e-d52d-46c4-9693-f7d93e8bf65f\", element=\"cdda8f0b-2a3c-43d8-ae29-4190b2c57223\")>,\n",
       "  <selenium.webdriver.firefox.webelement.FirefoxWebElement (session=\"7f40297e-d52d-46c4-9693-f7d93e8bf65f\", element=\"341beb31-6c8b-4039-83f3-dc48c9f9ea35\")>],\n",
       " [<selenium.webdriver.firefox.webelement.FirefoxWebElement (session=\"7f40297e-d52d-46c4-9693-f7d93e8bf65f\", element=\"97977e8d-68fe-4041-ab27-f6970a4e7c86\")>,\n",
       "  <selenium.webdriver.firefox.webelement.FirefoxWebElement (session=\"7f40297e-d52d-46c4-9693-f7d93e8bf65f\", element=\"be947c0a-1b49-485a-9f1c-c1fa0b711d6a\")>,\n",
       "  <selenium.webdriver.firefox.webelement.FirefoxWebElement (session=\"7f40297e-d52d-46c4-9693-f7d93e8bf65f\", element=\"b4f624d1-bcec-4f22-b61e-e28c32c661c0\")>,\n",
       "  <selenium.webdriver.firefox.webelement.FirefoxWebElement (session=\"7f40297e-d52d-46c4-9693-f7d93e8bf65f\", element=\"bc14b34e-7f66-412b-99a5-fbbd4b65cb28\")>,\n",
       "  <selenium.webdriver.firefox.webelement.FirefoxWebElement (session=\"7f40297e-d52d-46c4-9693-f7d93e8bf65f\", element=\"c6ab617f-201c-42ff-afcc-fe3e6b1ea0ef\")>,\n",
       "  <selenium.webdriver.firefox.webelement.FirefoxWebElement (session=\"7f40297e-d52d-46c4-9693-f7d93e8bf65f\", element=\"4e4bec12-cec7-47d1-94a3-1c6d923167c0\")>,\n",
       "  <selenium.webdriver.firefox.webelement.FirefoxWebElement (session=\"7f40297e-d52d-46c4-9693-f7d93e8bf65f\", element=\"7bbe2eb0-3dd8-4521-9619-718da07646dd\")>,\n",
       "  <selenium.webdriver.firefox.webelement.FirefoxWebElement (session=\"7f40297e-d52d-46c4-9693-f7d93e8bf65f\", element=\"7c681db6-8997-4183-8d62-34c22c8f582c\")>,\n",
       "  <selenium.webdriver.firefox.webelement.FirefoxWebElement (session=\"7f40297e-d52d-46c4-9693-f7d93e8bf65f\", element=\"686b67a4-3c09-41e5-a824-294ad9de4b32\")>,\n",
       "  <selenium.webdriver.firefox.webelement.FirefoxWebElement (session=\"7f40297e-d52d-46c4-9693-f7d93e8bf65f\", element=\"6a39c1b5-f5db-41e2-a341-7770ae3390b6\")>,\n",
       "  <selenium.webdriver.firefox.webelement.FirefoxWebElement (session=\"7f40297e-d52d-46c4-9693-f7d93e8bf65f\", element=\"0285434b-e5d4-47f2-8f78-a2171c012f3b\")>,\n",
       "  <selenium.webdriver.firefox.webelement.FirefoxWebElement (session=\"7f40297e-d52d-46c4-9693-f7d93e8bf65f\", element=\"6c883b74-6786-4e07-8817-880d15c2a902\")>,\n",
       "  <selenium.webdriver.firefox.webelement.FirefoxWebElement (session=\"7f40297e-d52d-46c4-9693-f7d93e8bf65f\", element=\"65f99701-f65e-4b66-8670-efd663e644e4\")>],\n",
       " [<selenium.webdriver.firefox.webelement.FirefoxWebElement (session=\"7f40297e-d52d-46c4-9693-f7d93e8bf65f\", element=\"6765fbe3-4fa0-499e-b789-bda358cb7d24\")>,\n",
       "  <selenium.webdriver.firefox.webelement.FirefoxWebElement (session=\"7f40297e-d52d-46c4-9693-f7d93e8bf65f\", element=\"3245e120-9ae1-4c30-85c4-fd206920d76a\")>,\n",
       "  <selenium.webdriver.firefox.webelement.FirefoxWebElement (session=\"7f40297e-d52d-46c4-9693-f7d93e8bf65f\", element=\"d8ccefb1-4573-460c-a1a7-ee6f949aaf80\")>,\n",
       "  <selenium.webdriver.firefox.webelement.FirefoxWebElement (session=\"7f40297e-d52d-46c4-9693-f7d93e8bf65f\", element=\"d956a3ca-5e39-44ad-b35a-4e414b5e57e5\")>,\n",
       "  <selenium.webdriver.firefox.webelement.FirefoxWebElement (session=\"7f40297e-d52d-46c4-9693-f7d93e8bf65f\", element=\"e5589b0f-6c90-4d69-81f2-c0e8fd4e9547\")>,\n",
       "  <selenium.webdriver.firefox.webelement.FirefoxWebElement (session=\"7f40297e-d52d-46c4-9693-f7d93e8bf65f\", element=\"0cc1baeb-c32b-4ded-9463-c462228bd7cb\")>,\n",
       "  <selenium.webdriver.firefox.webelement.FirefoxWebElement (session=\"7f40297e-d52d-46c4-9693-f7d93e8bf65f\", element=\"53d7bdb7-357f-48a8-b5b2-01240e1be1ee\")>,\n",
       "  <selenium.webdriver.firefox.webelement.FirefoxWebElement (session=\"7f40297e-d52d-46c4-9693-f7d93e8bf65f\", element=\"074502c2-f8b9-452d-9af3-1b35ac5140fa\")>,\n",
       "  <selenium.webdriver.firefox.webelement.FirefoxWebElement (session=\"7f40297e-d52d-46c4-9693-f7d93e8bf65f\", element=\"a5a5ca12-303c-4b8f-a4bf-499e991623ea\")>,\n",
       "  <selenium.webdriver.firefox.webelement.FirefoxWebElement (session=\"7f40297e-d52d-46c4-9693-f7d93e8bf65f\", element=\"59e141b5-5b59-4e47-8c8a-dcea6b0eff08\")>,\n",
       "  <selenium.webdriver.firefox.webelement.FirefoxWebElement (session=\"7f40297e-d52d-46c4-9693-f7d93e8bf65f\", element=\"85851f17-0bb7-497b-9888-3fc1eb4c63f3\")>,\n",
       "  <selenium.webdriver.firefox.webelement.FirefoxWebElement (session=\"7f40297e-d52d-46c4-9693-f7d93e8bf65f\", element=\"546c9ed7-6a85-421a-86f1-6334e28cfef6\")>,\n",
       "  <selenium.webdriver.firefox.webelement.FirefoxWebElement (session=\"7f40297e-d52d-46c4-9693-f7d93e8bf65f\", element=\"d30bc509-84ea-4ab6-9cd6-2cf519f8fe08\")>],\n",
       " [<selenium.webdriver.firefox.webelement.FirefoxWebElement (session=\"7f40297e-d52d-46c4-9693-f7d93e8bf65f\", element=\"20eefa0f-755f-4176-a1d0-a4175107a0b4\")>,\n",
       "  <selenium.webdriver.firefox.webelement.FirefoxWebElement (session=\"7f40297e-d52d-46c4-9693-f7d93e8bf65f\", element=\"252ec983-5596-44d0-9f95-c511cf5fc35e\")>,\n",
       "  <selenium.webdriver.firefox.webelement.FirefoxWebElement (session=\"7f40297e-d52d-46c4-9693-f7d93e8bf65f\", element=\"d27c8da9-f657-4504-aa91-50ce55689467\")>,\n",
       "  <selenium.webdriver.firefox.webelement.FirefoxWebElement (session=\"7f40297e-d52d-46c4-9693-f7d93e8bf65f\", element=\"6415164d-68c7-431e-abe9-6f16fb4a69f6\")>,\n",
       "  <selenium.webdriver.firefox.webelement.FirefoxWebElement (session=\"7f40297e-d52d-46c4-9693-f7d93e8bf65f\", element=\"20d5f6b3-1dbb-42b4-a35b-e25f8bbd2830\")>,\n",
       "  <selenium.webdriver.firefox.webelement.FirefoxWebElement (session=\"7f40297e-d52d-46c4-9693-f7d93e8bf65f\", element=\"a03c7a93-41c0-4772-8d9e-27a35baee103\")>,\n",
       "  <selenium.webdriver.firefox.webelement.FirefoxWebElement (session=\"7f40297e-d52d-46c4-9693-f7d93e8bf65f\", element=\"2b40275a-0278-4446-91db-25b4ac7bc5be\")>,\n",
       "  <selenium.webdriver.firefox.webelement.FirefoxWebElement (session=\"7f40297e-d52d-46c4-9693-f7d93e8bf65f\", element=\"7ca98d83-665b-40d8-8afb-9c6dd099f8cd\")>,\n",
       "  <selenium.webdriver.firefox.webelement.FirefoxWebElement (session=\"7f40297e-d52d-46c4-9693-f7d93e8bf65f\", element=\"f05b9875-6ea1-4d19-8524-a62beaecbca9\")>,\n",
       "  <selenium.webdriver.firefox.webelement.FirefoxWebElement (session=\"7f40297e-d52d-46c4-9693-f7d93e8bf65f\", element=\"49413de4-cde9-4bbd-a305-c79c9fa45438\")>,\n",
       "  <selenium.webdriver.firefox.webelement.FirefoxWebElement (session=\"7f40297e-d52d-46c4-9693-f7d93e8bf65f\", element=\"f9f0d4c5-c771-42fb-aea5-6e9be8d4ca63\")>,\n",
       "  <selenium.webdriver.firefox.webelement.FirefoxWebElement (session=\"7f40297e-d52d-46c4-9693-f7d93e8bf65f\", element=\"3d049bc0-404a-4f4f-82db-4dd8ad38df8a\")>,\n",
       "  <selenium.webdriver.firefox.webelement.FirefoxWebElement (session=\"7f40297e-d52d-46c4-9693-f7d93e8bf65f\", element=\"3ce7cdd0-b481-4a09-a2e3-a792d6d7b0d4\")>],\n",
       " [<selenium.webdriver.firefox.webelement.FirefoxWebElement (session=\"7f40297e-d52d-46c4-9693-f7d93e8bf65f\", element=\"9d04ea00-025a-4bf8-be89-cd0b99716913\")>,\n",
       "  <selenium.webdriver.firefox.webelement.FirefoxWebElement (session=\"7f40297e-d52d-46c4-9693-f7d93e8bf65f\", element=\"1e4273dc-4193-4c29-bbbf-2cc62f64edf2\")>,\n",
       "  <selenium.webdriver.firefox.webelement.FirefoxWebElement (session=\"7f40297e-d52d-46c4-9693-f7d93e8bf65f\", element=\"83a75b7f-ea8d-41f1-b2ee-dff406abfba1\")>,\n",
       "  <selenium.webdriver.firefox.webelement.FirefoxWebElement (session=\"7f40297e-d52d-46c4-9693-f7d93e8bf65f\", element=\"b55dd2ed-1c98-4edb-9d0d-2146b3ef57df\")>,\n",
       "  <selenium.webdriver.firefox.webelement.FirefoxWebElement (session=\"7f40297e-d52d-46c4-9693-f7d93e8bf65f\", element=\"147888fa-5a46-4bca-8990-0568b57decbd\")>,\n",
       "  <selenium.webdriver.firefox.webelement.FirefoxWebElement (session=\"7f40297e-d52d-46c4-9693-f7d93e8bf65f\", element=\"83284a70-52d3-4772-bc96-bff218d9c779\")>,\n",
       "  <selenium.webdriver.firefox.webelement.FirefoxWebElement (session=\"7f40297e-d52d-46c4-9693-f7d93e8bf65f\", element=\"819b3097-cd5b-4e5d-aa58-689ba07aa4ea\")>,\n",
       "  <selenium.webdriver.firefox.webelement.FirefoxWebElement (session=\"7f40297e-d52d-46c4-9693-f7d93e8bf65f\", element=\"17795569-bde2-4d90-94e7-2daf1fa73e2b\")>,\n",
       "  <selenium.webdriver.firefox.webelement.FirefoxWebElement (session=\"7f40297e-d52d-46c4-9693-f7d93e8bf65f\", element=\"304b0638-c646-46f8-bcb3-35f50a58795c\")>,\n",
       "  <selenium.webdriver.firefox.webelement.FirefoxWebElement (session=\"7f40297e-d52d-46c4-9693-f7d93e8bf65f\", element=\"1bfa9ef5-4545-4b8c-b092-245cb44fc633\")>,\n",
       "  <selenium.webdriver.firefox.webelement.FirefoxWebElement (session=\"7f40297e-d52d-46c4-9693-f7d93e8bf65f\", element=\"a1267ec5-e859-428c-977b-f03875393e9f\")>,\n",
       "  <selenium.webdriver.firefox.webelement.FirefoxWebElement (session=\"7f40297e-d52d-46c4-9693-f7d93e8bf65f\", element=\"0992afd9-08f3-4ea4-8663-4efde655529d\")>,\n",
       "  <selenium.webdriver.firefox.webelement.FirefoxWebElement (session=\"7f40297e-d52d-46c4-9693-f7d93e8bf65f\", element=\"f72abc63-5f86-4fcb-8f43-d8da6f4d3c0e\")>],\n",
       " [<selenium.webdriver.firefox.webelement.FirefoxWebElement (session=\"7f40297e-d52d-46c4-9693-f7d93e8bf65f\", element=\"fada67ce-b210-43ca-b7c6-93e225bcbcd7\")>,\n",
       "  <selenium.webdriver.firefox.webelement.FirefoxWebElement (session=\"7f40297e-d52d-46c4-9693-f7d93e8bf65f\", element=\"149269c4-1337-459a-8f7d-02ddf010db0a\")>,\n",
       "  <selenium.webdriver.firefox.webelement.FirefoxWebElement (session=\"7f40297e-d52d-46c4-9693-f7d93e8bf65f\", element=\"fe43f770-54e2-4b1d-a559-5111759531a6\")>,\n",
       "  <selenium.webdriver.firefox.webelement.FirefoxWebElement (session=\"7f40297e-d52d-46c4-9693-f7d93e8bf65f\", element=\"97b5ab5d-d74e-41f9-b9b6-d88d542032cf\")>,\n",
       "  <selenium.webdriver.firefox.webelement.FirefoxWebElement (session=\"7f40297e-d52d-46c4-9693-f7d93e8bf65f\", element=\"ac467fd6-ea31-4c48-b9bd-da42a357e9dd\")>,\n",
       "  <selenium.webdriver.firefox.webelement.FirefoxWebElement (session=\"7f40297e-d52d-46c4-9693-f7d93e8bf65f\", element=\"cf157ad2-7d7e-4a79-aa9f-a1ef8f844f75\")>,\n",
       "  <selenium.webdriver.firefox.webelement.FirefoxWebElement (session=\"7f40297e-d52d-46c4-9693-f7d93e8bf65f\", element=\"17555f5c-ab9d-4e3d-a44e-f87e06fc6f6e\")>,\n",
       "  <selenium.webdriver.firefox.webelement.FirefoxWebElement (session=\"7f40297e-d52d-46c4-9693-f7d93e8bf65f\", element=\"a05e9cc0-91a9-4522-aa4b-4fbbbd5b0341\")>,\n",
       "  <selenium.webdriver.firefox.webelement.FirefoxWebElement (session=\"7f40297e-d52d-46c4-9693-f7d93e8bf65f\", element=\"4fe89a31-ce1d-403e-8b7d-c0708024004e\")>,\n",
       "  <selenium.webdriver.firefox.webelement.FirefoxWebElement (session=\"7f40297e-d52d-46c4-9693-f7d93e8bf65f\", element=\"31dc32ea-55b1-4226-b4bd-0402ba17196b\")>,\n",
       "  <selenium.webdriver.firefox.webelement.FirefoxWebElement (session=\"7f40297e-d52d-46c4-9693-f7d93e8bf65f\", element=\"3d4a16e5-806c-4a6c-b097-4bb248b5d0da\")>,\n",
       "  <selenium.webdriver.firefox.webelement.FirefoxWebElement (session=\"7f40297e-d52d-46c4-9693-f7d93e8bf65f\", element=\"830d82b1-822d-4f33-9416-afd20665c830\")>,\n",
       "  <selenium.webdriver.firefox.webelement.FirefoxWebElement (session=\"7f40297e-d52d-46c4-9693-f7d93e8bf65f\", element=\"05143168-7049-4148-8201-0fdaf338a633\")>],\n",
       " [<selenium.webdriver.firefox.webelement.FirefoxWebElement (session=\"7f40297e-d52d-46c4-9693-f7d93e8bf65f\", element=\"b73f5e11-2541-42a5-b86d-095246016293\")>,\n",
       "  <selenium.webdriver.firefox.webelement.FirefoxWebElement (session=\"7f40297e-d52d-46c4-9693-f7d93e8bf65f\", element=\"9ae534d6-c71b-4ef8-b164-e3ed9b54a1bf\")>,\n",
       "  <selenium.webdriver.firefox.webelement.FirefoxWebElement (session=\"7f40297e-d52d-46c4-9693-f7d93e8bf65f\", element=\"a8b96c4b-e009-481a-ba02-8bf78090a4a7\")>,\n",
       "  <selenium.webdriver.firefox.webelement.FirefoxWebElement (session=\"7f40297e-d52d-46c4-9693-f7d93e8bf65f\", element=\"13ecbdaf-58f5-4939-a52e-90f051a0a839\")>,\n",
       "  <selenium.webdriver.firefox.webelement.FirefoxWebElement (session=\"7f40297e-d52d-46c4-9693-f7d93e8bf65f\", element=\"e8b02e05-c147-45c0-b1cb-56b7a95e94c0\")>,\n",
       "  <selenium.webdriver.firefox.webelement.FirefoxWebElement (session=\"7f40297e-d52d-46c4-9693-f7d93e8bf65f\", element=\"2cfabc8b-8ba3-4371-8484-0dbb414ee5b7\")>,\n",
       "  <selenium.webdriver.firefox.webelement.FirefoxWebElement (session=\"7f40297e-d52d-46c4-9693-f7d93e8bf65f\", element=\"07f3a323-0be4-4edc-b334-04f93da09585\")>,\n",
       "  <selenium.webdriver.firefox.webelement.FirefoxWebElement (session=\"7f40297e-d52d-46c4-9693-f7d93e8bf65f\", element=\"fe19fdb9-98cd-43df-a93b-651e52fbe692\")>,\n",
       "  <selenium.webdriver.firefox.webelement.FirefoxWebElement (session=\"7f40297e-d52d-46c4-9693-f7d93e8bf65f\", element=\"bec16a8c-8681-4b48-92cb-e9292ef1c1e0\")>,\n",
       "  <selenium.webdriver.firefox.webelement.FirefoxWebElement (session=\"7f40297e-d52d-46c4-9693-f7d93e8bf65f\", element=\"c55c37d4-1d1f-4875-81eb-733441809f44\")>,\n",
       "  <selenium.webdriver.firefox.webelement.FirefoxWebElement (session=\"7f40297e-d52d-46c4-9693-f7d93e8bf65f\", element=\"6a8e9dac-607d-4163-8111-5665319ba4fe\")>,\n",
       "  <selenium.webdriver.firefox.webelement.FirefoxWebElement (session=\"7f40297e-d52d-46c4-9693-f7d93e8bf65f\", element=\"4457b62a-8bca-4ecd-9e1f-3f79ee52d6ea\")>,\n",
       "  <selenium.webdriver.firefox.webelement.FirefoxWebElement (session=\"7f40297e-d52d-46c4-9693-f7d93e8bf65f\", element=\"fc81ebfa-a510-4bd3-b2e9-0124c1133754\")>],\n",
       " [<selenium.webdriver.firefox.webelement.FirefoxWebElement (session=\"7f40297e-d52d-46c4-9693-f7d93e8bf65f\", element=\"e532c855-e772-4add-b122-96c1fc059380\")>,\n",
       "  <selenium.webdriver.firefox.webelement.FirefoxWebElement (session=\"7f40297e-d52d-46c4-9693-f7d93e8bf65f\", element=\"101c5bc5-92b5-469d-90fe-59ea5a96b166\")>,\n",
       "  <selenium.webdriver.firefox.webelement.FirefoxWebElement (session=\"7f40297e-d52d-46c4-9693-f7d93e8bf65f\", element=\"26926213-f341-4fe0-8af6-18ce9e08b129\")>,\n",
       "  <selenium.webdriver.firefox.webelement.FirefoxWebElement (session=\"7f40297e-d52d-46c4-9693-f7d93e8bf65f\", element=\"1eabdcd8-20ad-4ea6-8d8c-104b41c50dd5\")>,\n",
       "  <selenium.webdriver.firefox.webelement.FirefoxWebElement (session=\"7f40297e-d52d-46c4-9693-f7d93e8bf65f\", element=\"5b6c7938-4efd-4f5e-bdec-1ede4bf3d51b\")>,\n",
       "  <selenium.webdriver.firefox.webelement.FirefoxWebElement (session=\"7f40297e-d52d-46c4-9693-f7d93e8bf65f\", element=\"d1057f78-f2fe-48c2-a0d2-ccb5c49a283a\")>,\n",
       "  <selenium.webdriver.firefox.webelement.FirefoxWebElement (session=\"7f40297e-d52d-46c4-9693-f7d93e8bf65f\", element=\"fc4c4bcf-7d1e-4f47-bf21-9b2ce2cd257e\")>,\n",
       "  <selenium.webdriver.firefox.webelement.FirefoxWebElement (session=\"7f40297e-d52d-46c4-9693-f7d93e8bf65f\", element=\"4d2a3d17-26a2-470b-b75f-90fe361e9f22\")>,\n",
       "  <selenium.webdriver.firefox.webelement.FirefoxWebElement (session=\"7f40297e-d52d-46c4-9693-f7d93e8bf65f\", element=\"3e45a5dd-d0b1-4efb-a79e-d674e6b48aea\")>,\n",
       "  <selenium.webdriver.firefox.webelement.FirefoxWebElement (session=\"7f40297e-d52d-46c4-9693-f7d93e8bf65f\", element=\"e9224d6a-8755-4a44-a78c-4c6e45b7ad29\")>,\n",
       "  <selenium.webdriver.firefox.webelement.FirefoxWebElement (session=\"7f40297e-d52d-46c4-9693-f7d93e8bf65f\", element=\"1d58d927-fc37-4293-ba47-7bb904420c95\")>,\n",
       "  <selenium.webdriver.firefox.webelement.FirefoxWebElement (session=\"7f40297e-d52d-46c4-9693-f7d93e8bf65f\", element=\"bc5b54eb-ea25-4b12-9ff7-f9e7eaba4831\")>,\n",
       "  <selenium.webdriver.firefox.webelement.FirefoxWebElement (session=\"7f40297e-d52d-46c4-9693-f7d93e8bf65f\", element=\"ee31b1e2-c2a1-4d9c-b09c-46cc0a06892f\")>],\n",
       " [<selenium.webdriver.firefox.webelement.FirefoxWebElement (session=\"7f40297e-d52d-46c4-9693-f7d93e8bf65f\", element=\"c7f0396b-38b4-4d9a-8a5e-dbc52b5dfe91\")>,\n",
       "  <selenium.webdriver.firefox.webelement.FirefoxWebElement (session=\"7f40297e-d52d-46c4-9693-f7d93e8bf65f\", element=\"e6d8cf4d-dd7b-405f-9d68-6c0b793f6c30\")>,\n",
       "  <selenium.webdriver.firefox.webelement.FirefoxWebElement (session=\"7f40297e-d52d-46c4-9693-f7d93e8bf65f\", element=\"f20374d1-3bf1-47d5-9ea1-0b965c9c7a67\")>,\n",
       "  <selenium.webdriver.firefox.webelement.FirefoxWebElement (session=\"7f40297e-d52d-46c4-9693-f7d93e8bf65f\", element=\"5c30da46-726f-4cc6-b9bf-76f409dd29d7\")>,\n",
       "  <selenium.webdriver.firefox.webelement.FirefoxWebElement (session=\"7f40297e-d52d-46c4-9693-f7d93e8bf65f\", element=\"83741923-3bca-4b59-b3d7-9f2090314f3a\")>,\n",
       "  <selenium.webdriver.firefox.webelement.FirefoxWebElement (session=\"7f40297e-d52d-46c4-9693-f7d93e8bf65f\", element=\"909483db-45ca-421f-9a55-7ac47c029176\")>,\n",
       "  <selenium.webdriver.firefox.webelement.FirefoxWebElement (session=\"7f40297e-d52d-46c4-9693-f7d93e8bf65f\", element=\"d8b33224-d05d-4725-9bc1-a8ca4d494378\")>,\n",
       "  <selenium.webdriver.firefox.webelement.FirefoxWebElement (session=\"7f40297e-d52d-46c4-9693-f7d93e8bf65f\", element=\"5693b0d2-1e6f-4b58-82a9-ef50388b3092\")>,\n",
       "  <selenium.webdriver.firefox.webelement.FirefoxWebElement (session=\"7f40297e-d52d-46c4-9693-f7d93e8bf65f\", element=\"f4a754d1-29cf-48d9-8042-af2ff6aa19a4\")>,\n",
       "  <selenium.webdriver.firefox.webelement.FirefoxWebElement (session=\"7f40297e-d52d-46c4-9693-f7d93e8bf65f\", element=\"4e19a832-5c0f-4929-ba3d-639605094054\")>,\n",
       "  <selenium.webdriver.firefox.webelement.FirefoxWebElement (session=\"7f40297e-d52d-46c4-9693-f7d93e8bf65f\", element=\"35712658-0526-4325-87fa-6ea2eeca7414\")>,\n",
       "  <selenium.webdriver.firefox.webelement.FirefoxWebElement (session=\"7f40297e-d52d-46c4-9693-f7d93e8bf65f\", element=\"620fb246-07e8-49c6-8188-241d24c853a7\")>,\n",
       "  <selenium.webdriver.firefox.webelement.FirefoxWebElement (session=\"7f40297e-d52d-46c4-9693-f7d93e8bf65f\", element=\"a5818615-9613-47f6-b706-92d6544e3ae0\")>],\n",
       " [<selenium.webdriver.firefox.webelement.FirefoxWebElement (session=\"7f40297e-d52d-46c4-9693-f7d93e8bf65f\", element=\"0e66174b-5c65-4bb8-bb2e-fdbd8a6ea929\")>,\n",
       "  <selenium.webdriver.firefox.webelement.FirefoxWebElement (session=\"7f40297e-d52d-46c4-9693-f7d93e8bf65f\", element=\"4183b25c-bc0c-45e8-9998-49dbc0b230bf\")>,\n",
       "  <selenium.webdriver.firefox.webelement.FirefoxWebElement (session=\"7f40297e-d52d-46c4-9693-f7d93e8bf65f\", element=\"7815c733-2e99-44af-a5d6-a4a45cbf5959\")>,\n",
       "  <selenium.webdriver.firefox.webelement.FirefoxWebElement (session=\"7f40297e-d52d-46c4-9693-f7d93e8bf65f\", element=\"935715bb-2895-409b-815d-890b0105d1d3\")>,\n",
       "  <selenium.webdriver.firefox.webelement.FirefoxWebElement (session=\"7f40297e-d52d-46c4-9693-f7d93e8bf65f\", element=\"8231a7e8-d7bd-40cf-9424-1fef198f0f10\")>,\n",
       "  <selenium.webdriver.firefox.webelement.FirefoxWebElement (session=\"7f40297e-d52d-46c4-9693-f7d93e8bf65f\", element=\"463bffd8-b848-4fa8-b669-506fd83f3276\")>,\n",
       "  <selenium.webdriver.firefox.webelement.FirefoxWebElement (session=\"7f40297e-d52d-46c4-9693-f7d93e8bf65f\", element=\"6cbabac8-1856-4b8d-9d36-46ef89943f3f\")>,\n",
       "  <selenium.webdriver.firefox.webelement.FirefoxWebElement (session=\"7f40297e-d52d-46c4-9693-f7d93e8bf65f\", element=\"f373905b-230d-498e-a9cc-4f2088b23bbd\")>,\n",
       "  <selenium.webdriver.firefox.webelement.FirefoxWebElement (session=\"7f40297e-d52d-46c4-9693-f7d93e8bf65f\", element=\"f9944774-2599-4bdd-b368-2f9667e4fc17\")>,\n",
       "  <selenium.webdriver.firefox.webelement.FirefoxWebElement (session=\"7f40297e-d52d-46c4-9693-f7d93e8bf65f\", element=\"0a3d0a76-9481-4a51-b3a3-5ae765c31773\")>,\n",
       "  <selenium.webdriver.firefox.webelement.FirefoxWebElement (session=\"7f40297e-d52d-46c4-9693-f7d93e8bf65f\", element=\"d81dddb4-83af-4ed5-8982-69f9d81bf84e\")>,\n",
       "  <selenium.webdriver.firefox.webelement.FirefoxWebElement (session=\"7f40297e-d52d-46c4-9693-f7d93e8bf65f\", element=\"2a14b6b4-f02f-4dc2-bfb7-18c4ace278ae\")>,\n",
       "  <selenium.webdriver.firefox.webelement.FirefoxWebElement (session=\"7f40297e-d52d-46c4-9693-f7d93e8bf65f\", element=\"be41868d-0494-4dae-ac57-f3c1054cc85f\")>],\n",
       " [<selenium.webdriver.firefox.webelement.FirefoxWebElement (session=\"7f40297e-d52d-46c4-9693-f7d93e8bf65f\", element=\"046de320-aebe-4f22-9c56-04195e5759a8\")>,\n",
       "  <selenium.webdriver.firefox.webelement.FirefoxWebElement (session=\"7f40297e-d52d-46c4-9693-f7d93e8bf65f\", element=\"0a911116-ebcc-4289-a198-a9103d1b1f41\")>,\n",
       "  <selenium.webdriver.firefox.webelement.FirefoxWebElement (session=\"7f40297e-d52d-46c4-9693-f7d93e8bf65f\", element=\"3aff0003-73fd-4fe6-ac2b-91ecf2e16866\")>,\n",
       "  <selenium.webdriver.firefox.webelement.FirefoxWebElement (session=\"7f40297e-d52d-46c4-9693-f7d93e8bf65f\", element=\"e8f27561-6b11-42a9-8f2c-28006294f57c\")>,\n",
       "  <selenium.webdriver.firefox.webelement.FirefoxWebElement (session=\"7f40297e-d52d-46c4-9693-f7d93e8bf65f\", element=\"70df3c61-3dd2-4fc9-a91c-95baac4068e3\")>,\n",
       "  <selenium.webdriver.firefox.webelement.FirefoxWebElement (session=\"7f40297e-d52d-46c4-9693-f7d93e8bf65f\", element=\"15261e9a-8a5e-457d-9372-17724c56cd01\")>,\n",
       "  <selenium.webdriver.firefox.webelement.FirefoxWebElement (session=\"7f40297e-d52d-46c4-9693-f7d93e8bf65f\", element=\"16b2f80a-0a79-48db-a4a9-5fd077a6f07d\")>,\n",
       "  <selenium.webdriver.firefox.webelement.FirefoxWebElement (session=\"7f40297e-d52d-46c4-9693-f7d93e8bf65f\", element=\"60c323d1-5f0c-4271-8b9c-09fc62dc82ef\")>,\n",
       "  <selenium.webdriver.firefox.webelement.FirefoxWebElement (session=\"7f40297e-d52d-46c4-9693-f7d93e8bf65f\", element=\"7c509eec-8f11-44bd-b497-abaef15885ff\")>,\n",
       "  <selenium.webdriver.firefox.webelement.FirefoxWebElement (session=\"7f40297e-d52d-46c4-9693-f7d93e8bf65f\", element=\"414810f3-4a82-4aef-bf99-93f5e789487f\")>,\n",
       "  <selenium.webdriver.firefox.webelement.FirefoxWebElement (session=\"7f40297e-d52d-46c4-9693-f7d93e8bf65f\", element=\"e7e8c09d-7f54-4039-b713-9b36f07e4eac\")>,\n",
       "  <selenium.webdriver.firefox.webelement.FirefoxWebElement (session=\"7f40297e-d52d-46c4-9693-f7d93e8bf65f\", element=\"1a2f9bf3-c1ef-4697-978b-335143a598a1\")>,\n",
       "  <selenium.webdriver.firefox.webelement.FirefoxWebElement (session=\"7f40297e-d52d-46c4-9693-f7d93e8bf65f\", element=\"f69518b0-bf2d-4331-b225-4d56d7a08afe\")>],\n",
       " [<selenium.webdriver.firefox.webelement.FirefoxWebElement (session=\"7f40297e-d52d-46c4-9693-f7d93e8bf65f\", element=\"911c06cb-2e87-41ad-b86f-d1d9f6882fcd\")>,\n",
       "  <selenium.webdriver.firefox.webelement.FirefoxWebElement (session=\"7f40297e-d52d-46c4-9693-f7d93e8bf65f\", element=\"b6d54f34-1cc3-4c3c-b027-bf157646595d\")>,\n",
       "  <selenium.webdriver.firefox.webelement.FirefoxWebElement (session=\"7f40297e-d52d-46c4-9693-f7d93e8bf65f\", element=\"ccd0e85a-d177-43bc-966f-c205225c4424\")>,\n",
       "  <selenium.webdriver.firefox.webelement.FirefoxWebElement (session=\"7f40297e-d52d-46c4-9693-f7d93e8bf65f\", element=\"b1db1d2c-1428-4315-a92e-9bc79d154dfc\")>,\n",
       "  <selenium.webdriver.firefox.webelement.FirefoxWebElement (session=\"7f40297e-d52d-46c4-9693-f7d93e8bf65f\", element=\"09f01d1f-6094-43b1-9791-b4fd8b4534e0\")>,\n",
       "  <selenium.webdriver.firefox.webelement.FirefoxWebElement (session=\"7f40297e-d52d-46c4-9693-f7d93e8bf65f\", element=\"5fa7984c-d30a-4349-997d-5bd1c7776493\")>,\n",
       "  <selenium.webdriver.firefox.webelement.FirefoxWebElement (session=\"7f40297e-d52d-46c4-9693-f7d93e8bf65f\", element=\"8a25bae7-f441-44f0-b902-f27b6c4f84da\")>,\n",
       "  <selenium.webdriver.firefox.webelement.FirefoxWebElement (session=\"7f40297e-d52d-46c4-9693-f7d93e8bf65f\", element=\"c8de2ee5-52fe-4516-9d59-31a0418f9a59\")>,\n",
       "  <selenium.webdriver.firefox.webelement.FirefoxWebElement (session=\"7f40297e-d52d-46c4-9693-f7d93e8bf65f\", element=\"5c75c5d1-518c-46fa-906a-23d22143b879\")>,\n",
       "  <selenium.webdriver.firefox.webelement.FirefoxWebElement (session=\"7f40297e-d52d-46c4-9693-f7d93e8bf65f\", element=\"23d203e7-1942-4724-ba17-8e316e8459ff\")>,\n",
       "  <selenium.webdriver.firefox.webelement.FirefoxWebElement (session=\"7f40297e-d52d-46c4-9693-f7d93e8bf65f\", element=\"d5b951ea-69b6-40b0-a265-51011a262b47\")>,\n",
       "  <selenium.webdriver.firefox.webelement.FirefoxWebElement (session=\"7f40297e-d52d-46c4-9693-f7d93e8bf65f\", element=\"76fdc639-f618-4620-96d8-1ca31304d994\")>,\n",
       "  <selenium.webdriver.firefox.webelement.FirefoxWebElement (session=\"7f40297e-d52d-46c4-9693-f7d93e8bf65f\", element=\"5f15947d-9869-46d8-b657-112a05d982d8\")>],\n",
       " [<selenium.webdriver.firefox.webelement.FirefoxWebElement (session=\"7f40297e-d52d-46c4-9693-f7d93e8bf65f\", element=\"ec75d3c5-8ec8-433b-8936-7f39607f297a\")>,\n",
       "  <selenium.webdriver.firefox.webelement.FirefoxWebElement (session=\"7f40297e-d52d-46c4-9693-f7d93e8bf65f\", element=\"2df4223b-1303-4a5e-b0ea-68fb10d5cffd\")>,\n",
       "  <selenium.webdriver.firefox.webelement.FirefoxWebElement (session=\"7f40297e-d52d-46c4-9693-f7d93e8bf65f\", element=\"8b9f7ccd-35dd-41fa-9850-629be866a2b6\")>,\n",
       "  <selenium.webdriver.firefox.webelement.FirefoxWebElement (session=\"7f40297e-d52d-46c4-9693-f7d93e8bf65f\", element=\"5ac50163-9e09-400e-bcd7-64e0943100e0\")>,\n",
       "  <selenium.webdriver.firefox.webelement.FirefoxWebElement (session=\"7f40297e-d52d-46c4-9693-f7d93e8bf65f\", element=\"b92adfad-3a18-4461-8e61-5082312d3094\")>,\n",
       "  <selenium.webdriver.firefox.webelement.FirefoxWebElement (session=\"7f40297e-d52d-46c4-9693-f7d93e8bf65f\", element=\"8d476a04-718d-4318-8f19-2d86ca9a0c9e\")>,\n",
       "  <selenium.webdriver.firefox.webelement.FirefoxWebElement (session=\"7f40297e-d52d-46c4-9693-f7d93e8bf65f\", element=\"8ca60e84-436a-4c92-82d9-855b8ea98936\")>,\n",
       "  <selenium.webdriver.firefox.webelement.FirefoxWebElement (session=\"7f40297e-d52d-46c4-9693-f7d93e8bf65f\", element=\"a1114288-295a-4b65-a081-e27a36d2eaa6\")>,\n",
       "  <selenium.webdriver.firefox.webelement.FirefoxWebElement (session=\"7f40297e-d52d-46c4-9693-f7d93e8bf65f\", element=\"27b396be-1414-4aa6-a9b3-f220d72f2490\")>,\n",
       "  <selenium.webdriver.firefox.webelement.FirefoxWebElement (session=\"7f40297e-d52d-46c4-9693-f7d93e8bf65f\", element=\"34ba1a41-fa5b-4f83-a42a-4ca02103c839\")>,\n",
       "  <selenium.webdriver.firefox.webelement.FirefoxWebElement (session=\"7f40297e-d52d-46c4-9693-f7d93e8bf65f\", element=\"774a92b1-3356-41a1-9204-26c1b0e6b468\")>,\n",
       "  <selenium.webdriver.firefox.webelement.FirefoxWebElement (session=\"7f40297e-d52d-46c4-9693-f7d93e8bf65f\", element=\"9777766b-605c-4d64-9ea1-c8c078967b73\")>,\n",
       "  <selenium.webdriver.firefox.webelement.FirefoxWebElement (session=\"7f40297e-d52d-46c4-9693-f7d93e8bf65f\", element=\"ae37357d-4164-4d36-85f2-d6b51c7dddc6\")>],\n",
       " [<selenium.webdriver.firefox.webelement.FirefoxWebElement (session=\"7f40297e-d52d-46c4-9693-f7d93e8bf65f\", element=\"ef923aa5-b096-4649-bd70-06a299381424\")>,\n",
       "  <selenium.webdriver.firefox.webelement.FirefoxWebElement (session=\"7f40297e-d52d-46c4-9693-f7d93e8bf65f\", element=\"d5f87cf1-f5e8-4acc-9310-5d39c1fe2f14\")>,\n",
       "  <selenium.webdriver.firefox.webelement.FirefoxWebElement (session=\"7f40297e-d52d-46c4-9693-f7d93e8bf65f\", element=\"ff193d2c-7baa-4f26-a319-1de136a1513c\")>,\n",
       "  <selenium.webdriver.firefox.webelement.FirefoxWebElement (session=\"7f40297e-d52d-46c4-9693-f7d93e8bf65f\", element=\"3622c6ed-7e16-41ba-87e7-7c0aecf6ec16\")>,\n",
       "  <selenium.webdriver.firefox.webelement.FirefoxWebElement (session=\"7f40297e-d52d-46c4-9693-f7d93e8bf65f\", element=\"9c5a946a-8c7e-428c-aa47-2dd3e7229f97\")>,\n",
       "  <selenium.webdriver.firefox.webelement.FirefoxWebElement (session=\"7f40297e-d52d-46c4-9693-f7d93e8bf65f\", element=\"a8b12d18-afbc-4a70-95e9-643f528ef57b\")>,\n",
       "  <selenium.webdriver.firefox.webelement.FirefoxWebElement (session=\"7f40297e-d52d-46c4-9693-f7d93e8bf65f\", element=\"3111efcb-17f8-4b35-98bd-fb7b464b44e1\")>,\n",
       "  <selenium.webdriver.firefox.webelement.FirefoxWebElement (session=\"7f40297e-d52d-46c4-9693-f7d93e8bf65f\", element=\"163df01a-15e0-4537-8189-03a066d551ee\")>,\n",
       "  <selenium.webdriver.firefox.webelement.FirefoxWebElement (session=\"7f40297e-d52d-46c4-9693-f7d93e8bf65f\", element=\"ae2fc8e3-fd78-4d60-9f61-b7088f301495\")>,\n",
       "  <selenium.webdriver.firefox.webelement.FirefoxWebElement (session=\"7f40297e-d52d-46c4-9693-f7d93e8bf65f\", element=\"1ae7a4b7-fc46-49ff-bc19-30c5f4535982\")>,\n",
       "  <selenium.webdriver.firefox.webelement.FirefoxWebElement (session=\"7f40297e-d52d-46c4-9693-f7d93e8bf65f\", element=\"5f02e5fe-b03b-4582-8cb6-9a4e6c5a7910\")>,\n",
       "  <selenium.webdriver.firefox.webelement.FirefoxWebElement (session=\"7f40297e-d52d-46c4-9693-f7d93e8bf65f\", element=\"50220a91-2f2b-49a4-b804-d91e7c014512\")>,\n",
       "  <selenium.webdriver.firefox.webelement.FirefoxWebElement (session=\"7f40297e-d52d-46c4-9693-f7d93e8bf65f\", element=\"fde92e53-fc2a-40f0-b461-1e95c98bdda9\")>]]"
      ]
     },
     "execution_count": 22,
     "metadata": {},
     "output_type": "execute_result"
    }
   ],
   "source": [
    "jogos"
   ]
  },
  {
   "cell_type": "markdown",
   "metadata": {},
   "source": [
    "# GAMES PER PLAYER - .TEXT"
   ]
  },
  {
   "cell_type": "code",
   "execution_count": 20,
   "metadata": {},
   "outputs": [],
   "source": [
    "jogos_por_jogador =[]\n",
    "list_on_the_go = []\n",
    "for lh in range(1, len(trs)+1):\n",
    "    for lv in range(1, len(tds)+1):\n",
    "        tabela=driver.find_element_by_xpath((table+\"tr[{}]/td[{}]\").format(str(lh), str(lv)))\n",
    "        list_on_the_go.append(tabela.text)\n",
    "    jogos_por_jogador.append(list_on_the_go)\n",
    "    list_on_the_go = []"
   ]
  },
  {
   "cell_type": "code",
   "execution_count": 37,
   "metadata": {},
   "outputs": [],
   "source": [
    "#jogos_por_jogador"
   ]
  },
  {
   "cell_type": "markdown",
   "metadata": {},
   "source": [
    "# RESULTS PER GAME - FOR MATH ANALYSIS"
   ]
  },
  {
   "cell_type": "code",
   "execution_count": 44,
   "metadata": {},
   "outputs": [],
   "source": [
    "driver.get(\"http://www.zerozero.pt/jogo.php?id=5442753\");\n",
    "tempos_de_golo = driver.find_elements_by_class_name('scorers');"
   ]
  },
  {
   "cell_type": "code",
   "execution_count": 31,
   "metadata": {
    "scrolled": true
   },
   "outputs": [
    {
     "name": "stdout",
     "output_type": "stream",
     "text": [
      "Vincent Aboubakar 57, Yacine Brahimi 62, Moussa Marega 79 83\n",
      "Raphinha 22\n",
      "Héldon 88\n"
     ]
    }
   ],
   "source": [
    "for e in tempos_de_golo:\n",
    "    print(e.text)"
   ]
  },
  {
   "cell_type": "code",
   "execution_count": 40,
   "metadata": {},
   "outputs": [
    {
     "data": {
      "text/plain": [
       "[<selenium.webdriver.firefox.webelement.FirefoxWebElement (session=\"7f40297e-d52d-46c4-9693-f7d93e8bf65f\", element=\"4800bb92-6645-4b67-99cc-c81923848bfd\")>,\n",
       " <selenium.webdriver.firefox.webelement.FirefoxWebElement (session=\"7f40297e-d52d-46c4-9693-f7d93e8bf65f\", element=\"0939a835-2a21-4d39-b6b6-b0f421dd5ff5\")>]"
      ]
     },
     "execution_count": 40,
     "metadata": {},
     "output_type": "execute_result"
    }
   ],
   "source": [
    "tempos_de_golo"
   ]
  },
  {
   "cell_type": "code",
   "execution_count": 45,
   "metadata": {
    "scrolled": false
   },
   "outputs": [
    {
     "name": "stdout",
     "output_type": "stream",
     "text": [
      "37 Sérgio Oliveira\n",
      "59 Yacine Brahimi\n",
      "José Valencia 90+1\n"
     ]
    }
   ],
   "source": [
    "print(tempos_de_golo[0].text)\n",
    "print(tempos_de_golo[1].text)"
   ]
  },
  {
   "cell_type": "code",
   "execution_count": 53,
   "metadata": {
    "scrolled": true
   },
   "outputs": [
    {
     "name": "stdout",
     "output_type": "stream",
     "text": [
      "['37', 'Sérgio', 'Oliveira', '59', 'Yacine', 'Brahimi']\n",
      "['José', 'Valencia', '90+1']\n"
     ]
    }
   ],
   "source": [
    "teamA = tempos_de_golo[0].text\n",
    "teamA = teamA.replace('\\n', ' ')\n",
    "teamA = teamA.split(' ')\n",
    "teamB = tempos_de_golo[1].text\n",
    "teamB = teamB.replace('\\n', ' ')\n",
    "teamB = teamB.split(' ')\n",
    "print(teamA)\n",
    "print(teamB)"
   ]
  },
  {
   "cell_type": "code",
   "execution_count": 64,
   "metadata": {},
   "outputs": [],
   "source": [
    "golos_jogo = {\n",
    "    \"teamA\" : [],\n",
    "    \"teamB\" : []\n",
    "}\n",
    "for i in range(len(teamA)):\n",
    "    if '+' in teamA[i]:\n",
    "        #golos_jogo[\"teamA\"].append(teamA[i][:2])\n",
    "        golos_jogo[\"teamA\"].append(eval(teamA[i]))\n",
    "    elif teamA[i].isnumeric():\n",
    "        golos_jogo[\"teamA\"].append(teamA[i])\n",
    "    else:\n",
    "        pass\n",
    "        \n",
    "        \n",
    "for i in range(len(teamB)):\n",
    "    if '+' in teamB[i]:\n",
    "        #golos_jogo[\"teamB\"].append(teamB[i][:2])\n",
    "        golos_jogo[\"teamB\"].append(eval(teamB[i]))\n",
    "    elif teamB[i].isnumeric():\n",
    "        golos_jogo[\"teamB\"].append(teamB[i])\n",
    "    else:\n",
    "        pass"
   ]
  },
  {
   "cell_type": "code",
   "execution_count": 65,
   "metadata": {},
   "outputs": [
    {
     "name": "stdout",
     "output_type": "stream",
     "text": [
      "{'teamA': ['37', '59'], 'teamB': [91]}\n"
     ]
    }
   ],
   "source": [
    "print(golos_jogo)"
   ]
  },
  {
   "cell_type": "code",
   "execution_count": null,
   "metadata": {},
   "outputs": [],
   "source": [
    "class main(self):\n",
    "    def __init__(self):\n",
    "        pass"
   ]
  },
  {
   "cell_type": "code",
   "execution_count": 50,
   "metadata": {},
   "outputs": [],
   "source": [
    "#==> Abrir um novo TAB\n",
    "driver.execute_script(\"window.open('');\")\n",
    "driver.execute_script('alert(\"Hello! I am an alert box!!\");')"
   ]
  },
  {
   "cell_type": "code",
   "execution_count": null,
   "metadata": {},
   "outputs": [],
   "source": []
  },
  {
   "cell_type": "code",
   "execution_count": null,
   "metadata": {},
   "outputs": [],
   "source": []
  }
 ],
 "metadata": {
  "kernelspec": {
   "display_name": "Python 3",
   "language": "python",
   "name": "python3"
  },
  "language_info": {
   "codemirror_mode": {
    "name": "ipython",
    "version": 3
   },
   "file_extension": ".py",
   "mimetype": "text/x-python",
   "name": "python",
   "nbconvert_exporter": "python",
   "pygments_lexer": "ipython3",
   "version": "3.6.5"
  }
 },
 "nbformat": 4,
 "nbformat_minor": 2
}
