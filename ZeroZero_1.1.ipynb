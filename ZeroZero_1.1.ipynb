{
 "cells": [
  {
   "cell_type": "code",
   "execution_count": 1,
   "metadata": {},
   "outputs": [],
   "source": [
    "# -*- coding: utf-8 -*-\n",
    "#https://stackoverflow.com/questions/43390466/visual-studio-community-2017-is-a-30-day-trial\n",
    "from selenium import webdriver\n",
    "from selenium.webdriver.common.keys import Keys\n",
    "from time import sleep\n",
    "import re, os"
   ]
  },
  {
   "cell_type": "code",
   "execution_count": 2,
   "metadata": {},
   "outputs": [],
   "source": [
    "driver = webdriver.Firefox();\n",
    "driver.get(\"http://www.zerozero.pt/player_results.php?id=159904&competicao_id=3&epoca_id=147\");\n",
    "try:\n",
    "    driver.find_element_by_xpath(\"/html/body/div[1]/div/div/div[2]/button\").click();\n",
    "except:\n",
    "    pass\n",
    "driver.refresh();\n",
    "#Python Calculate nth Root Function (Square, Cube, Fourth...)"
   ]
  },
  {
   "cell_type": "markdown",
   "metadata": {},
   "source": [
    "# Eltiro de Ludantoj"
   ]
  },
  {
   "cell_type": "markdown",
   "metadata": {},
   "source": [
    "### Retirar Equipas"
   ]
  },
  {
   "cell_type": "code",
   "execution_count": 4,
   "metadata": {},
   "outputs": [],
   "source": [
    "def get_teams():\n",
    "    try:\n",
    "        driver.find_element_by_xpath(\"/html/body/div[1]/div/div/div[2]/button\").click();\n",
    "    except:\n",
    "        pass\n",
    "    \n",
    "    #Site com equipas na tabela!\n",
    "    driver.get('http://www.zerozero.pt/edition.php?simp=0&id_edicao=109369');\n",
    "    #Refresh para retirar a publicidade!\n",
    "    driver.refresh()\n",
    "    \n",
    "    #xpath para a tabela => ¡atencao jah deve ter mudado!\n",
    "    table_ekipas=\"/html/body/div[7]/div[3]/div[6]/div[3]/div/div[3]/div[3]/table/tbody\"\n",
    "    trs=driver.find_elements_by_xpath(table_ekipas+\"/tr\") # => horizontal\n",
    "    tds=driver.find_elements_by_xpath(table_ekipas+\"/tr[1]/td\") # => vertical\n",
    "    print(len(trs), len(tds))\n",
    "    \n",
    "    #teamoj => nome de equipas, teamojn => link respectivo\n",
    "    teamoj = []\n",
    "    teamojn = []\n",
    "    for i in range(1, len(trs)+1):\n",
    "        current_team = driver.find_element_by_xpath((table_ekipas+\"/tr[{}]/td[3]/a\").format(str(i)))\n",
    "        \n",
    "        #link de cada equipa\n",
    "        current_team_link = ((current_team).get_attribute('href'))\n",
    "        equalSign = current_team_link.index('=')\n",
    "        andSign = current_team_link.index('&')\n",
    "        #extracao de ID unico de cada equipa\n",
    "        #Por exemplo http://www.zerozero.pt/equipa.php?id=7&epoca_id=147 => fica ¡7!\n",
    "        id_equipa = current_team_link[equalSign+1:andSign]\n",
    "        \n",
    "        teamoj.append(current_team) # Nome da equipa\n",
    "        teamojn.append((current_team).get_attribute('href')) # Link da equipa => para colocar em ficheiro .txt\n",
    "    for e in teamoj:\n",
    "        if not os.path.exists('2017_2018'):\n",
    "            os.makedirs('2017_2018/' + e.text)\n",
    "        else:\n",
    "            contrb = (str(e.text)+','+str((e).get_attribute('href')))\n",
    "            print('2017_2018/' + e.text + '/equipaID.link')\n",
    "            with open('2017_2018/' + e.text + '/equipaID.link', 'w+') as f:\n",
    "                f.write(contrb)\n",
    "    return teamoj,teamojn"
   ]
  },
  {
   "cell_type": "markdown",
   "metadata": {},
   "source": [
    "### RETIRAR GIOCATORI"
   ]
  },
  {
   "cell_type": "code",
   "execution_count": 5,
   "metadata": {},
   "outputs": [],
   "source": [
    "def get_players(link_equipa):\n",
    "    save : list = [] #['FC Porto','Benfica','Sporting','Braga','Rio Ave','Chaves','Marítimo','Boavista','V. Guimarães','Portimonense','Tondela','Belenenses']\n",
    "    driver.get(link_equipa)\n",
    "    id_equipa = driver.current_url\n",
    "    print(id_equipa)\n",
    "    nome_equipa = driver.find_element_by_class_name('name').text\n",
    "    print(nome_equipa)\n",
    "    if nome_equipa in save:\n",
    "        return\n",
    "    equalSign = id_equipa.index('=')\n",
    "    andSign = id_equipa.index('&')\n",
    "    id_equipa = id_equipa[equalSign+1:andSign]\n",
    "    link = ('http://www.zerozero.pt/team_players.php?id={}&epoca_stats_id=147').format(id_equipa)\n",
    "    driver.get(link)\n",
    "    driver.refresh()\n",
    "    time.sleep(0.5)\n",
    "    table_ekipas = \"/html/body/div[8]/div[3]/div[6]/div[3]/div/div/table[1]/tbody/\"\n",
    "    trs=driver.find_elements_by_xpath(table_ekipas+\"/tr\") # => horizontal\n",
    "    tds=driver.find_elements_by_xpath(table_ekipas+\"/tr[1]/td\") # => vertical\n",
    "    if len(trs) == 0:\n",
    "        table_ekipas = \"/html/body/div[7]/div[3]/div[6]/div[3]/div/div/table[1]/tbody/\"\n",
    "        trs=driver.find_elements_by_xpath(table_ekipas+\"/tr\") # => horizontal\n",
    "        tds=driver.find_elements_by_xpath(table_ekipas+\"/tr[1]/td\") # => vertical\n",
    "        \n",
    "        \n",
    "    print(len(tds),len(trs))\n",
    "    for j in range(1, len(trs)+1):\n",
    "        jogador = driver.find_element_by_xpath((table_ekipas+\"/tr[{}]/td[3]/div/div[2]/a\").format(str(j)))\n",
    "        contrb = (jogador.text+','+(jogador.get_attribute('href'))+'\\n')\n",
    "        with open('2017_2018/'+nome_equipa+'/jogadores.jfo', 'a', encoding=\"utf-8\") as f:\n",
    "            f.write(contrb)"
   ]
  },
  {
   "cell_type": "markdown",
   "metadata": {},
   "source": [
    "### Juegos por Jugador"
   ]
  },
  {
   "cell_type": "code",
   "execution_count": 7,
   "metadata": {},
   "outputs": [],
   "source": [
    "files = os.listdir('2017_2018')\n",
    "def retirar_jogos_jogador() -> None:\n",
    "    for e in range(14, 18):\n",
    "        path = '2017_2018/' + files[e] + '/jogadores.jfo'; #mudar aqui\n",
    "        with open(path, 'r', encoding='utf-8') as f:\n",
    "            for line in f:\n",
    "                jogador = line.split(',')\n",
    "                if files[e] != 'FC Porto':\n",
    "                    driver.get(jogador[1])\n",
    "                    player_link = driver.current_url\n",
    "                    equalSign = player_link.index('=')\n",
    "                    id_jogador = player_link[equalSign+1:]\n",
    "                    link_jogos = (('http://www.zerozero.pt/player_results.php?id={}&competicao_id=3&epoca_id=147').format(id_jogador))\n",
    "                    driver.get(link_jogos)\n",
    "                    trs = driver.find_elements_by_css_selector(\".box_table table:nth-child(1) tbody:nth-child(2) tr\")\n",
    "                    tds = driver.find_elements_by_css_selector(\".box_table table:nth-child(1) tbody:nth-child(2) tr:nth-child(1) td\")\n",
    "                    print(len(trs), len(tds))\n",
    "                    for j in range(1, len(trs)+1):\n",
    "                        \n",
    "                        vitderr = driver.find_element_by_xpath(('//table/tbody/tr[{}]/td[@class=\"form\"]').format(j)).text\n",
    "                        \n",
    "                        current_game = driver.find_element_by_xpath(('//table/tbody/tr[{}]/td[7]/a').format(j)).get_attribute('href')\n",
    "                        \n",
    "                        entrou_saiu = driver.find_element_by_css_selector(('.box_table table:nth-child(1) tbody:nth-child(2) tr:nth-child({}) td:nth-child(9)').format(j))\n",
    "                        \n",
    "                        tempo_em_jogo = driver.find_element_by_css_selector(('.box_table table:nth-child(1) tbody:nth-child(2) tr:nth-child({}) td:nth-child(8)').format(j))\n",
    "                        \n",
    "                        minutos_totais = driver.find_elements_by_xpath(\"//div[@class='box']/div[@id='facts']/div[@class='curiosity']/div[@class='facts_graphs']/div[@class='graph_games']/div[@style='width:109px;float:left;display:block;']/div[@class='value']\")\n",
    "                        \n",
    "                        try:\n",
    "                            minutos_totais = minutos_totais[1].text.replace('\\nMinutos', '')\n",
    "                        except:\n",
    "                            minutos_totais = 0\n",
    "                        print(vitderr, current_game, entrou_saiu.text, tempo_em_jogo.text, minutos_totais)\n",
    "                        contrb = (('{},{},{},{},{}\\n').format(vitderr, current_game, entrou_saiu.text, tempo_em_jogo.text, minutos_totais));\n",
    "                        print(contrb)\n",
    "                        path_folder = (('2017_2018/{}/{}.jg').format(files[e], jogador[0]))\n",
    "                        with open(path_folder, 'a') as f:\n",
    "                            f.write(contrb)\n",
    "                else:\n",
    "                    pass"
   ]
  },
  {
   "cell_type": "code",
   "execution_count": null,
   "metadata": {},
   "outputs": [],
   "source": [
    "retirar_jogos_jogador()"
   ]
  },
  {
   "cell_type": "markdown",
   "metadata": {},
   "source": [
    "# Recenzja Gry"
   ]
  },
  {
   "cell_type": "code",
   "execution_count": 3,
   "metadata": {},
   "outputs": [],
   "source": [
    "def table_results():\n",
    "    fora = driver.find_element_by_xpath('//div[@class=\"away\"]//div[@class=\"team\"]').text\n",
    "    casa = driver.find_element_by_xpath('//div[@class=\"home\"]//div[@class=\"team\"]').text\n",
    "    equipa_fora_golos = driver.find_elements_by_xpath('//div[@class=\"away\"]//div[@class=\"scorers\"]//span[@class=\"time\"]')\n",
    "    equipa_casa_golos = driver.find_elements_by_xpath('//div[@class=\"home\"]//div[@class=\"scorers\"]//span[@class=\"time\"]')\n",
    "    golls_fora : list = []\n",
    "    golls_casa : list = []\n",
    "    for g in equipa_fora_golos:\n",
    "        gl : list = g.text.replace(' (g.p.)', '').replace(' (p.b.)', '').split(' ')\n",
    "        e : int\n",
    "        for e in range(len(gl)):\n",
    "            golls_fora.append(eval(gl[e]))\n",
    "        \n",
    "    for g in equipa_casa_golos:\n",
    "        gl : list = g.text.replace(' (g.p.)', '').replace(' (p.b.)', '').split(' ')\n",
    "        e : int\n",
    "        for e in range(len(gl)):\n",
    "            golls_casa.append(eval(gl[e]))\n",
    "                \n",
    "    \n",
    "    return casa, golls_casa, fora, golls_fora"
   ]
  },
  {
   "cell_type": "code",
   "execution_count": 4,
   "metadata": {},
   "outputs": [],
   "source": [
    "def goal_comparison(files, casa, goloj_casa, fora, goloj_fora, minutos_jogados):\n",
    "    gm : int = 0\n",
    "    gs : int = 0\n",
    "    if files == casa:\n",
    "        print('casa')\n",
    "        for g in range(len(goloj_casa)):\n",
    "            if (goloj_casa[g] >= minutos_jogados[0]) and (goloj_casa[g] <= minutos_jogados[1]):\n",
    "                gm += 1\n",
    "        for g in range(len(goloj_fora)):\n",
    "            if (goloj_fora[g] >= minutos_jogados[0]) and (goloj_fora[g] <= minutos_jogados[1]):\n",
    "                gs += 1\n",
    "\n",
    "    elif files == fora:\n",
    "        print('fora')\n",
    "        for g in range(len(goloj_casa)):\n",
    "            if (goloj_casa[g] >= minutos_jogados[0]) and (goloj_casa[g] <= minutos_jogados[1]):\n",
    "                gs += 1\n",
    "        for g in range(len(goloj_fora)):\n",
    "            if (goloj_fora[g] >= minutos_jogados[0]) and (goloj_fora[g] <= minutos_jogados[1]):\n",
    "                gm += 1\n",
    "                \n",
    "    return gm, gs"
   ]
  },
  {
   "cell_type": "markdown",
   "metadata": {},
   "source": [
    "### L'Algorithme "
   ]
  },
  {
   "cell_type": "code",
   "execution_count": 5,
   "metadata": {},
   "outputs": [],
   "source": [
    "def comparacion():\n",
    "    to_exclude : list = ['equipaID.link', 'jogadores.jfo'];\n",
    "    files : list = os.listdir('2017_2018');\n",
    "    for i in range(1):\n",
    "        i = 0;\n",
    "        save : list = os.listdir(('2017_2018/{}/stats/').format(files[i]));\n",
    "        n_jogadores : list = os.listdir(('2017_2018/{}'.format(files[i])));\n",
    "        res : list = [];\n",
    "        j : int;\n",
    "        for j in range(len(n_jogadores)):\n",
    "            path = ('2017_2018/{}/{}'.format(files[i],n_jogadores[j]));\n",
    "            if (n_jogadores[j].replace('.jg', '.sts') not in save) and (n_jogadores[j] not in to_exclude):\n",
    "                with open(path, 'r', encoding='utf-8') as f:\n",
    "                    jogos_jogador : list = f.readlines();\n",
    "                j: int;\n",
    "                for j in range(len(jogos_jogador)):\n",
    "                    print(jogos_jogador[j].split(','))\n",
    "                    dados_jogo : list = jogos_jogador[j].split(',');\n",
    "                    print(dados_jogo);\n",
    "                    print(dados_jogo[2])\n",
    "                    if dados_jogo[3] != 'NU':\n",
    "                        driver.get(dados_jogo[1]);\n",
    "                        casa, goloj_casa, fora, goloj_fora = table_results();\n",
    "                        print(casa, goloj_casa, fora, goloj_fora);\n",
    "                        minutos_jogados : int = 0;\n",
    "                        if dados_jogo[2] == '-':\n",
    "                            minutos_jogados = [0, int(dados_jogo[3])];\n",
    "                        elif dados_jogo[2][0] == '8':\n",
    "                            get_m = dados_jogo[2].replace('\\'', '').split(' ');\n",
    "                            minutos_jogados = [0, int(get_m[1])];\n",
    "                        elif dados_jogo[2][0] == '7':\n",
    "                            get_m = dados_jogo[2].replace('\\'', '').split(' ');\n",
    "                            tt = int(dados_jogo[3]) + int(get_m[1]);\n",
    "                            minutos_jogados = [int(get_m[1]), tt];\n",
    "                        gm : int = 0;\n",
    "                        gs : int = 0;\n",
    "                        print(minutos_jogados);\n",
    "                        gm, gs = goal_comparison(files[i], casa, goloj_casa, fora, goloj_fora, minutos_jogados);\n",
    "                        tempo : int = (minutos_jogados[1] - minutos_jogados[0]);\n",
    "                        res.append([gm, tempo, gs]);\n",
    "                        print(res);\n",
    "                        path_sts : str = ('2017_2018/{}/stats/{}.sts'.format(files[i],jogadores[j][:-3]));\n",
    "                        with open(path_sts, 'a', encoding='utf-8') as f:\n",
    "                            j : int;\n",
    "                            for j in range(len(res)):\n",
    "                                t_write : str = '{},{},{}\\n'.format(res[j][0], res[j][1], res[j][2]); #gm, tempo, gs\n",
    "                                f.write(t_write);\n",
    "                    else:\n",
    "                        pass # Nao foi utilizado NU\n",
    "            else:\n",
    "                print(n_jogadores[j], \"jogador na db\");"
   ]
  },
  {
   "cell_type": "code",
   "execution_count": 7,
   "metadata": {},
   "outputs": [],
   "source": [
    "import time"
   ]
  },
  {
   "cell_type": "code",
   "execution_count": 13,
   "metadata": {},
   "outputs": [
    {
     "name": "stdout",
     "output_type": "stream",
     "text": [
      "['D,http://www.zerozero.pt/jogo.php?id=5442759,-,NU,1543\\n', \"V,http://www.zerozero.pt/jogo.php?id=5442755,8 61',61,1543\\n\", 'E,http://www.zerozero.pt/jogo.php?id=5442733,-,NU,1543\\n', 'E,http://www.zerozero.pt/jogo.php?id=5442715,-,90,1543\\n', \"V,http://www.zerozero.pt/jogo.php?id=5442710,7 84',6,1543\\n\", 'D,http://www.zerozero.pt/jogo.php?id=5442697,-,90,1543\\n', 'E,http://www.zerozero.pt/jogo.php?id=5442690,-,NU,1543\\n', \"E,http://www.zerozero.pt/jogo.php?id=5442678,7 85',5,1543\\n\", \"V,http://www.zerozero.pt/jogo.php?id=5442674,7 83',7,1543\\n\", \"V,http://www.zerozero.pt/jogo.php?id=5442660,7 73',17,1543\\n\", 'D,http://www.zerozero.pt/jogo.php?id=5442642,-,90,1543\\n', \"E,http://www.zerozero.pt/jogo.php?id=5442636,7 81',9,1543\\n\", 'E,http://www.zerozero.pt/jogo.php?id=5442606,-,90,1543\\n', 'E,http://www.zerozero.pt/jogo.php?id=5442602,-,90,1543\\n', 'D,http://www.zerozero.pt/jogo.php?id=5442591,-,90,1543\\n', 'E,http://www.zerozero.pt/jogo.php?id=5442580,-,90,1543\\n', 'D,http://www.zerozero.pt/jogo.php?id=5442562,-,90,1543\\n', 'D,http://www.zerozero.pt/jogo.php?id=5442557,-,90,1543\\n', 'V,http://www.zerozero.pt/jogo.php?id=5442544,-,90,1543\\n', 'D,http://www.zerozero.pt/jogo.php?id=5442537,-,90,1543\\n', 'V,http://www.zerozero.pt/jogo.php?id=5442525,-,90,1543\\n', 'V,http://www.zerozero.pt/jogo.php?id=5442521,-,90,1543\\n', \"V,http://www.zerozero.pt/jogo.php?id=5442507,8 71',71,1543\\n\", \"D,http://www.zerozero.pt/jogo.php?id=5442498,8 62',62,1543\\n\", 'E,http://www.zerozero.pt/jogo.php?id=5442489,-,90,1543\\n', \"D,http://www.zerozero.pt/jogo.php?id=5442483,8 46',45,1543\\n\"]\n"
     ]
    }
   ],
   "source": [
    "i, j = 0,0\n",
    "files : list = os.listdir('2017_2018');\n",
    "n_jogadores : list = os.listdir(('2017_2018/{}'.format(files[i])));\n",
    "path = ('2017_2018/{}/{}'.format(files[i],n_jogadores[j]));\n",
    "\n",
    "with open(path, 'r', encoding='utf-8') as f:\n",
    "    jogos_jogador : list = f.readlines();\n",
    "        \n",
    "print(jogos_jogador)"
   ]
  },
  {
   "cell_type": "code",
   "execution_count": 8,
   "metadata": {
    "scrolled": true
   },
   "outputs": [
    {
     "name": "stdout",
     "output_type": "stream",
     "text": [
      "11:09:14\n",
      "André Geraldes.jg jogador na db\n",
      "André Moreira.jg jogador na db\n",
      "André Sousa.jg jogador na db\n",
      "Benny.jg jogador na db\n",
      "Bouba Saré.jg jogador na db\n",
      "Bruno Pereirinha.jg jogador na db\n",
      "Cleylton.jg jogador na db\n",
      "Diogo Viana.jg jogador na db\n",
      "equipaID.link jogador na db\n",
      "Femi Balogun.jg jogador na db\n",
      "Filipe Chaby.jg jogador na db\n",
      "Filipe Mendes.jg jogador na db\n",
      "Florent Hanin.jg jogador na db\n",
      "Fredy.jg jogador na db\n",
      "Gonçalo Silva.jg jogador na db\n",
      "Hassan Yebda.jg jogador na db\n",
      "Jesús Hernández.jg jogador na db\n",
      "jogadores.jfo jogador na db\n",
      "['D', 'http://www.zerozero.pt/jogo.php?id=5442465', '-', 'NU', '0\\n']\n",
      "['D', 'http://www.zerozero.pt/jogo.php?id=5442465', '-', 'NU', '0\\n']\n",
      "-\n",
      "Juanto Ortuño.jg jogador na db\n",
      "Licá.jg jogador na db\n",
      "Marko Bakic.jg jogador na db\n",
      "Maurides.jg jogador na db\n",
      "Merlin Tandjigora.jg jogador na db\n",
      "Miguel Rosa.jg jogador na db\n",
      "Muriel Becker.jg jogador na db\n",
      "Nathan.jg jogador na db\n",
      "Nuno Tomás.jg jogador na db\n",
      "Ricardo Fernandes.jg jogador na db\n",
      "Robert Persson.jg jogador na db\n",
      "Roni Rodrigues.jg jogador na db\n"
     ]
    },
    {
     "ename": "PermissionError",
     "evalue": "[Errno 13] Permission denied: '2017_2018/Belenenses/stats'",
     "output_type": "error",
     "traceback": [
      "\u001b[1;31m---------------------------------------------------------------------------\u001b[0m",
      "\u001b[1;31mPermissionError\u001b[0m                           Traceback (most recent call last)",
      "\u001b[1;32m<ipython-input-8-820facfcc999>\u001b[0m in \u001b[0;36m<module>\u001b[1;34m\u001b[0m\n\u001b[0;32m      1\u001b[0m \u001b[0mprint\u001b[0m\u001b[1;33m(\u001b[0m\u001b[0mtime\u001b[0m\u001b[1;33m.\u001b[0m\u001b[0mstrftime\u001b[0m\u001b[1;33m(\u001b[0m\u001b[1;34m'%H:%M:%S'\u001b[0m\u001b[1;33m)\u001b[0m\u001b[1;33m)\u001b[0m\u001b[1;33m\u001b[0m\u001b[1;33m\u001b[0m\u001b[0m\n\u001b[1;32m----> 2\u001b[1;33m \u001b[0mcomparacion\u001b[0m\u001b[1;33m(\u001b[0m\u001b[1;33m)\u001b[0m\u001b[1;33m\u001b[0m\u001b[1;33m\u001b[0m\u001b[0m\n\u001b[0m\u001b[0;32m      3\u001b[0m \u001b[0mprint\u001b[0m\u001b[1;33m(\u001b[0m\u001b[0mtime\u001b[0m\u001b[1;33m.\u001b[0m\u001b[0mstrftime\u001b[0m\u001b[1;33m(\u001b[0m\u001b[1;34m'%H:%M:%S'\u001b[0m\u001b[1;33m)\u001b[0m\u001b[1;33m)\u001b[0m\u001b[1;33m\u001b[0m\u001b[1;33m\u001b[0m\u001b[0m\n",
      "\u001b[1;32m<ipython-input-5-0a3995e6a2ba>\u001b[0m in \u001b[0;36mcomparacion\u001b[1;34m()\u001b[0m\n\u001b[0;32m     11\u001b[0m             \u001b[0mpath\u001b[0m \u001b[1;33m=\u001b[0m \u001b[1;33m(\u001b[0m\u001b[1;34m'2017_2018/{}/{}'\u001b[0m\u001b[1;33m.\u001b[0m\u001b[0mformat\u001b[0m\u001b[1;33m(\u001b[0m\u001b[0mfiles\u001b[0m\u001b[1;33m[\u001b[0m\u001b[0mi\u001b[0m\u001b[1;33m]\u001b[0m\u001b[1;33m,\u001b[0m\u001b[0mn_jogadores\u001b[0m\u001b[1;33m[\u001b[0m\u001b[0mj\u001b[0m\u001b[1;33m]\u001b[0m\u001b[1;33m)\u001b[0m\u001b[1;33m)\u001b[0m\u001b[1;33m;\u001b[0m\u001b[1;33m\u001b[0m\u001b[1;33m\u001b[0m\u001b[0m\n\u001b[0;32m     12\u001b[0m             \u001b[1;32mif\u001b[0m \u001b[1;33m(\u001b[0m\u001b[0mn_jogadores\u001b[0m\u001b[1;33m[\u001b[0m\u001b[0mj\u001b[0m\u001b[1;33m]\u001b[0m\u001b[1;33m.\u001b[0m\u001b[0mreplace\u001b[0m\u001b[1;33m(\u001b[0m\u001b[1;34m'.jg'\u001b[0m\u001b[1;33m,\u001b[0m \u001b[1;34m'.sts'\u001b[0m\u001b[1;33m)\u001b[0m \u001b[1;32mnot\u001b[0m \u001b[1;32min\u001b[0m \u001b[0msave\u001b[0m\u001b[1;33m)\u001b[0m \u001b[1;32mand\u001b[0m \u001b[1;33m(\u001b[0m\u001b[0mn_jogadores\u001b[0m\u001b[1;33m[\u001b[0m\u001b[0mj\u001b[0m\u001b[1;33m]\u001b[0m \u001b[1;32mnot\u001b[0m \u001b[1;32min\u001b[0m \u001b[0mto_exclude\u001b[0m\u001b[1;33m)\u001b[0m\u001b[1;33m:\u001b[0m\u001b[1;33m\u001b[0m\u001b[1;33m\u001b[0m\u001b[0m\n\u001b[1;32m---> 13\u001b[1;33m                 \u001b[1;32mwith\u001b[0m \u001b[0mopen\u001b[0m\u001b[1;33m(\u001b[0m\u001b[0mpath\u001b[0m\u001b[1;33m,\u001b[0m \u001b[1;34m'r'\u001b[0m\u001b[1;33m,\u001b[0m \u001b[0mencoding\u001b[0m\u001b[1;33m=\u001b[0m\u001b[1;34m'utf-8'\u001b[0m\u001b[1;33m)\u001b[0m \u001b[1;32mas\u001b[0m \u001b[0mf\u001b[0m\u001b[1;33m:\u001b[0m\u001b[1;33m\u001b[0m\u001b[1;33m\u001b[0m\u001b[0m\n\u001b[0m\u001b[0;32m     14\u001b[0m                     \u001b[0mjogos_jogador\u001b[0m \u001b[1;33m:\u001b[0m \u001b[0mlist\u001b[0m \u001b[1;33m=\u001b[0m \u001b[0mf\u001b[0m\u001b[1;33m.\u001b[0m\u001b[0mreadlines\u001b[0m\u001b[1;33m(\u001b[0m\u001b[1;33m)\u001b[0m\u001b[1;33m;\u001b[0m\u001b[1;33m\u001b[0m\u001b[1;33m\u001b[0m\u001b[0m\n\u001b[0;32m     15\u001b[0m                 \u001b[0mj\u001b[0m\u001b[1;33m:\u001b[0m \u001b[0mint\u001b[0m\u001b[1;33m;\u001b[0m\u001b[1;33m\u001b[0m\u001b[1;33m\u001b[0m\u001b[0m\n",
      "\u001b[1;31mPermissionError\u001b[0m: [Errno 13] Permission denied: '2017_2018/Belenenses/stats'"
     ]
    }
   ],
   "source": [
    "print(time.strftime('%H:%M:%S'))\n",
    "comparacion()\n",
    "print(time.strftime('%H:%M:%S'))"
   ]
  },
  {
   "cell_type": "code",
   "execution_count": 25,
   "metadata": {},
   "outputs": [
    {
     "name": "stdout",
     "output_type": "stream",
     "text": [
      "in save\n"
     ]
    }
   ],
   "source": [
    "i : int = 0;\n",
    "files : list = os.listdir('2017_2018');\n",
    "save : list = os.listdir(('2017_2018/{}/stats/').format(files[i]));\n",
    "n_jogadores : list = os.listdir(('2017_2018/{}'.format(files[i])));\n",
    "if n_jogadores[0].replace('.jg', '.sts') in save:\n",
    "    print('in save')\n",
    "else:\n",
    "    print('not in save')"
   ]
  },
  {
   "cell_type": "code",
   "execution_count": 11,
   "metadata": {},
   "outputs": [
    {
     "data": {
      "text/plain": [
       "33"
      ]
     },
     "execution_count": 11,
     "metadata": {},
     "output_type": "execute_result"
    }
   ],
   "source": [
    "n_jogadores: int = len(os.listdir('2017_2018/Belenenses')) - 2\n",
    "n_jogadores"
   ]
  },
  {
   "cell_type": "code",
   "execution_count": 54,
   "metadata": {},
   "outputs": [
    {
     "name": "stdout",
     "output_type": "stream",
     "text": [
      "-\n",
      "8\n",
      "-\n",
      "-\n",
      "7\n",
      "-\n",
      "-\n",
      "7\n",
      "7\n",
      "7\n",
      "-\n",
      "7\n",
      "-\n",
      "-\n",
      "-\n",
      "-\n",
      "-\n",
      "-\n",
      "-\n",
      "-\n",
      "-\n",
      "-\n",
      "8\n",
      "8\n",
      "-\n",
      "8\n"
     ]
    }
   ],
   "source": [
    "with open('2017_2018/Belenenses/André Geraldes.jg', 'r', encoding='utf-8') as f:\n",
    "    jogos: list = f.readlines()\n",
    "    \n",
    "j : int\n",
    "for j in range(len(jogos)):\n",
    "    jogo : list = jogos[j].split(',')\n",
    "    print(jogo[2][0])"
   ]
  },
  {
   "cell_type": "code",
   "execution_count": 9,
   "metadata": {},
   "outputs": [
    {
     "ename": "NameError",
     "evalue": "name 'jogadores' is not defined",
     "output_type": "error",
     "traceback": [
      "\u001b[1;31m---------------------------------------------------------------------------\u001b[0m",
      "\u001b[1;31mNameError\u001b[0m                                 Traceback (most recent call last)",
      "\u001b[1;32m<ipython-input-9-4dd77f4439cc>\u001b[0m in \u001b[0;36m<module>\u001b[1;34m\u001b[0m\n\u001b[1;32m----> 1\u001b[1;33m \u001b[0mcomparacion\u001b[0m\u001b[1;33m(\u001b[0m\u001b[1;33m)\u001b[0m\u001b[1;33m\u001b[0m\u001b[1;33m\u001b[0m\u001b[0m\n\u001b[0m",
      "\u001b[1;32m<ipython-input-8-943ac6e2d4d9>\u001b[0m in \u001b[0;36mcomparacion\u001b[1;34m()\u001b[0m\n\u001b[0;32m     12\u001b[0m             \u001b[1;32mfor\u001b[0m \u001b[0mline\u001b[0m \u001b[1;32min\u001b[0m \u001b[0mf\u001b[0m\u001b[1;33m:\u001b[0m\u001b[1;33m\u001b[0m\u001b[1;33m\u001b[0m\u001b[0m\n\u001b[0;32m     13\u001b[0m                 \u001b[0mn_jogadors\u001b[0m \u001b[1;33m+=\u001b[0m \u001b[1;36m1\u001b[0m\u001b[1;33m\u001b[0m\u001b[1;33m\u001b[0m\u001b[0m\n\u001b[1;32m---> 14\u001b[1;33m         \u001b[1;32mfor\u001b[0m \u001b[0mj\u001b[0m \u001b[1;32min\u001b[0m \u001b[0mrange\u001b[0m\u001b[1;33m(\u001b[0m\u001b[0mlen\u001b[0m\u001b[1;33m(\u001b[0m\u001b[0mjogadores\u001b[0m\u001b[1;33m)\u001b[0m\u001b[1;33m)\u001b[0m\u001b[1;33m:\u001b[0m\u001b[1;33m\u001b[0m\u001b[1;33m\u001b[0m\u001b[0m\n\u001b[0m\u001b[0;32m     15\u001b[0m             \u001b[0mfiles\u001b[0m \u001b[1;33m=\u001b[0m \u001b[0mos\u001b[0m\u001b[1;33m.\u001b[0m\u001b[0mlistdir\u001b[0m\u001b[1;33m(\u001b[0m\u001b[1;34m'2017_2018'\u001b[0m\u001b[1;33m)\u001b[0m\u001b[1;33m;\u001b[0m \u001b[1;31m#files = Folders with team's names!\u001b[0m\u001b[1;33m\u001b[0m\u001b[1;33m\u001b[0m\u001b[0m\n\u001b[0;32m     16\u001b[0m             \u001b[1;32mif\u001b[0m \u001b[0mfiles\u001b[0m\u001b[1;33m[\u001b[0m\u001b[0mi\u001b[0m\u001b[1;33m]\u001b[0m \u001b[1;32min\u001b[0m \u001b[0mto_exclude\u001b[0m\u001b[1;33m:\u001b[0m\u001b[1;33m\u001b[0m\u001b[1;33m\u001b[0m\u001b[0m\n",
      "\u001b[1;31mNameError\u001b[0m: name 'jogadores' is not defined"
     ]
    }
   ],
   "source": [
    "comparacion()"
   ]
  },
  {
   "cell_type": "code",
   "execution_count": 4,
   "metadata": {},
   "outputs": [],
   "source": [
    "import timeit"
   ]
  },
  {
   "cell_type": "code",
   "execution_count": 18,
   "metadata": {},
   "outputs": [],
   "source": [
    "def goto_page() -> None:\n",
    "    files : list = os.listdir('2017_2018')\n",
    "    jogadores : list = os.listdir('2017_2018/{}'.format(files[0]));\n",
    "    path: str= ('2017_2018/{}/{}'.format(files[0],jogadores[0]))\n",
    "    with open(path, 'r', encoding='utf-8') as f:\n",
    "        line : str\n",
    "        for i in range(20):\n",
    "            for line in f:\n",
    "                dados_jogo : list = line.split(',')\n",
    "                driver.execute_script(\"window.open('{}', '_blank');\".format(dados_jogo[1]))"
   ]
  },
  {
   "cell_type": "code",
   "execution_count": 12,
   "metadata": {},
   "outputs": [],
   "source": [
    "import time"
   ]
  },
  {
   "cell_type": "code",
   "execution_count": 16,
   "metadata": {},
   "outputs": [
    {
     "name": "stdout",
     "output_type": "stream",
     "text": [
      "19:58:58\n",
      "['Andreas Samaris.sts', 'Andrija Zivković.sts', 'André Almeida.sts', 'André Horta.sts', 'Bruno Varela.sts', 'Chicho Arango.sts', 'Diogo Gonçalves.sts', 'Douglas.sts', 'Eliseu.sts', 'Filip Krovinović.sts', 'Filipe Augusto.sts', 'Franco Cervi.sts', 'Gabriel Barbosa.sts', 'Haris Seferović.sts', 'Jardel.sts', 'Jonas.sts', 'João Carvalho.sts', 'Júlio César.sts', 'Keaton Parks.sts', 'Lisandro López.sts', 'Ljubomir Fejsa.sts']\n",
      "Benfica [51] Moreirense []\n",
      "[70, 90]\n",
      "casa\n",
      "0,20,0\n",
      "\n",
      "Sporting [] Benfica []\n",
      "[0, 90]\n",
      "fora\n",
      "0,90,0\n",
      "\n",
      "Benfica [12, 94] Tondela [31, 39, 81]\n",
      "[0, 90]\n",
      "casa\n",
      "1,90,3\n",
      "\n",
      "Estoril Praia [63] Benfica [10, 92]\n",
      "[90, 91]\n",
      "fora\n",
      "0,1,0\n",
      "\n",
      "Benfica [] FC Porto [90]\n",
      "[74, 90]\n",
      "casa\n",
      "0,16,1\n",
      "\n",
      "V. Setúbal [4] Benfica [28, 93]\n",
      "[90, 91]\n",
      "fora\n",
      "0,1,0\n",
      "\n",
      "Feirense [] Benfica [59, 75]\n",
      "[90, 91]\n",
      "fora\n",
      "0,1,0\n",
      "\n",
      "Benfica [16, 35, 42, 22, 81] Marítimo []\n",
      "[67, 90]\n",
      "casa\n",
      "1,23,0\n",
      "\n",
      "Paços Ferreira [9] Benfica [72, 88, 95]\n",
      "[90, 91]\n",
      "fora\n",
      "0,1,0\n",
      "\n",
      "Portimonense [65] Benfica [6, 78, 95]\n",
      "[81, 90]\n",
      "fora\n",
      "0,9,0\n",
      "\n",
      "Braga [74] Benfica [11, 64, 91]\n",
      "[80, 90]\n",
      "fora\n",
      "0,10,0\n",
      "\n",
      "Moreirense [] Benfica [23, 74]\n",
      "[0, 46]\n",
      "fora\n",
      "1,46,0\n",
      "\n",
      "Tondela [75] Benfica [17, 46, 26, 60, 78]\n",
      "[68, 90]\n",
      "fora\n",
      "1,22,1\n",
      "\n",
      "Benfica [13, 18, 59] Estoril Praia [45]\n",
      "[70, 90]\n",
      "casa\n",
      "0,20,0\n",
      "\n",
      "FC Porto [] Benfica []\n",
      "[65, 90]\n",
      "fora\n",
      "0,25,0\n",
      "\n",
      "Benfica [7, 39, 66, 48, 68, 87] V. Setúbal []\n",
      "[64, 90]\n",
      "casa\n",
      "3,26,0\n",
      "\n",
      "V. Guimarães [86] Benfica [22, 76, 79]\n",
      "[64, 90]\n",
      "fora\n",
      "2,26,1\n",
      "\n",
      "Benfica [60, 78] Portimonense [56]\n",
      "[0, 90]\n",
      "casa\n",
      "2,90,1\n",
      "\n",
      "Benfica [51] Moreirense []\n",
      "[70, 90]\n",
      "casa\n",
      "0,20,0\n",
      "\n",
      "Sporting [] Benfica []\n",
      "[0, 90]\n",
      "fora\n",
      "0,90,0\n",
      "\n",
      "Benfica [12, 94] Tondela [31, 39, 81]\n",
      "[0, 90]\n",
      "casa\n",
      "1,90,3\n",
      "\n",
      "Estoril Praia [63] Benfica [10, 92]\n",
      "[90, 91]\n",
      "fora\n",
      "0,1,0\n",
      "\n",
      "Benfica [] FC Porto [90]\n",
      "[74, 90]\n",
      "casa\n",
      "0,16,1\n",
      "\n",
      "V. Setúbal [4] Benfica [28, 93]\n",
      "[90, 91]\n",
      "fora\n",
      "0,1,0\n",
      "\n",
      "Feirense [] Benfica [59, 75]\n",
      "[90, 91]\n",
      "fora\n",
      "0,1,0\n",
      "\n",
      "Benfica [16, 35, 42, 22, 81] Marítimo []\n",
      "[67, 90]\n",
      "casa\n",
      "1,23,0\n",
      "\n",
      "Paços Ferreira [9] Benfica [72, 88, 95]\n",
      "[90, 91]\n",
      "fora\n",
      "0,1,0\n",
      "\n",
      "Portimonense [65] Benfica [6, 78, 95]\n",
      "[81, 90]\n",
      "fora\n",
      "0,9,0\n",
      "\n",
      "Braga [74] Benfica [11, 64, 91]\n",
      "[80, 90]\n",
      "fora\n",
      "0,10,0\n",
      "\n",
      "Moreirense [] Benfica [23, 74]\n",
      "[0, 46]\n",
      "fora\n",
      "1,46,0\n",
      "\n",
      "Tondela [75] Benfica [17, 46, 26, 60, 78]\n",
      "[68, 90]\n",
      "fora\n",
      "1,22,1\n",
      "\n",
      "Benfica [13, 18, 59] Estoril Praia [45]\n",
      "[70, 90]\n",
      "casa\n",
      "0,20,0\n",
      "\n",
      "FC Porto [] Benfica []\n",
      "[65, 90]\n",
      "fora\n",
      "0,25,0\n",
      "\n",
      "Benfica [7, 39, 66, 48, 68, 87] V. Setúbal []\n",
      "[64, 90]\n",
      "casa\n",
      "3,26,0\n",
      "\n",
      "V. Guimarães [86] Benfica [22, 76, 79]\n",
      "[64, 90]\n",
      "fora\n",
      "2,26,1\n",
      "\n",
      "Benfica [60, 78] Portimonense [56]\n",
      "[0, 90]\n",
      "casa\n",
      "2,90,1\n",
      "\n",
      "20:02:50\n"
     ]
    }
   ],
   "source": [
    "print(time.strftime('%H:%M:%S'))\n",
    "comparacion()\n",
    "print(time.strftime('%H:%M:%S'))"
   ]
  },
  {
   "cell_type": "markdown",
   "metadata": {},
   "source": [
    "# From now on, there'll only be ¡TESTS!"
   ]
  }
 ],
 "metadata": {
  "kernelspec": {
   "display_name": "Python 3",
   "language": "python",
   "name": "python3"
  },
  "language_info": {
   "codemirror_mode": {
    "name": "ipython",
    "version": 3
   },
   "file_extension": ".py",
   "mimetype": "text/x-python",
   "name": "python",
   "nbconvert_exporter": "python",
   "pygments_lexer": "ipython3",
   "version": "3.6.8"
  }
 },
 "nbformat": 4,
 "nbformat_minor": 2
}
