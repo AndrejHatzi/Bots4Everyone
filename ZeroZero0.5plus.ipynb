{
 "cells": [
  {
   "cell_type": "code",
   "execution_count": 1,
   "metadata": {},
   "outputs": [],
   "source": [
    "# -*- coding: utf-8 -*-\n",
    "from selenium import webdriver\n",
    "from selenium.webdriver.common.keys import Keys\n",
    "from time import sleep\n",
    "import re\n",
    "import os\n",
    "import time"
   ]
  },
  {
   "cell_type": "code",
   "execution_count": 2,
   "metadata": {},
   "outputs": [],
   "source": [
    "driver = webdriver.Firefox();\n",
    "driver.get(\"http://www.zerozero.pt/player_results.php?id=159904&competicao_id=3&epoca_id=147\");\n",
    "try:\n",
    "    driver.find_element_by_xpath(\"/html/body/div[1]/div/div/div[2]/button\").click();\n",
    "except:\n",
    "    pass\n",
    "driver.refresh();"
   ]
  },
  {
   "cell_type": "markdown",
   "metadata": {},
   "source": [
    "# Functions from previous ZeroZero versions - put them here later!"
   ]
  },
  {
   "cell_type": "code",
   "execution_count": 3,
   "metadata": {},
   "outputs": [],
   "source": [
    "#Go to every player's game!\n",
    "files = os.listdir('2017_2018'); #files = Folders with team's names!\n",
    "jogadores = os.listdir('2017_2018/{}'.format(files[0]));\n",
    "path = ('2017_2018/{}/{}'.format(files[0],jogadores[0]))\n",
    "with open(path, 'r', encoding='utf-8') as f:\n",
    "    l = 0\n",
    "    for line in f:\n",
    "        if l>1:\n",
    "            break\n",
    "        else:\n",
    "            dados_jogo = line.split(',')\n",
    "            resultado, tempo_jogo = dados_jogo[2], dados_jogo[1]\n",
    "            driver.get(dados_jogo[0])\n",
    "        l += 1"
   ]
  },
  {
   "cell_type": "code",
   "execution_count": 15,
   "metadata": {},
   "outputs": [],
   "source": [
    "driver.get('http://www.zerozero.pt/jogo.php?id=5442507')"
   ]
  },
  {
   "cell_type": "code",
   "execution_count": 4,
   "metadata": {},
   "outputs": [
    {
     "name": "stdout",
     "output_type": "stream",
     "text": [
      "Belenenses,André Geraldes.jg\n"
     ]
    }
   ],
   "source": [
    "print('{},{}'.format(files[0], jogadores[0]))"
   ]
  },
  {
   "cell_type": "code",
   "execution_count": 7,
   "metadata": {},
   "outputs": [
    {
     "ename": "KeyboardInterrupt",
     "evalue": "",
     "output_type": "error",
     "traceback": [
      "\u001b[1;31m---------------------------------------------------------------------------\u001b[0m",
      "\u001b[1;31mAttributeError\u001b[0m                            Traceback (most recent call last)",
      "\u001b[1;32m<ipython-input-7-d15529e74053>\u001b[0m in \u001b[0;36m<module>\u001b[1;34m\u001b[0m\n\u001b[0;32m     19\u001b[0m     \u001b[1;32mtry\u001b[0m\u001b[1;33m:\u001b[0m\u001b[1;33m\u001b[0m\u001b[1;33m\u001b[0m\u001b[0m\n\u001b[1;32m---> 20\u001b[1;33m         \u001b[0mx\u001b[0m \u001b[1;33m=\u001b[0m \u001b[0mx\u001b[0m\u001b[1;33m.\u001b[0m\u001b[0mreplace\u001b[0m\u001b[1;33m(\u001b[0m\u001b[1;34m'(g.p.)'\u001b[0m\u001b[1;33m,\u001b[0m \u001b[1;34m''\u001b[0m\u001b[1;33m)\u001b[0m\u001b[1;33m\u001b[0m\u001b[1;33m\u001b[0m\u001b[0m\n\u001b[0m\u001b[0;32m     21\u001b[0m         \u001b[0mgolos_casa\u001b[0m\u001b[1;33m.\u001b[0m\u001b[0mappend\u001b[0m\u001b[1;33m(\u001b[0m\u001b[0mx\u001b[0m\u001b[1;33m)\u001b[0m\u001b[1;33m\u001b[0m\u001b[1;33m\u001b[0m\u001b[0m\n",
      "\u001b[1;31mAttributeError\u001b[0m: 'FirefoxWebElement' object has no attribute 'replace'",
      "\nDuring handling of the above exception, another exception occurred:\n",
      "\u001b[1;31mKeyboardInterrupt\u001b[0m                         Traceback (most recent call last)",
      "\u001b[1;32m<ipython-input-7-d15529e74053>\u001b[0m in \u001b[0;36m<module>\u001b[1;34m\u001b[0m\n\u001b[0;32m     21\u001b[0m         \u001b[0mgolos_casa\u001b[0m\u001b[1;33m.\u001b[0m\u001b[0mappend\u001b[0m\u001b[1;33m(\u001b[0m\u001b[0mx\u001b[0m\u001b[1;33m)\u001b[0m\u001b[1;33m\u001b[0m\u001b[1;33m\u001b[0m\u001b[0m\n\u001b[0;32m     22\u001b[0m     \u001b[1;32mexcept\u001b[0m\u001b[1;33m:\u001b[0m\u001b[1;33m\u001b[0m\u001b[1;33m\u001b[0m\u001b[0m\n\u001b[1;32m---> 23\u001b[1;33m         \u001b[0mgolos_casa\u001b[0m\u001b[1;33m.\u001b[0m\u001b[0mappend\u001b[0m\u001b[1;33m(\u001b[0m\u001b[0mx\u001b[0m\u001b[1;33m)\u001b[0m\u001b[1;33m\u001b[0m\u001b[1;33m\u001b[0m\u001b[0m\n\u001b[0m\u001b[0;32m     24\u001b[0m \u001b[1;31m#golos_casa=[try:x.text.replace('(g.p.)');except:pass for x in golos_casa]\u001b[0m\u001b[1;33m\u001b[0m\u001b[1;33m\u001b[0m\u001b[1;33m\u001b[0m\u001b[0m\n\u001b[0;32m     25\u001b[0m \u001b[1;31m#golos_fora=[(x.text) for x in golos_fora]\u001b[0m\u001b[1;33m\u001b[0m\u001b[1;33m\u001b[0m\u001b[1;33m\u001b[0m\u001b[0m\n",
      "\u001b[1;31mKeyboardInterrupt\u001b[0m: "
     ]
    }
   ],
   "source": [
    "try:\n",
    "    casa=driver.find_element_by_xpath(\"/html/body/div[7]/div[3]/div[6]/div/div[1]/div[1]/div/div[2]/div[2]/div[1]/div[1]/a\")\n",
    "    fora=driver.find_element_by_xpath(\"/html/body/div[7]/div[3]/div[6]/div/div[1]/div[1]/div/div[2]/div[2]/div[3]/div[1]/a\")\n",
    "    golos_casa=driver.find_elements_by_xpath(\"/html/body/div[7]/div[3]/div[6]/div/div[1]/div[1]/div/div[2]/div[2]/div[1]/div[2]/span/span/span[*]/span\")\n",
    "    golos_fora=driver.find_elements_by_xpath(\"/html/body/div[7]/div[3]/div[6]/div/div[1]/div[1]/div/div[2]/div[2]/div[3]/div[2]/span/span/span[*]/span\")\n",
    "except:\n",
    "    pass\n",
    "\n",
    "try:\n",
    "    casa=driver.find_element_by_xpath(\"/html/body/div[6]/div[3]/div[6]/div/div[1]/div[1]/div/div[2]/div[2]/div[1]/div[1]/a\")\n",
    "    fora=driver.find_element_by_xpath(\"/html/body/div[6]/div[3]/div[6]/div/div[1]/div[1]/div/div[2]/div[2]/div[3]/div[1]/a\")\n",
    "    golos_casa=driver.find_elements_by_xpath(\"/html/body/div[6]/div[3]/div[6]/div/div[1]/div[1]/div/div[2]/div[2]/div[1]/div[2]/span/span/span[*]/span\")\n",
    "    golos_fora=driver.find_elements_by_xpath(\"/html/body/div[6]/div[3]/div[6]/div/div[1]/div[1]/div/div[2]/div[2]/div[3]/div[2]/span/span/span[*]/span\")\n",
    "except:\n",
    "    pass\n",
    "\n",
    "goloj_casa = []\n",
    "for x in golos_casa:\n",
    "    try:\n",
    "        x = x.replace('(g.p.)', '')\n",
    "        golos_casa.append(x)\n",
    "    except:\n",
    "        golos_casa.append(x)\n",
    "#golos_casa=[try:x.text.replace('(g.p.)');except:pass for x in golos_casa]\n",
    "#golos_fora=[(x.text) for x in golos_fora]\n",
    "\n",
    "print(casa.text,golos_casa, fora.text, golos_fora)"
   ]
  },
  {
   "cell_type": "code",
   "execution_count": 22,
   "metadata": {
    "scrolled": false
   },
   "outputs": [
    {
     "name": "stdout",
     "output_type": "stream",
     "text": [
      "Belenenses : [29, 81, 57] , Portimonense : [14, 39]\n"
     ]
    }
   ],
   "source": [
    "try:\n",
    "    casa=driver.find_element_by_xpath(\"/html/body/div[7]/div[3]/div[6]/div/div[1]/div[1]/div/div[2]/div[2]/div[1]/div[1]/a\")\n",
    "    fora=driver.find_element_by_xpath(\"/html/body/div[7]/div[3]/div[6]/div/div[1]/div[1]/div/div[2]/div[2]/div[3]/div[1]/a\")\n",
    "    golos_casa=driver.find_elements_by_xpath(\"/html/body/div[7]/div[3]/div[6]/div/div[1]/div[1]/div/div[2]/div[2]/div[1]/div[2]/span/span/span[*]/span\")\n",
    "    golos_fora=driver.find_elements_by_xpath(\"/html/body/div[7]/div[3]/div[6]/div/div[1]/div[1]/div/div[2]/div[2]/div[3]/div[2]/span/span/span[*]/span\")\n",
    "except:\n",
    "    pass\n",
    "\n",
    "try:\n",
    "    casa=driver.find_element_by_xpath(\"/html/body/div[6]/div[3]/div[6]/div/div[1]/div[1]/div/div[2]/div[2]/div[1]/div[1]/a\")\n",
    "    fora=driver.find_element_by_xpath(\"/html/body/div[6]/div[3]/div[6]/div/div[1]/div[1]/div/div[2]/div[2]/div[3]/div[1]/a\")\n",
    "    golos_casa=driver.find_elements_by_xpath(\"/html/body/div[6]/div[3]/div[6]/div/div[1]/div[1]/div/div[2]/div[2]/div[1]/div[2]/span/span/span[*]/span\")\n",
    "    golos_fora=driver.find_elements_by_xpath(\"/html/body/div[6]/div[3]/div[6]/div/div[1]/div[1]/div/div[2]/div[2]/div[3]/div[2]/span/span/span[*]/span\")\n",
    "except:\n",
    "    pass\n",
    "\n",
    "goloj_casa, goloj_fora = [], []\n",
    "\n",
    "for x in golos_casa:\n",
    "    y = x.text\n",
    "    y = y.replace(' (g.p.)', '').split(' ')\n",
    "    l = len(y)\n",
    "    if l>0:\n",
    "        for e in range(len(y)):\n",
    "            goloj_casa.append(eval(y[e]))\n",
    "            \n",
    "for x in golos_fora:\n",
    "    y = x.text\n",
    "    y = y.replace(' (g.p.)', '').split(' ')\n",
    "    l = len(y)\n",
    "    if l>0:\n",
    "        for e in range(len(y)):\n",
    "            goloj_fora.append(eval(y[e]))\n",
    "            \n",
    "print(casa.text,':',goloj_casa, ',', fora.text,':',goloj_fora)"
   ]
  },
  {
   "cell_type": "code",
   "execution_count": 23,
   "metadata": {
    "scrolled": true
   },
   "outputs": [
    {
     "name": "stdout",
     "output_type": "stream",
     "text": [
      "It's equal to the home team\n"
     ]
    }
   ],
   "source": []
  },
  {
   "cell_type": "code",
   "execution_count": 25,
   "metadata": {},
   "outputs": [
    {
     "name": "stdout",
     "output_type": "stream",
     "text": [
      "André Geraldes.jg http://www.zerozero.pt/jogo.php?id=5442755 8 61' V\n",
      "\n",
      "8 61'\n"
     ]
    }
   ],
   "source": [
    "print(jogadores[0], dados_jogo[0], dados_jogo[1], dados_jogo[2])\n",
    "print(dados_jogo[1])"
   ]
  },
  {
   "cell_type": "code",
   "execution_count": 27,
   "metadata": {
    "scrolled": true
   },
   "outputs": [
    {
     "name": "stdout",
     "output_type": "stream",
     "text": [
      "[0, 61]\n"
     ]
    }
   ],
   "source": [
    "# 7 ==> Entrou\n",
    "# 8 ==> Saiu\n",
    "## Belenenses : [29, 81, 57] , Portimonense : [14, 39]\n",
    "minutos_jogados = 0\n",
    "if dados_jogo[1] == '-':\n",
    "    minutos_jogados = [0, 100]\n",
    "elif dados_jogo[1][0] == '8':\n",
    "    get_m = dados_jogo[1].replace('\\'', '').split(' ')\n",
    "    minutos_jogados = [0, int(get_m[1])]\n",
    "elif dados_jogos[1][0] == '7':\n",
    "    get_m = dados_jogo[1].replace('\\'', '').split(' ')\n",
    "    minutos_jogados = [int(get_m[1]), 100]\n",
    "    \n",
    "print(minutos_jogados)"
   ]
  },
  {
   "cell_type": "code",
   "execution_count": 48,
   "metadata": {},
   "outputs": [
    {
     "name": "stdout",
     "output_type": "stream",
     "text": [
      "-0.8\n"
     ]
    }
   ],
   "source": [
    "#Using the Hatzing method to classify player's team play and value\n",
    "#The Hatzing method = 0, 0.1, 0.2, 0.4 ... \n",
    "exp = 0\n",
    "path = \n",
    "if files[0] == casa.text:\n",
    "    for g in range(len(goloj_casa)):\n",
    "        if (goloj_casa[g] >= minutos_jogados[0]) and (goloj_casa[g] <= minutos_jogados[1]):\n",
    "            exp += 0.1\n",
    "        else:\n",
    "            exp -= 0.2\n",
    "    for g in range(len(goloj_fora)):\n",
    "        if (goloj_fora[g] >= minutos_jogados[0]) and (goloj_fora[g] <= minutos_jogados[1]):\n",
    "            exp -= 0.4\n",
    "        else:\n",
    "            exp += 0.4\n",
    "else:\n",
    "    print('Error')\n",
    "with open('' , 'a') as f:\n",
    "    f.write(exp)"
   ]
  }
 ],
 "metadata": {
  "kernelspec": {
   "display_name": "Python 3",
   "language": "python",
   "name": "python3"
  },
  "language_info": {
   "codemirror_mode": {
    "name": "ipython",
    "version": 3
   },
   "file_extension": ".py",
   "mimetype": "text/x-python",
   "name": "python",
   "nbconvert_exporter": "python",
   "pygments_lexer": "ipython3",
   "version": "3.6.8"
  }
 },
 "nbformat": 4,
 "nbformat_minor": 2
}
