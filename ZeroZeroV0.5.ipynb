{
 "cells": [
  {
   "cell_type": "code",
   "execution_count": 2,
   "metadata": {},
   "outputs": [],
   "source": [
    "# -*- coding: utf-8 -*-\n",
    "from selenium import webdriver\n",
    "from selenium.webdriver.common.keys import Keys\n",
    "from time import sleep\n",
    "import re\n",
    "import os\n",
    "import time"
   ]
  },
  {
   "cell_type": "code",
   "execution_count": 3,
   "metadata": {},
   "outputs": [],
   "source": [
    "driver = webdriver.Firefox();\n",
    "driver.get(\"http://www.zerozero.pt/player_results.php?id=159904&competicao_id=3&epoca_id=147\");\n",
    "try:\n",
    "    driver.find_element_by_xpath(\"/html/body/div[1]/div/div/div[2]/button\").click();\n",
    "except:\n",
    "    pass\n",
    "driver.refresh();"
   ]
  },
  {
   "cell_type": "code",
   "execution_count": 25,
   "metadata": {},
   "outputs": [],
   "source": [
    "files = os.listdir('2017_2018');\n",
    "jogadores = os.listdir('2017_2018/{}'.format(files[0]));\n",
    "path = ('2017_2018/{}/{}'.format(files[0],jogadores[0]))\n",
    "with open(path, 'r', encoding='utf-8') as f:\n",
    "    l = 0\n",
    "    for line in f:\n",
    "        if l>0:\n",
    "            break\n",
    "        else:\n",
    "            dados_jogo = line.split(',')\n",
    "            resultado, tempo_jogo = dados_jogo[2], dados_jogo[1]\n",
    "            driver.get(dados_jogo[0])\n",
    "        l += 1"
   ]
  },
  {
   "cell_type": "code",
   "execution_count": 4,
   "metadata": {},
   "outputs": [],
   "source": [
    "driver.get('http://www.zerozero.pt/jogo.php?id=5442637')"
   ]
  },
  {
   "cell_type": "code",
   "execution_count": 63,
   "metadata": {
    "scrolled": true
   },
   "outputs": [
    {
     "name": "stdout",
     "output_type": "stream",
     "text": [
      "['43 Mateus 80 Yusupha Njie', 'Éverton Nascimento 8']\n"
     ]
    }
   ],
   "source": [
    "scorers = []\n",
    "score,quemMarcou = driver.find_element_by_class_name('score').text, driver.find_elements_by_class_name('scorers')\n",
    "for e in range(len(quemMarcou)):\n",
    "    quemMarcou[e] = quemMarcou[e].text.replace('\\n', ' ')\n",
    "    scorers.append(quemMarcou[e])\n",
    "#score = score[:3]\n",
    "#score = score.split('-')\n",
    "golos = max(score)\n",
    "#print(quemMarcou)\n",
    "#marcadores = quemMarcou.split('\\n')\n",
    "#print(marcadores)\n",
    "print(scorers)"
   ]
  },
  {
   "cell_type": "code",
   "execution_count": 42,
   "metadata": {
    "scrolled": false
   },
   "outputs": [
    {
     "name": "stdout",
     "output_type": "stream",
     "text": [
      "André Geraldes\n"
     ]
    }
   ],
   "source": [
    "print(str(jogadores[0][:-3]))"
   ]
  },
  {
   "cell_type": "code",
   "execution_count": 24,
   "metadata": {},
   "outputs": [
    {
     "name": "stdout",
     "output_type": "stream",
     "text": [
      "12\n"
     ]
    }
   ],
   "source": [
    "for j in range(len(marcadores)):\n",
    "    jogador = marcardores.split(' ');\n",
    "    if str(jogadores[0][:-3]) == jogador[1]:\n",
    "        pass"
   ]
  },
  {
   "cell_type": "code",
   "execution_count": 8,
   "metadata": {
    "scrolled": true
   },
   "outputs": [
    {
     "name": "stdout",
     "output_type": "stream",
     "text": [
      "Boavista [43, 80] Marítimo [8]\n"
     ]
    }
   ],
   "source": [
    "casa=driver.find_element_by_xpath(\"/html/body/div[6]/div[3]/div[6]/div/div[1]/div[1]/div/div[2]/div[2]/div[1]/div[1]/a\")\n",
    "fora=driver.find_element_by_xpath(\"/html/body/div[6]/div[3]/div[6]/div/div[1]/div[1]/div/div[2]/div[2]/div[3]/div[1]/a\")\n",
    "golos_casa=driver.find_elements_by_xpath(\"/html/body/div[6]/div[3]/div[6]/div/div[1]/div[1]/div/div[2]/div[2]/div[1]/div[2]/span/span/span[*]/span\")\n",
    "golos_casa=[eval(x.text) for x in golos_casa]\n",
    "golos_fora=driver.find_elements_by_xpath(\"/html/body/div[6]/div[3]/div[6]/div/div[1]/div[1]/div/div[2]/div[2]/div[3]/div[2]/span/span/span[*]/span\")\n",
    "golos_fora=[eval(x.text) for x in golos_fora]\n",
    "print(casa.text,golos_casa, fora.text, golos_fora)"
   ]
  }
 ],
 "metadata": {
  "kernelspec": {
   "display_name": "Python 3",
   "language": "python",
   "name": "python3"
  },
  "language_info": {
   "codemirror_mode": {
    "name": "ipython",
    "version": 3
   },
   "file_extension": ".py",
   "mimetype": "text/x-python",
   "name": "python",
   "nbconvert_exporter": "python",
   "pygments_lexer": "ipython3",
   "version": "3.7.1"
  }
 },
 "nbformat": 4,
 "nbformat_minor": 2
}
